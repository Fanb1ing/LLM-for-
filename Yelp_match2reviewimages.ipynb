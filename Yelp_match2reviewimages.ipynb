{
 "cells": [
  {
   "cell_type": "code",
   "execution_count": 2,
   "outputs": [],
   "source": [
    "import json\n",
    "import pandas as pd\n",
    "import folium\n",
    "import geopandas as gpd\n",
    "import numpy as np\n",
    "import matplotlib.pyplot as plt\n",
    "import pickle\n",
    "import tqdm\n",
    "import ast\n",
    "import time\n",
    "import os\n",
    "import csv \n",
    "from shapely.geometry import Point\n",
    "from numpy import radians, sin, cos, arcsin, sqrt\n",
    "import seaborn as sns\n",
    "import branca.colormap as cm\n",
    "import shutil"
   ],
   "metadata": {
    "collapsed": false,
    "ExecuteTime": {
     "end_time": "2024-04-24T15:09:29.676007100Z",
     "start_time": "2024-04-24T15:09:28.582432700Z"
    }
   }
  },
  {
   "cell_type": "markdown",
   "source": [
    "# 合并Review"
   ],
   "metadata": {
    "collapsed": false
   }
  },
  {
   "cell_type": "markdown",
   "source": [
    "### 读入所用bussiness的review\n",
    "\n",
    "['review_id', 'user_id', 'business_id', 'stars', 'useful', 'funny',\n",
    "       'cool', 'text', 'date']\n",
    "总共6990280行"
   ],
   "metadata": {
    "collapsed": false
   }
  },
  {
   "cell_type": "code",
   "execution_count": 34,
   "outputs": [
    {
     "name": "stdout",
     "output_type": "stream",
     "text": [
      "(6990280, 9)\n",
      "Index(['review_id', 'user_id', 'business_id', 'stars', 'useful', 'funny',\n",
      "       'cool', 'text', 'date'],\n",
      "      dtype='object')\n"
     ]
    },
    {
     "data": {
      "text/html": [
       "<div>\n",
       "<style scoped>\n",
       "    .dataframe tbody tr th:only-of-type {\n",
       "        vertical-align: middle;\n",
       "    }\n",
       "\n",
       "    .dataframe tbody tr th {\n",
       "        vertical-align: top;\n",
       "    }\n",
       "\n",
       "    .dataframe thead th {\n",
       "        text-align: right;\n",
       "    }\n",
       "</style>\n",
       "<table border=\"1\" class=\"dataframe\">\n",
       "  <thead>\n",
       "    <tr style=\"text-align: right;\">\n",
       "      <th></th>\n",
       "      <th>review_id</th>\n",
       "      <th>user_id</th>\n",
       "      <th>business_id</th>\n",
       "      <th>stars</th>\n",
       "      <th>useful</th>\n",
       "      <th>funny</th>\n",
       "      <th>cool</th>\n",
       "      <th>text</th>\n",
       "      <th>date</th>\n",
       "    </tr>\n",
       "  </thead>\n",
       "  <tbody>\n",
       "    <tr>\n",
       "      <th>0</th>\n",
       "      <td>KU_O5udG6zpxOg-VcAEodg</td>\n",
       "      <td>mh_-eMZ6K5RLWhZyISBhwA</td>\n",
       "      <td>XQfwVwDr-v0ZS3_CbbE5Xw</td>\n",
       "      <td>3.0</td>\n",
       "      <td>0</td>\n",
       "      <td>0</td>\n",
       "      <td>0</td>\n",
       "      <td>If you decide to eat here, just be aware it is...</td>\n",
       "      <td>2018-07-07 22:09:11</td>\n",
       "    </tr>\n",
       "    <tr>\n",
       "      <th>1</th>\n",
       "      <td>BiTunyQ73aT9WBnpR9DZGw</td>\n",
       "      <td>OyoGAe7OKpv6SyGZT5g77Q</td>\n",
       "      <td>7ATYjTIgM3jUlt4UM3IypQ</td>\n",
       "      <td>5.0</td>\n",
       "      <td>1</td>\n",
       "      <td>0</td>\n",
       "      <td>1</td>\n",
       "      <td>I've taken a lot of spin classes over the year...</td>\n",
       "      <td>2012-01-03 15:28:18</td>\n",
       "    </tr>\n",
       "    <tr>\n",
       "      <th>2</th>\n",
       "      <td>saUsX_uimxRlCVr67Z4Jig</td>\n",
       "      <td>8g_iMtfSiwikVnbP2etR0A</td>\n",
       "      <td>YjUWPpI6HXG530lwP-fb2A</td>\n",
       "      <td>3.0</td>\n",
       "      <td>0</td>\n",
       "      <td>0</td>\n",
       "      <td>0</td>\n",
       "      <td>Family diner. Had the buffet. Eclectic assortm...</td>\n",
       "      <td>2014-02-05 20:30:30</td>\n",
       "    </tr>\n",
       "    <tr>\n",
       "      <th>3</th>\n",
       "      <td>AqPFMleE6RsU23_auESxiA</td>\n",
       "      <td>_7bHUi9Uuf5__HHc_Q8guQ</td>\n",
       "      <td>kxX2SOes4o-D3ZQBkiMRfA</td>\n",
       "      <td>5.0</td>\n",
       "      <td>1</td>\n",
       "      <td>0</td>\n",
       "      <td>1</td>\n",
       "      <td>Wow!  Yummy, different,  delicious.   Our favo...</td>\n",
       "      <td>2015-01-04 00:01:03</td>\n",
       "    </tr>\n",
       "    <tr>\n",
       "      <th>4</th>\n",
       "      <td>Sx8TMOWLNuJBWer-0pcmoA</td>\n",
       "      <td>bcjbaE6dDog4jkNY91ncLQ</td>\n",
       "      <td>e4Vwtrqf-wpJfwesgvdgxQ</td>\n",
       "      <td>4.0</td>\n",
       "      <td>1</td>\n",
       "      <td>0</td>\n",
       "      <td>1</td>\n",
       "      <td>Cute interior and owner (?) gave us tour of up...</td>\n",
       "      <td>2017-01-14 20:54:15</td>\n",
       "    </tr>\n",
       "  </tbody>\n",
       "</table>\n",
       "</div>"
      ],
      "text/plain": [
       "                review_id                 user_id             business_id  \\\n",
       "0  KU_O5udG6zpxOg-VcAEodg  mh_-eMZ6K5RLWhZyISBhwA  XQfwVwDr-v0ZS3_CbbE5Xw   \n",
       "1  BiTunyQ73aT9WBnpR9DZGw  OyoGAe7OKpv6SyGZT5g77Q  7ATYjTIgM3jUlt4UM3IypQ   \n",
       "2  saUsX_uimxRlCVr67Z4Jig  8g_iMtfSiwikVnbP2etR0A  YjUWPpI6HXG530lwP-fb2A   \n",
       "3  AqPFMleE6RsU23_auESxiA  _7bHUi9Uuf5__HHc_Q8guQ  kxX2SOes4o-D3ZQBkiMRfA   \n",
       "4  Sx8TMOWLNuJBWer-0pcmoA  bcjbaE6dDog4jkNY91ncLQ  e4Vwtrqf-wpJfwesgvdgxQ   \n",
       "\n",
       "   stars  useful  funny  cool  \\\n",
       "0    3.0       0      0     0   \n",
       "1    5.0       1      0     1   \n",
       "2    3.0       0      0     0   \n",
       "3    5.0       1      0     1   \n",
       "4    4.0       1      0     1   \n",
       "\n",
       "                                                text                 date  \n",
       "0  If you decide to eat here, just be aware it is...  2018-07-07 22:09:11  \n",
       "1  I've taken a lot of spin classes over the year...  2012-01-03 15:28:18  \n",
       "2  Family diner. Had the buffet. Eclectic assortm...  2014-02-05 20:30:30  \n",
       "3  Wow!  Yummy, different,  delicious.   Our favo...  2015-01-04 00:01:03  \n",
       "4  Cute interior and owner (?) gave us tour of up...  2017-01-14 20:54:15  "
      ]
     },
     "execution_count": 34,
     "metadata": {},
     "output_type": "execute_result"
    }
   ],
   "source": [
    "yelp_path='/data2/fanbingbing/data/Yelp/'\n",
    "yelp_reviews_file_name = 'yelp_academic_dataset_review.json'\n",
    "yelp_reviews_file_path = yelp_path+yelp_reviews_file_name\n",
    "\n",
    "#json文件有多行 读取数据时要逐行阅读\n",
    "all_data_temp=[]\n",
    "business_id_temp=[]\n",
    "with open(yelp_reviews_file_path, 'r', encoding='utf-8') as file:\n",
    "    for line in file:\n",
    "        try:\n",
    "            data_temp = json.loads(line)\n",
    "            all_data_temp.append(data_temp)\n",
    "        except json.JSONDecodeError as e: #没有报错\n",
    "            print(f\"Error parsing JSON object on line: {file.lineno()} - {e}\")\n",
    "review_df = pd.DataFrame(all_data_temp)    \n",
    "\n",
    "print(review_df.shape)\n",
    "print(review_df.columns)\n",
    "review_df.head(5)"
   ],
   "metadata": {
    "collapsed": false
   }
  },
  {
   "cell_type": "markdown",
   "source": [
    "### 筛选费城中review\n",
    "关于费城5363个poi有491934行"
   ],
   "metadata": {
    "collapsed": false
   }
  },
  {
   "cell_type": "code",
   "execution_count": 35,
   "metadata": {},
   "outputs": [
    {
     "name": "stdout",
     "output_type": "stream",
     "text": [
      "(491934, 9)\n"
     ]
    },
    {
     "data": {
      "text/html": [
       "<div>\n",
       "<style scoped>\n",
       "    .dataframe tbody tr th:only-of-type {\n",
       "        vertical-align: middle;\n",
       "    }\n",
       "\n",
       "    .dataframe tbody tr th {\n",
       "        vertical-align: top;\n",
       "    }\n",
       "\n",
       "    .dataframe thead th {\n",
       "        text-align: right;\n",
       "    }\n",
       "</style>\n",
       "<table border=\"1\" class=\"dataframe\">\n",
       "  <thead>\n",
       "    <tr style=\"text-align: right;\">\n",
       "      <th></th>\n",
       "      <th>review_id</th>\n",
       "      <th>user_id</th>\n",
       "      <th>business_id</th>\n",
       "      <th>stars</th>\n",
       "      <th>useful</th>\n",
       "      <th>funny</th>\n",
       "      <th>cool</th>\n",
       "      <th>text</th>\n",
       "      <th>date</th>\n",
       "    </tr>\n",
       "  </thead>\n",
       "  <tbody>\n",
       "    <tr>\n",
       "      <th>0</th>\n",
       "      <td>JN5jOx0ZFxCVogc03xwFXA</td>\n",
       "      <td>NPeWmBJvrd6eObuqzd9ExQ</td>\n",
       "      <td>-0M0b-XhtFagyLmsBtOe8w</td>\n",
       "      <td>4.0</td>\n",
       "      <td>1</td>\n",
       "      <td>1</td>\n",
       "      <td>1</td>\n",
       "      <td>I like Paris. I like wine. Turns out they have...</td>\n",
       "      <td>2013-01-27 16:16:21</td>\n",
       "    </tr>\n",
       "    <tr>\n",
       "      <th>1</th>\n",
       "      <td>araJ6c0YDNnFx-M6Odqi9g</td>\n",
       "      <td>7V5r7JoEPmN_AugXccs6gg</td>\n",
       "      <td>-0M0b-XhtFagyLmsBtOe8w</td>\n",
       "      <td>5.0</td>\n",
       "      <td>0</td>\n",
       "      <td>0</td>\n",
       "      <td>0</td>\n",
       "      <td>My wife and I celebrated our 16th wedding anni...</td>\n",
       "      <td>2016-01-30 03:25:06</td>\n",
       "    </tr>\n",
       "    <tr>\n",
       "      <th>2</th>\n",
       "      <td>vKntnXD7lSzamRZ993cZ-A</td>\n",
       "      <td>TsCxKoUlhNfKY1Rt87_-Wg</td>\n",
       "      <td>-0M0b-XhtFagyLmsBtOe8w</td>\n",
       "      <td>4.0</td>\n",
       "      <td>0</td>\n",
       "      <td>0</td>\n",
       "      <td>0</td>\n",
       "      <td>I've liked London (the connected bar/restauran...</td>\n",
       "      <td>2012-02-18 15:39:10</td>\n",
       "    </tr>\n",
       "    <tr>\n",
       "      <th>3</th>\n",
       "      <td>MVYGAV-5kUREFRR9Kw0BcQ</td>\n",
       "      <td>exDOIbSQ2S5hSwewrs1MVw</td>\n",
       "      <td>-0M0b-XhtFagyLmsBtOe8w</td>\n",
       "      <td>3.0</td>\n",
       "      <td>1</td>\n",
       "      <td>0</td>\n",
       "      <td>1</td>\n",
       "      <td>It's a little hard to tell the difference betw...</td>\n",
       "      <td>2012-03-14 17:05:44</td>\n",
       "    </tr>\n",
       "    <tr>\n",
       "      <th>4</th>\n",
       "      <td>WNImBm6BR2I6U19R4jTz0g</td>\n",
       "      <td>N9hqTPQu2bmI8c2Pj8F1ww</td>\n",
       "      <td>-0M0b-XhtFagyLmsBtOe8w</td>\n",
       "      <td>4.0</td>\n",
       "      <td>7</td>\n",
       "      <td>3</td>\n",
       "      <td>5</td>\n",
       "      <td>Wine up! It's about to get real: The time has ...</td>\n",
       "      <td>2015-06-24 22:10:39</td>\n",
       "    </tr>\n",
       "  </tbody>\n",
       "</table>\n",
       "</div>"
      ],
      "text/plain": [
       "                review_id                 user_id             business_id  \\\n",
       "0  JN5jOx0ZFxCVogc03xwFXA  NPeWmBJvrd6eObuqzd9ExQ  -0M0b-XhtFagyLmsBtOe8w   \n",
       "1  araJ6c0YDNnFx-M6Odqi9g  7V5r7JoEPmN_AugXccs6gg  -0M0b-XhtFagyLmsBtOe8w   \n",
       "2  vKntnXD7lSzamRZ993cZ-A  TsCxKoUlhNfKY1Rt87_-Wg  -0M0b-XhtFagyLmsBtOe8w   \n",
       "3  MVYGAV-5kUREFRR9Kw0BcQ  exDOIbSQ2S5hSwewrs1MVw  -0M0b-XhtFagyLmsBtOe8w   \n",
       "4  WNImBm6BR2I6U19R4jTz0g  N9hqTPQu2bmI8c2Pj8F1ww  -0M0b-XhtFagyLmsBtOe8w   \n",
       "\n",
       "   stars  useful  funny  cool  \\\n",
       "0    4.0       1      1     1   \n",
       "1    5.0       0      0     0   \n",
       "2    4.0       0      0     0   \n",
       "3    3.0       1      0     1   \n",
       "4    4.0       7      3     5   \n",
       "\n",
       "                                                text                 date  \n",
       "0  I like Paris. I like wine. Turns out they have...  2013-01-27 16:16:21  \n",
       "1  My wife and I celebrated our 16th wedding anni...  2016-01-30 03:25:06  \n",
       "2  I've liked London (the connected bar/restauran...  2012-02-18 15:39:10  \n",
       "3  It's a little hard to tell the difference betw...  2012-03-14 17:05:44  \n",
       "4  Wine up! It's about to get real: The time has ...  2015-06-24 22:10:39  "
      ]
     },
     "execution_count": 35,
     "metadata": {},
     "output_type": "execute_result"
    }
   ],
   "source": [
    "#只保留费城这些地点的review\n",
    "result_df= pd.read_csv('/data2/fanbingbing/data/segregation/philadelphia/philadelphia_poi_with_yelp.csv')\n",
    "filtered_review_df = review_df[review_df['business_id'].isin(result_df['business_id'])]\n",
    "del review_df\n",
    "filtered_review_df.sort_values(by='business_id', inplace=True)\n",
    "filtered_review_df.reset_index(drop=True, inplace=True)\n",
    "\n",
    "print(filtered_review_df.shape)\n",
    "filtered_review_df.head()"
   ]
  },
  {
   "cell_type": "markdown",
   "metadata": {},
   "source": [
    "### 将review整理到result_df中\n",
    "\n",
    "/data2/fanbingbing/data/segregation/philadelphia/philadelphia_poi_with_yelp_review.csv\n",
    "\n",
    "['placekey', 'sum_visitors', 'poi_cbg', 'distance_from_home', 'latitude',\n",
    "       'longitude', 'poi_category', 'poi_tract',\n",
    "       'same_category_number_in_tract', 'visitor_home_cbgs',\n",
    "       'visitor_home_cbgs_income_level', 'visitor_home_cbgs_income_proportion',\n",
    "       'segregation_index', 'location_name', 'business_id', 'name', 'address',\n",
    "       'stars', 'review_count', 'is_open', 'attributes', 'categories', 'hours',\n",
    "       'different_cbg_num', 'review', 'review_num']\n",
    "       "
   ]
  },
  {
   "cell_type": "code",
   "execution_count": 0,
   "metadata": {},
   "outputs": [],
   "source": [
    "# 根据business_id进行分组\n",
    "grouped = filtered_review_df.groupby('business_id')\n",
    "\n",
    "# 初始化result_df，假设它原来没有'review'列\n",
    "result_df['review'] = None\n",
    "\n",
    "# 遍历每个分组，并转换为字典列表\n",
    "for business_id, group in tqdm.tqdm(grouped):\n",
    "    # 找到result_df中对应的行\n",
    "    corresponding_rows = result_df[result_df['business_id'] == business_id]\n",
    "    if not corresponding_rows.empty:\n",
    "        # 将filtered_review_df中的行转换为字典列表\n",
    "        review_list = []\n",
    "        for index, row in group.iterrows():\n",
    "            review_dict = {\n",
    "                'stars': row['stars'],\n",
    "                'useful': row['useful'],\n",
    "                'funny': row['funny'],\n",
    "                'cool': row['cool'],\n",
    "                'text': row['text'],\n",
    "                'date': row['date']\n",
    "            }\n",
    "            review_list.append(review_dict)\n",
    "        for index, row in corresponding_rows.iterrows():\n",
    "            result_df.at[index, 'review'] = review_list \n",
    "            #这样就可以把列表赋给某行某列了"
   ]
  },
  {
   "cell_type": "code",
   "execution_count": 34,
   "outputs": [
    {
     "ename": "KeyboardInterrupt",
     "evalue": "",
     "output_type": "error",
     "traceback": [
      "\u001B[0;31m---------------------------------------------------------------------------\u001B[0m",
      "\u001B[0;31mKeyboardInterrupt\u001B[0m                         Traceback (most recent call last)",
      "\u001B[0;32m<ipython-input-34-5aa66338f419>\u001B[0m in \u001B[0;36m<module>\u001B[0;34m\u001B[0m\n\u001B[0;32m----> 1\u001B[0;31m \u001B[0mresult_df\u001B[0m\u001B[0;34m=\u001B[0m\u001B[0mpd\u001B[0m\u001B[0;34m.\u001B[0m\u001B[0mread_csv\u001B[0m\u001B[0;34m(\u001B[0m\u001B[0;34m'/data2/fanbingbing/data/segregation/philadelphia/philadelphia_poi_with_yelp_review.csv'\u001B[0m\u001B[0;34m)\u001B[0m\u001B[0;34m\u001B[0m\u001B[0;34m\u001B[0m\u001B[0m\n\u001B[0m\u001B[1;32m      2\u001B[0m \u001B[0;34m\u001B[0m\u001B[0m\n\u001B[1;32m      3\u001B[0m \u001B[0;31m#因为review是Str形式，所以不能直接len，要先转化为list\u001B[0m\u001B[0;34m\u001B[0m\u001B[0;34m\u001B[0m\u001B[0;34m\u001B[0m\u001B[0m\n\u001B[1;32m      4\u001B[0m \u001B[0mprint\u001B[0m\u001B[0;34m(\u001B[0m\u001B[0mtype\u001B[0m\u001B[0;34m(\u001B[0m\u001B[0mresult_df\u001B[0m\u001B[0;34m.\u001B[0m\u001B[0mloc\u001B[0m\u001B[0;34m[\u001B[0m\u001B[0;36m0\u001B[0m\u001B[0;34m,\u001B[0m\u001B[0;34m'review'\u001B[0m\u001B[0;34m]\u001B[0m\u001B[0;34m)\u001B[0m\u001B[0;34m)\u001B[0m \u001B[0;31m#str\u001B[0m\u001B[0;34m\u001B[0m\u001B[0;34m\u001B[0m\u001B[0m\n\u001B[1;32m      5\u001B[0m \u001B[0mresult_df\u001B[0m\u001B[0;34m[\u001B[0m\u001B[0;34m'review'\u001B[0m\u001B[0;34m]\u001B[0m \u001B[0;34m=\u001B[0m \u001B[0mresult_df\u001B[0m\u001B[0;34m[\u001B[0m\u001B[0;34m'review'\u001B[0m\u001B[0;34m]\u001B[0m\u001B[0;34m.\u001B[0m\u001B[0mapply\u001B[0m\u001B[0;34m(\u001B[0m\u001B[0;32mlambda\u001B[0m \u001B[0mx\u001B[0m\u001B[0;34m:\u001B[0m \u001B[0mast\u001B[0m\u001B[0;34m.\u001B[0m\u001B[0mliteral_eval\u001B[0m\u001B[0;34m(\u001B[0m\u001B[0mx\u001B[0m\u001B[0;34m)\u001B[0m \u001B[0;32mif\u001B[0m \u001B[0misinstance\u001B[0m\u001B[0;34m(\u001B[0m\u001B[0mx\u001B[0m\u001B[0;34m,\u001B[0m \u001B[0mstr\u001B[0m\u001B[0;34m)\u001B[0m \u001B[0;32melse\u001B[0m \u001B[0;34m[\u001B[0m\u001B[0;34m]\u001B[0m\u001B[0;34m)\u001B[0m\u001B[0;34m\u001B[0m\u001B[0;34m\u001B[0m\u001B[0m\n",
      "\u001B[0;32m/usr/local/anaconda3/lib/python3.7/site-packages/pandas/io/parsers.py\u001B[0m in \u001B[0;36mread_csv\u001B[0;34m(filepath_or_buffer, sep, delimiter, header, names, index_col, usecols, squeeze, prefix, mangle_dupe_cols, dtype, engine, converters, true_values, false_values, skipinitialspace, skiprows, skipfooter, nrows, na_values, keep_default_na, na_filter, verbose, skip_blank_lines, parse_dates, infer_datetime_format, keep_date_col, date_parser, dayfirst, cache_dates, iterator, chunksize, compression, thousands, decimal, lineterminator, quotechar, quoting, doublequote, escapechar, comment, encoding, dialect, error_bad_lines, warn_bad_lines, delim_whitespace, low_memory, memory_map, float_precision)\u001B[0m\n\u001B[1;32m    686\u001B[0m     )\n\u001B[1;32m    687\u001B[0m \u001B[0;34m\u001B[0m\u001B[0m\n\u001B[0;32m--> 688\u001B[0;31m     \u001B[0;32mreturn\u001B[0m \u001B[0m_read\u001B[0m\u001B[0;34m(\u001B[0m\u001B[0mfilepath_or_buffer\u001B[0m\u001B[0;34m,\u001B[0m \u001B[0mkwds\u001B[0m\u001B[0;34m)\u001B[0m\u001B[0;34m\u001B[0m\u001B[0;34m\u001B[0m\u001B[0m\n\u001B[0m\u001B[1;32m    689\u001B[0m \u001B[0;34m\u001B[0m\u001B[0m\n\u001B[1;32m    690\u001B[0m \u001B[0;34m\u001B[0m\u001B[0m\n",
      "\u001B[0;32m/usr/local/anaconda3/lib/python3.7/site-packages/pandas/io/parsers.py\u001B[0m in \u001B[0;36m_read\u001B[0;34m(filepath_or_buffer, kwds)\u001B[0m\n\u001B[1;32m    458\u001B[0m \u001B[0;34m\u001B[0m\u001B[0m\n\u001B[1;32m    459\u001B[0m     \u001B[0;32mtry\u001B[0m\u001B[0;34m:\u001B[0m\u001B[0;34m\u001B[0m\u001B[0;34m\u001B[0m\u001B[0m\n\u001B[0;32m--> 460\u001B[0;31m         \u001B[0mdata\u001B[0m \u001B[0;34m=\u001B[0m \u001B[0mparser\u001B[0m\u001B[0;34m.\u001B[0m\u001B[0mread\u001B[0m\u001B[0;34m(\u001B[0m\u001B[0mnrows\u001B[0m\u001B[0;34m)\u001B[0m\u001B[0;34m\u001B[0m\u001B[0;34m\u001B[0m\u001B[0m\n\u001B[0m\u001B[1;32m    461\u001B[0m     \u001B[0;32mfinally\u001B[0m\u001B[0;34m:\u001B[0m\u001B[0;34m\u001B[0m\u001B[0;34m\u001B[0m\u001B[0m\n\u001B[1;32m    462\u001B[0m         \u001B[0mparser\u001B[0m\u001B[0;34m.\u001B[0m\u001B[0mclose\u001B[0m\u001B[0;34m(\u001B[0m\u001B[0;34m)\u001B[0m\u001B[0;34m\u001B[0m\u001B[0;34m\u001B[0m\u001B[0m\n",
      "\u001B[0;32m/usr/local/anaconda3/lib/python3.7/site-packages/pandas/io/parsers.py\u001B[0m in \u001B[0;36mread\u001B[0;34m(self, nrows)\u001B[0m\n\u001B[1;32m   1196\u001B[0m     \u001B[0;32mdef\u001B[0m \u001B[0mread\u001B[0m\u001B[0;34m(\u001B[0m\u001B[0mself\u001B[0m\u001B[0;34m,\u001B[0m \u001B[0mnrows\u001B[0m\u001B[0;34m=\u001B[0m\u001B[0;32mNone\u001B[0m\u001B[0;34m)\u001B[0m\u001B[0;34m:\u001B[0m\u001B[0;34m\u001B[0m\u001B[0;34m\u001B[0m\u001B[0m\n\u001B[1;32m   1197\u001B[0m         \u001B[0mnrows\u001B[0m \u001B[0;34m=\u001B[0m \u001B[0m_validate_integer\u001B[0m\u001B[0;34m(\u001B[0m\u001B[0;34m\"nrows\"\u001B[0m\u001B[0;34m,\u001B[0m \u001B[0mnrows\u001B[0m\u001B[0;34m)\u001B[0m\u001B[0;34m\u001B[0m\u001B[0;34m\u001B[0m\u001B[0m\n\u001B[0;32m-> 1198\u001B[0;31m         \u001B[0mret\u001B[0m \u001B[0;34m=\u001B[0m \u001B[0mself\u001B[0m\u001B[0;34m.\u001B[0m\u001B[0m_engine\u001B[0m\u001B[0;34m.\u001B[0m\u001B[0mread\u001B[0m\u001B[0;34m(\u001B[0m\u001B[0mnrows\u001B[0m\u001B[0;34m)\u001B[0m\u001B[0;34m\u001B[0m\u001B[0;34m\u001B[0m\u001B[0m\n\u001B[0m\u001B[1;32m   1199\u001B[0m \u001B[0;34m\u001B[0m\u001B[0m\n\u001B[1;32m   1200\u001B[0m         \u001B[0;31m# May alter columns / col_dict\u001B[0m\u001B[0;34m\u001B[0m\u001B[0;34m\u001B[0m\u001B[0;34m\u001B[0m\u001B[0m\n",
      "\u001B[0;32m/usr/local/anaconda3/lib/python3.7/site-packages/pandas/io/parsers.py\u001B[0m in \u001B[0;36mread\u001B[0;34m(self, nrows)\u001B[0m\n\u001B[1;32m   2155\u001B[0m     \u001B[0;32mdef\u001B[0m \u001B[0mread\u001B[0m\u001B[0;34m(\u001B[0m\u001B[0mself\u001B[0m\u001B[0;34m,\u001B[0m \u001B[0mnrows\u001B[0m\u001B[0;34m=\u001B[0m\u001B[0;32mNone\u001B[0m\u001B[0;34m)\u001B[0m\u001B[0;34m:\u001B[0m\u001B[0;34m\u001B[0m\u001B[0;34m\u001B[0m\u001B[0m\n\u001B[1;32m   2156\u001B[0m         \u001B[0;32mtry\u001B[0m\u001B[0;34m:\u001B[0m\u001B[0;34m\u001B[0m\u001B[0;34m\u001B[0m\u001B[0m\n\u001B[0;32m-> 2157\u001B[0;31m             \u001B[0mdata\u001B[0m \u001B[0;34m=\u001B[0m \u001B[0mself\u001B[0m\u001B[0;34m.\u001B[0m\u001B[0m_reader\u001B[0m\u001B[0;34m.\u001B[0m\u001B[0mread\u001B[0m\u001B[0;34m(\u001B[0m\u001B[0mnrows\u001B[0m\u001B[0;34m)\u001B[0m\u001B[0;34m\u001B[0m\u001B[0;34m\u001B[0m\u001B[0m\n\u001B[0m\u001B[1;32m   2158\u001B[0m         \u001B[0;32mexcept\u001B[0m \u001B[0mStopIteration\u001B[0m\u001B[0;34m:\u001B[0m\u001B[0;34m\u001B[0m\u001B[0;34m\u001B[0m\u001B[0m\n\u001B[1;32m   2159\u001B[0m             \u001B[0;32mif\u001B[0m \u001B[0mself\u001B[0m\u001B[0;34m.\u001B[0m\u001B[0m_first_chunk\u001B[0m\u001B[0;34m:\u001B[0m\u001B[0;34m\u001B[0m\u001B[0;34m\u001B[0m\u001B[0m\n",
      "\u001B[0;32mpandas/_libs/parsers.pyx\u001B[0m in \u001B[0;36mpandas._libs.parsers.TextReader.read\u001B[0;34m()\u001B[0m\n",
      "\u001B[0;32mpandas/_libs/parsers.pyx\u001B[0m in \u001B[0;36mpandas._libs.parsers.TextReader._read_low_memory\u001B[0;34m()\u001B[0m\n",
      "\u001B[0;32mpandas/_libs/parsers.pyx\u001B[0m in \u001B[0;36mpandas._libs.parsers.TextReader._read_rows\u001B[0;34m()\u001B[0m\n",
      "\u001B[0;32mpandas/_libs/parsers.pyx\u001B[0m in \u001B[0;36mpandas._libs.parsers.TextReader._convert_column_data\u001B[0;34m()\u001B[0m\n",
      "\u001B[0;32mpandas/_libs/parsers.pyx\u001B[0m in \u001B[0;36mpandas._libs.parsers.TextReader._convert_tokens\u001B[0;34m()\u001B[0m\n",
      "\u001B[0;32mpandas/_libs/parsers.pyx\u001B[0m in \u001B[0;36mpandas._libs.parsers.TextReader._convert_with_dtype\u001B[0;34m()\u001B[0m\n",
      "\u001B[0;32m/usr/local/anaconda3/lib/python3.7/site-packages/pandas/core/dtypes/common.py\u001B[0m in \u001B[0;36mis_categorical_dtype\u001B[0;34m(arr_or_dtype)\u001B[0m\n\u001B[1;32m    528\u001B[0m \u001B[0;34m\u001B[0m\u001B[0m\n\u001B[1;32m    529\u001B[0m \u001B[0;34m\u001B[0m\u001B[0m\n\u001B[0;32m--> 530\u001B[0;31m \u001B[0;32mdef\u001B[0m \u001B[0mis_categorical_dtype\u001B[0m\u001B[0;34m(\u001B[0m\u001B[0marr_or_dtype\u001B[0m\u001B[0;34m)\u001B[0m \u001B[0;34m->\u001B[0m \u001B[0mbool\u001B[0m\u001B[0;34m:\u001B[0m\u001B[0;34m\u001B[0m\u001B[0;34m\u001B[0m\u001B[0m\n\u001B[0m\u001B[1;32m    531\u001B[0m     \"\"\"\n\u001B[1;32m    532\u001B[0m     \u001B[0mCheck\u001B[0m \u001B[0mwhether\u001B[0m \u001B[0man\u001B[0m \u001B[0marray\u001B[0m\u001B[0;34m-\u001B[0m\u001B[0mlike\u001B[0m \u001B[0;32mor\u001B[0m \u001B[0mdtype\u001B[0m \u001B[0;32mis\u001B[0m \u001B[0mof\u001B[0m \u001B[0mthe\u001B[0m \u001B[0mCategorical\u001B[0m \u001B[0mdtype\u001B[0m\u001B[0;34m.\u001B[0m\u001B[0;34m\u001B[0m\u001B[0;34m\u001B[0m\u001B[0m\n",
      "\u001B[0;31mKeyboardInterrupt\u001B[0m: "
     ]
    }
   ],
   "source": [
    "result_df=pd.read_csv('/data2/fanbingbing/data/segregation/philadelphia/philadelphia_poi_with_yelp_review.csv')\n",
    "\n",
    "#因为review是Str形式，所以不能直接len，要先转化为list\n",
    "print(type(result_df.loc[0,'review'])) #str\n",
    "result_df['review'] = result_df['review'].apply(lambda x: ast.literal_eval(x) if isinstance(x, str) else [])\n",
    "print(type(result_df.loc[0,'review'])) #list\n",
    "\n",
    "result_df['review_num']=result_df['review'].apply(lambda x:len(x))\n",
    "result_df.to_csv('/data2/fanbingbing/data/segregation/philadelphia/philadelphia_poi_with_yelp_review.csv',index=False)\n",
    "result_df.head()"
   ],
   "metadata": {
    "collapsed": false,
    "ExecuteTime": {
     "end_time": "2024-04-24T15:53:01.953610900Z",
     "start_time": "2024-04-24T15:52:52.624074200Z"
    }
   }
  },
  {
   "cell_type": "code",
   "execution_count": 10,
   "metadata": {
    "ExecuteTime": {
     "end_time": "2024-04-17T03:14:01.080952100Z",
     "start_time": "2024-04-17T03:13:59.177636300Z"
    }
   },
   "outputs": [],
   "source": [
    "#case study\n",
    "result_df=pd.read_csv('/data2/fanbingbing/data/segregation/philadelphia/philadelphia_poi_with_yelp_review.csv')\n",
    "\n",
    "result_df.sort_values(by='segregation_index',ascending=False, inplace=True)\n",
    "result_df.iloc[10]\n",
    "print(result_df.iloc[10,24])\n",
    "result_df.loc[2450,'visitor_home_cbgs_income_proportion']"
   ]
  },
  {
   "cell_type": "markdown",
   "source": [
    "# 合并images"
   ],
   "metadata": {
    "collapsed": false
   }
  },
  {
   "cell_type": "markdown",
   "source": [
    "### 读入所有photos\n",
    "images_df  所有200100张\n",
    "['photo_id', 'business_id', 'caption', 'label']"
   ],
   "metadata": {
    "collapsed": false
   }
  },
  {
   "cell_type": "code",
   "execution_count": 43,
   "metadata": {
    "ExecuteTime": {
     "end_time": "2024-04-22T05:11:26.585291Z",
     "start_time": "2024-04-22T05:11:25.713273100Z"
    }
   },
   "outputs": [
    {
     "name": "stdout",
     "output_type": "stream",
     "text": [
      "(200100, 4)\n",
      "Index(['photo_id', 'business_id', 'caption', 'label'], dtype='object')\n"
     ]
    },
    {
     "data": {
      "text/plain": "                 photo_id             business_id  \\\n0  zsvj7vloL4L5jhYyPIuVwg  Nk-SJhPlDBkAZvfsADtccA   \n1  HCUdRJHHm_e0OCTlZetGLg  yVZtL5MmrpiivyCIrVkGgA   \n2  vkr8T0scuJmGVvN2HJelEA  _ab50qdWOk0DdB6XOrBitw   \n3  pve7D6NUrafHW3EAORubyw  SZU9c8V2GuREDN5KgyHFJw   \n4  H52Er-uBg6rNrHcReWTD2w  Gzur0f0XMkrVxIwYJvOt2g   \n\n                                             caption    label  \n0  Nice rock artwork everywhere and craploads of ...   inside  \n1                                                     outside  \n2                                     oyster shooter    drink  \n3                                      Shrimp scampi     food  \n4                                                        food  ",
      "text/html": "<div>\n<style scoped>\n    .dataframe tbody tr th:only-of-type {\n        vertical-align: middle;\n    }\n\n    .dataframe tbody tr th {\n        vertical-align: top;\n    }\n\n    .dataframe thead th {\n        text-align: right;\n    }\n</style>\n<table border=\"1\" class=\"dataframe\">\n  <thead>\n    <tr style=\"text-align: right;\">\n      <th></th>\n      <th>photo_id</th>\n      <th>business_id</th>\n      <th>caption</th>\n      <th>label</th>\n    </tr>\n  </thead>\n  <tbody>\n    <tr>\n      <th>0</th>\n      <td>zsvj7vloL4L5jhYyPIuVwg</td>\n      <td>Nk-SJhPlDBkAZvfsADtccA</td>\n      <td>Nice rock artwork everywhere and craploads of ...</td>\n      <td>inside</td>\n    </tr>\n    <tr>\n      <th>1</th>\n      <td>HCUdRJHHm_e0OCTlZetGLg</td>\n      <td>yVZtL5MmrpiivyCIrVkGgA</td>\n      <td></td>\n      <td>outside</td>\n    </tr>\n    <tr>\n      <th>2</th>\n      <td>vkr8T0scuJmGVvN2HJelEA</td>\n      <td>_ab50qdWOk0DdB6XOrBitw</td>\n      <td>oyster shooter</td>\n      <td>drink</td>\n    </tr>\n    <tr>\n      <th>3</th>\n      <td>pve7D6NUrafHW3EAORubyw</td>\n      <td>SZU9c8V2GuREDN5KgyHFJw</td>\n      <td>Shrimp scampi</td>\n      <td>food</td>\n    </tr>\n    <tr>\n      <th>4</th>\n      <td>H52Er-uBg6rNrHcReWTD2w</td>\n      <td>Gzur0f0XMkrVxIwYJvOt2g</td>\n      <td></td>\n      <td>food</td>\n    </tr>\n  </tbody>\n</table>\n</div>"
     },
     "execution_count": 43,
     "metadata": {},
     "output_type": "execute_result"
    }
   ],
   "source": [
    "yelp_path='/data2/fanbingbing/data/Yelp/'\n",
    "yelp_images_file_name = 'photos.json'\n",
    "yelp_images_file_path = yelp_path+yelp_images_file_name\n",
    "\n",
    "#json文件有多行 读取数据时要逐行阅读\n",
    "all_data_temp=[]\n",
    "business_id_temp=[]\n",
    "with open(yelp_images_file_path, 'r', encoding='utf-8') as file:\n",
    "    for line in file:\n",
    "        try:\n",
    "            data_temp = json.loads(line)\n",
    "            all_data_temp.append(data_temp)\n",
    "        except json.JSONDecodeError as e: #没有报错\n",
    "            print(f\"Error parsing JSON object on line: {file.lineno()} - {e}\")\n",
    "images_df = pd.DataFrame(all_data_temp)    \n",
    "\n",
    "print(images_df.shape)\n",
    "print(images_df.columns)\n",
    "images_df.head(5)"
   ]
  },
  {
   "cell_type": "markdown",
   "source": [
    "### 保留费城地点photos\n",
    "15156张"
   ],
   "metadata": {
    "collapsed": false
   }
  },
  {
   "cell_type": "code",
   "execution_count": 44,
   "outputs": [
    {
     "name": "stdout",
     "output_type": "stream",
     "text": [
      "(15156, 4)\n"
     ]
    },
    {
     "data": {
      "text/plain": "                 photo_id             business_id  \\\n0  1brLBjW5JznRUNdX7FItvQ  -0M0b-XhtFagyLmsBtOe8w   \n1  Nroz-phrBw1-TjaWIRBbMA  -0eUa8TsXFFy0FCxHYmrjg   \n2  vM4ODEHIHWOdHYEptcjK0g  -2-ih3mE8KPyeKVIzpBfPQ   \n3  YWN5IUK_1dPf4Mog5gqpkQ  -2-ih3mE8KPyeKVIzpBfPQ   \n4  E181gjUSI3oBzdo7LZemqg  -2-ih3mE8KPyeKVIzpBfPQ   \n\n                                             caption    label  \n0  Art Fischman plays Thursdays, photo by Julia B...   inside  \n1                                                        food  \n2                                                      inside  \n3                                                      inside  \n4                                                     outside  ",
      "text/html": "<div>\n<style scoped>\n    .dataframe tbody tr th:only-of-type {\n        vertical-align: middle;\n    }\n\n    .dataframe tbody tr th {\n        vertical-align: top;\n    }\n\n    .dataframe thead th {\n        text-align: right;\n    }\n</style>\n<table border=\"1\" class=\"dataframe\">\n  <thead>\n    <tr style=\"text-align: right;\">\n      <th></th>\n      <th>photo_id</th>\n      <th>business_id</th>\n      <th>caption</th>\n      <th>label</th>\n    </tr>\n  </thead>\n  <tbody>\n    <tr>\n      <th>0</th>\n      <td>1brLBjW5JznRUNdX7FItvQ</td>\n      <td>-0M0b-XhtFagyLmsBtOe8w</td>\n      <td>Art Fischman plays Thursdays, photo by Julia B...</td>\n      <td>inside</td>\n    </tr>\n    <tr>\n      <th>1</th>\n      <td>Nroz-phrBw1-TjaWIRBbMA</td>\n      <td>-0eUa8TsXFFy0FCxHYmrjg</td>\n      <td></td>\n      <td>food</td>\n    </tr>\n    <tr>\n      <th>2</th>\n      <td>vM4ODEHIHWOdHYEptcjK0g</td>\n      <td>-2-ih3mE8KPyeKVIzpBfPQ</td>\n      <td></td>\n      <td>inside</td>\n    </tr>\n    <tr>\n      <th>3</th>\n      <td>YWN5IUK_1dPf4Mog5gqpkQ</td>\n      <td>-2-ih3mE8KPyeKVIzpBfPQ</td>\n      <td></td>\n      <td>inside</td>\n    </tr>\n    <tr>\n      <th>4</th>\n      <td>E181gjUSI3oBzdo7LZemqg</td>\n      <td>-2-ih3mE8KPyeKVIzpBfPQ</td>\n      <td></td>\n      <td>outside</td>\n    </tr>\n  </tbody>\n</table>\n</div>"
     },
     "execution_count": 44,
     "metadata": {},
     "output_type": "execute_result"
    }
   ],
   "source": [
    "#只保留费城这些地点的images\n",
    "result_df= pd.read_csv('/data2/fanbingbing/data/segregation/philadelphia/philadelphia_poi_with_yelp_review.csv')\n",
    "filtered_images_df = images_df[images_df['business_id'].isin(result_df['business_id'])]\n",
    "del images_df\n",
    "filtered_images_df.sort_values(by='business_id', inplace=True)\n",
    "filtered_images_df.reset_index(drop=True, inplace=True)\n",
    "\n",
    "print(filtered_images_df.shape)\n",
    "filtered_images_df.head()"
   ],
   "metadata": {
    "collapsed": false,
    "ExecuteTime": {
     "end_time": "2024-04-22T05:11:31.734239Z",
     "start_time": "2024-04-22T05:11:30.033989600Z"
    }
   }
  },
  {
   "cell_type": "markdown",
   "source": [
    "### 将photos合并到result_df中\n",
    "/data2/fanbingbing/data/segregation/philadelphia/philadelphia_poi_with_yelp_review_images.csv\n",
    "\n",
    "['placekey', 'sum_visitors', 'poi_cbg', 'distance_from_home', 'latitude',\n",
    "       'longitude', 'poi_category', 'poi_tract',\n",
    "       'same_category_number_in_tract', 'visitor_home_cbgs',\n",
    "       'visitor_home_cbgs_income_level', 'visitor_home_cbgs_income_proportion',\n",
    "       'segregation_index', 'location_name', 'business_id', 'name', 'address',\n",
    "       'stars', 'review_count', 'is_open', 'attributes', 'categories', 'hours',\n",
    "       'different_cbg_num', 'review', 'review_num', 'images', 'iamges_num']\n",
    "      \n"
   ],
   "metadata": {
    "collapsed": false
   }
  },
  {
   "cell_type": "code",
   "execution_count": 46,
   "outputs": [],
   "source": [
    "#iamges合并到poi信息+review中\n",
    "\n",
    "# 根据business_id进行分组\n",
    "grouped = filtered_images_df.groupby('business_id')\n",
    "result_df['images'] = None\n",
    "\n",
    "# 遍历每个分组，并转换为字典列表\n",
    "for business_id, group in tqdm.tqdm(grouped):\n",
    "    # 找到result_df中对应的行\n",
    "    corresponding_rows = result_df[result_df['business_id'] == business_id]\n",
    "    if not corresponding_rows.empty:\n",
    "        # 将filtered_images_df中的行转换为字典列表\n",
    "        images_list = []\n",
    "        for index, row in group.iterrows():\n",
    "            images_dict = {\n",
    "                'photo_id': row['photo_id'],\n",
    "                'caption': row['caption'],\n",
    "                'label': row['label']\n",
    "            }\n",
    "            images_list.append(images_dict)\n",
    "        for index, row in corresponding_rows.iterrows():\n",
    "            result_df.at[index, 'images'] = images_list \n",
    "            #这样就可以把列表赋给某行某列了\n",
    "\n",
    "result_df['images_num']=result_df['images'].apply(lambda x:len(x) if x is not None else 0)\n",
    "\n",
    "print(result_df.columns)\n",
    "print(result_df.shape)\n",
    "result_df.to_csv('/data2/fanbingbing/data/segregation/philadelphia/philadelphia_poi_with_yelp_review_images.csv',index=False)\n",
    "\n",
    "result_df.head()"
   ],
   "metadata": {
    "collapsed": false,
    "ExecuteTime": {
     "end_time": "2024-04-22T05:12:20.895394Z",
     "start_time": "2024-04-22T05:12:15.043470900Z"
    }
   }
  },
  {
   "cell_type": "markdown",
   "source": [
    "# review_num和images_num大小简单分析\n"
   ],
   "metadata": {
    "collapsed": false
   }
  },
  {
   "cell_type": "code",
   "execution_count": 99,
   "outputs": [],
   "source": [
    "result_df=pd.read_csv('/data2/fanbingbing/data/segregation/philadelphia/philadelphia_poi_with_yelp_review_images.csv',usecols=['review_num','images_num'])\n",
    "\n",
    "# 设置筛选阈值\n",
    "review_threshold = 250\n",
    "images_threshold = 10\n",
    "# 筛选掉review_num中的离群值\n",
    "filtered_review_df = result_df[result_df['review_num'] <= review_threshold]\n",
    "# 筛选掉images_num中的离群值\n",
    "filtered_images_df = result_df[result_df['images_num'] <= images_threshold]"
   ],
   "metadata": {
    "collapsed": false,
    "ExecuteTime": {
     "end_time": "2024-04-22T05:52:08.088423Z",
     "start_time": "2024-04-22T05:52:07.439105700Z"
    }
   }
  },
  {
   "cell_type": "code",
   "execution_count": 95,
   "outputs": [
    {
     "name": "stdout",
     "output_type": "stream",
     "text": [
      "36\n",
      "478\n",
      "84.0\n"
     ]
    }
   ],
   "source": [
    "#观察特别大的值情况\n",
    "num_result = result_df['review_num'].value_counts().sort_index()\n",
    "print(num_result[:-36:-1].sum())\n",
    "print(num_result[num_result.index>250].sum())\n",
    "print(result_df['review_num'].quantile(0.75))\n",
    "\n",
    "num2_result = result_df['images_num'].value_counts().sort_index()\n",
    "print(num2_result[:-42:-1].sum())\n",
    "print(num2_result[num2_result.index>20].sum())\n",
    "print(result_df['images_num'].quantile(0.75))"
   ],
   "metadata": {
    "collapsed": false,
    "ExecuteTime": {
     "end_time": "2024-04-22T05:50:31.895268900Z",
     "start_time": "2024-04-22T05:50:31.870745500Z"
    }
   }
  },
  {
   "cell_type": "code",
   "execution_count": 100,
   "outputs": [
    {
     "data": {
      "text/plain": "<Figure size 720x360 with 1 Axes>",
      "image/png": "[encoded data removed]"
     },
     "metadata": {
      "needs_background": "light"
     },
     "output_type": "display_data"
    }
   ],
   "source": [
    "# 绘制review_num列的直方图\n",
    "plt.figure(figsize=(10, 5))  # 设置图形的大小\n",
    "filtered_review_df['review_num'].hist(bins=50, color='skyblue', edgecolor='black')  # 绘制直方图，bins是直方图的箱数\n",
    "plt.title('Distribution of Review Numbers')  # 设置图形的标题\n",
    "plt.xlabel('Review Number')  # 设置x轴的标签\n",
    "plt.ylabel('Frequency')  # 设置y轴的标签\n",
    "plt.grid(True)  # 显示网格线\n",
    "plt.show()  # 显示图形"
   ],
   "metadata": {
    "collapsed": false,
    "ExecuteTime": {
     "end_time": "2024-04-22T05:52:31.210596500Z",
     "start_time": "2024-04-22T05:52:30.918880400Z"
    }
   }
  },
  {
   "cell_type": "code",
   "execution_count": 102,
   "outputs": [
    {
     "data": {
      "text/plain": "<Figure size 720x360 with 1 Axes>",
      "image/png": "[encoded data removed]"
     },
     "metadata": {
      "needs_background": "light"
     },
     "output_type": "display_data"
    }
   ],
   "source": [
    "# 绘制images_num列的直方图\n",
    "plt.figure(figsize=(10, 5))  # 设置图形的大小\n",
    "filtered_images_df['images_num'].hist(bins=20, color='lightgreen', edgecolor='black')  # 绘制直方图\n",
    "plt.title('Distribution of Image Numbers')  # 设置图形的标题\n",
    "plt.xlabel('Image Number')  # 设置x轴的标签\n",
    "plt.ylabel('Frequency')  # 设置y轴的标签\n",
    "plt.grid(True)  # 显示网格线\n",
    "plt.show()  # 显示图形"
   ],
   "metadata": {
    "collapsed": false,
    "ExecuteTime": {
     "end_time": "2024-04-22T05:54:23.256673500Z",
     "start_time": "2024-04-22T05:54:23.054164400Z"
    }
   }
  },
  {
   "cell_type": "markdown",
   "source": [
    "# 整理images数据集好调用"
   ],
   "metadata": {
    "collapsed": false
   }
  },
  {
   "cell_type": "markdown",
   "source": [
    "### 逐一读取\n",
    "保存方式：/data2/fanbingbing/data/Yelp/Philadelphia_images/'placekey'_0,1,2,....jpg"
   ],
   "metadata": {
    "collapsed": false
   }
  },
  {
   "cell_type": "code",
   "execution_count": 10,
   "outputs": [
    {
     "data": {
      "text/plain": "              placekey                                             images  \\\n0  222-222@628-p6z-b8v                                                NaN   \n1  222-222@628-p74-wtv  [{'photo_id': 'ITmgGugNqCv7qv8cexFLsQ', 'capti...   \n2  222-222@628-p77-2hq                                                NaN   \n3  222-222@628-p7b-hnq                                                NaN   \n4  222-222@628-p7b-rc5                                                NaN   \n\n   images_num  \n0           0  \n1           5  \n2           0  \n3           0  \n4           0  ",
      "text/html": "<div>\n<style scoped>\n    .dataframe tbody tr th:only-of-type {\n        vertical-align: middle;\n    }\n\n    .dataframe tbody tr th {\n        vertical-align: top;\n    }\n\n    .dataframe thead th {\n        text-align: right;\n    }\n</style>\n<table border=\"1\" class=\"dataframe\">\n  <thead>\n    <tr style=\"text-align: right;\">\n      <th></th>\n      <th>placekey</th>\n      <th>images</th>\n      <th>images_num</th>\n    </tr>\n  </thead>\n  <tbody>\n    <tr>\n      <th>0</th>\n      <td>222-222@628-p6z-b8v</td>\n      <td>NaN</td>\n      <td>0</td>\n    </tr>\n    <tr>\n      <th>1</th>\n      <td>222-222@628-p74-wtv</td>\n      <td>[{'photo_id': 'ITmgGugNqCv7qv8cexFLsQ', 'capti...</td>\n      <td>5</td>\n    </tr>\n    <tr>\n      <th>2</th>\n      <td>222-222@628-p77-2hq</td>\n      <td>NaN</td>\n      <td>0</td>\n    </tr>\n    <tr>\n      <th>3</th>\n      <td>222-222@628-p7b-hnq</td>\n      <td>NaN</td>\n      <td>0</td>\n    </tr>\n    <tr>\n      <th>4</th>\n      <td>222-222@628-p7b-rc5</td>\n      <td>NaN</td>\n      <td>0</td>\n    </tr>\n  </tbody>\n</table>\n</div>"
     },
     "execution_count": 10,
     "metadata": {},
     "output_type": "execute_result"
    }
   ],
   "source": [
    "result_df=pd.read_csv('/data2/fanbingbing/data/segregation/philadelphia/philadelphia_poi_with_yelp_review_images.csv',usecols=['placekey','images','images_num'])\n",
    "result_df.head()"
   ],
   "metadata": {
    "collapsed": false,
    "ExecuteTime": {
     "end_time": "2024-04-22T06:17:07.264234500Z",
     "start_time": "2024-04-22T06:17:06.596661200Z"
    }
   }
  },
  {
   "cell_type": "code",
   "execution_count": 11,
   "outputs": [],
   "source": [
    "# 遍历DataFrame中的每一行\n",
    "for index, row in result_df.iterrows():\n",
    "    # 检查images列是否为NaN，如果不是NaN，则继续处理\n",
    "    if not pd.isna(row['images']):\n",
    "        placekey_value = row['placekey']\n",
    "        # 使用ast.literal_eval将images列的字符串转换为列表\n",
    "        images_list = ast.literal_eval(row['images'])\n",
    "        \n",
    "        # 遍历images_list中的每个元素（字典）\n",
    "        for i, image_dict in enumerate(images_list):\n",
    "            # 从字典中取出photo_id\n",
    "            photo_id = image_dict.get('photo_id')\n",
    "            if photo_id:\n",
    "                # 定义原始图片的路径\n",
    "                original_photo_path = f'/data2/fanbingbing/data/Yelp/photos/{photo_id}.jpg'\n",
    "                # 检查原始图片是否存在\n",
    "                if os.path.exists(original_photo_path):\n",
    "                    # 定义新图片的保存路径和文件名\n",
    "                    new_photo_path = f'/data2/fanbingbing/data/Yelp/Philadelphia_images/{placekey_value}_{i}.jpg'\n",
    "                    # 确保保存路径的文件夹存在\n",
    "                    os.makedirs(os.path.dirname(new_photo_path), exist_ok=True)\n",
    "                    # 将图片复制到新的路径，并重命名\n",
    "                    shutil.copyfile(original_photo_path, new_photo_path)\n",
    "                else:\n",
    "                    print(f'File not found: {original_photo_path}')\n",
    "            else:\n",
    "                print(f'Photo ID not found in image dict at index {index}')\n",
    "    else:\n",
    "        # 如果images列为NaN，则跳过\n",
    "        continue"
   ],
   "metadata": {
    "collapsed": false,
    "ExecuteTime": {
     "end_time": "2024-04-22T06:19:30.813916800Z",
     "start_time": "2024-04-22T06:17:07.277828500Z"
    }
   }
  },
  {
   "cell_type": "code",
   "execution_count": 13,
   "outputs": [
    {
     "name": "stdout",
     "output_type": "stream",
     "text": [
      "15156\n",
      "There are 15156 files in the directory.\n"
     ]
    }
   ],
   "source": [
    "#验证是否正确\n",
    "print(result_df['images_num'].sum())\n",
    "\n",
    "# 使用os.listdir()列出文件夹中的所有项（包括文件和子文件夹）\n",
    "all_items = os.listdir('/data2/fanbingbing/data/Yelp/Philadelphia_images/')\n",
    "# 过滤掉子文件夹，只计算文件\n",
    "files = [item for item in all_items if os.path.isfile(os.path.join('/data2/fanbingbing/data/Yelp/Philadelphia_images/', item))]\n",
    "print(f\"There are {len(files)} files in the directory.\")"
   ],
   "metadata": {
    "collapsed": false,
    "ExecuteTime": {
     "end_time": "2024-04-22T06:25:20.708667700Z",
     "start_time": "2024-04-22T06:25:20.636148200Z"
    }
   }
  },
  {
   "cell_type": "markdown",
   "source": [
    "#  合并imagetext\n"
   ],
   "metadata": {
    "collapsed": false
   }
  },
  {
   "cell_type": "markdown",
   "source": [
    "### 逐一读取text image文件合并到一起"
   ],
   "metadata": {
    "collapsed": false
   }
  },
  {
   "cell_type": "code",
   "execution_count": 14,
   "outputs": [
    {
     "name": "stdout",
     "output_type": "stream",
     "text": [
      "0\n",
      "1\n",
      "2\n",
      "3\n",
      "4\n",
      "5\n",
      "6\n",
      "7\n",
      "8\n",
      "9\n",
      "10\n",
      "(5363, 201)\n"
     ]
    },
    {
     "data": {
      "text/plain": "                                                 0    \\\n0                                               None   \n1  artoftext|> The image shows a breakfast sandwi...   \n2                                               None   \n3                                               None   \n4                                               None   \n\n                                                 1    \\\n0                                               None   \n1  artoftext|> The image shows a Dunkin' branded ...   \n2                                               None   \n3                                               None   \n4                                               None   \n\n                                                 2    \\\n0                                               None   \n1  artoftext|> The image shows a classic Dunkin' ...   \n2                                               None   \n3                                               None   \n4                                               None   \n\n                                                 3    \\\n0                                               None   \n1  artoftext|> The image shows a Dunkin' branded ...   \n2                                               None   \n3                                               None   \n4                                               None   \n\n                                                 4     5     6     7     8    \\\n0                                               None  None  None  None  None   \n1  artoftext|> The image shows a close-up of a ba...  None  None  None  None   \n2                                               None  None  None  None  None   \n3                                               None  None  None  None  None   \n4                                               None  None  None  None  None   \n\n    9    ...   191   192   193   194   195   196   197   198   199   200  \n0  None  ...  None  None  None  None  None  None  None  None  None  None  \n1  None  ...  None  None  None  None  None  None  None  None  None  None  \n2  None  ...  None  None  None  None  None  None  None  None  None  None  \n3  None  ...  None  None  None  None  None  None  None  None  None  None  \n4  None  ...  None  None  None  None  None  None  None  None  None  None  \n\n[5 rows x 201 columns]",
      "text/html": "<div>\n<style scoped>\n    .dataframe tbody tr th:only-of-type {\n        vertical-align: middle;\n    }\n\n    .dataframe tbody tr th {\n        vertical-align: top;\n    }\n\n    .dataframe thead th {\n        text-align: right;\n    }\n</style>\n<table border=\"1\" class=\"dataframe\">\n  <thead>\n    <tr style=\"text-align: right;\">\n      <th></th>\n      <th>0</th>\n      <th>1</th>\n      <th>2</th>\n      <th>3</th>\n      <th>4</th>\n      <th>5</th>\n      <th>6</th>\n      <th>7</th>\n      <th>8</th>\n      <th>9</th>\n      <th>...</th>\n      <th>191</th>\n      <th>192</th>\n      <th>193</th>\n      <th>194</th>\n      <th>195</th>\n      <th>196</th>\n      <th>197</th>\n      <th>198</th>\n      <th>199</th>\n      <th>200</th>\n    </tr>\n  </thead>\n  <tbody>\n    <tr>\n      <th>0</th>\n      <td>None</td>\n      <td>None</td>\n      <td>None</td>\n      <td>None</td>\n      <td>None</td>\n      <td>None</td>\n      <td>None</td>\n      <td>None</td>\n      <td>None</td>\n      <td>None</td>\n      <td>...</td>\n      <td>None</td>\n      <td>None</td>\n      <td>None</td>\n      <td>None</td>\n      <td>None</td>\n      <td>None</td>\n      <td>None</td>\n      <td>None</td>\n      <td>None</td>\n      <td>None</td>\n    </tr>\n    <tr>\n      <th>1</th>\n      <td>artoftext|&gt; The image shows a breakfast sandwi...</td>\n      <td>artoftext|&gt; The image shows a Dunkin' branded ...</td>\n      <td>artoftext|&gt; The image shows a classic Dunkin' ...</td>\n      <td>artoftext|&gt; The image shows a Dunkin' branded ...</td>\n      <td>artoftext|&gt; The image shows a close-up of a ba...</td>\n      <td>None</td>\n      <td>None</td>\n      <td>None</td>\n      <td>None</td>\n      <td>None</td>\n      <td>...</td>\n      <td>None</td>\n      <td>None</td>\n      <td>None</td>\n      <td>None</td>\n      <td>None</td>\n      <td>None</td>\n      <td>None</td>\n      <td>None</td>\n      <td>None</td>\n      <td>None</td>\n    </tr>\n    <tr>\n      <th>2</th>\n      <td>None</td>\n      <td>None</td>\n      <td>None</td>\n      <td>None</td>\n      <td>None</td>\n      <td>None</td>\n      <td>None</td>\n      <td>None</td>\n      <td>None</td>\n      <td>None</td>\n      <td>...</td>\n      <td>None</td>\n      <td>None</td>\n      <td>None</td>\n      <td>None</td>\n      <td>None</td>\n      <td>None</td>\n      <td>None</td>\n      <td>None</td>\n      <td>None</td>\n      <td>None</td>\n    </tr>\n    <tr>\n      <th>3</th>\n      <td>None</td>\n      <td>None</td>\n      <td>None</td>\n      <td>None</td>\n      <td>None</td>\n      <td>None</td>\n      <td>None</td>\n      <td>None</td>\n      <td>None</td>\n      <td>None</td>\n      <td>...</td>\n      <td>None</td>\n      <td>None</td>\n      <td>None</td>\n      <td>None</td>\n      <td>None</td>\n      <td>None</td>\n      <td>None</td>\n      <td>None</td>\n      <td>None</td>\n      <td>None</td>\n    </tr>\n    <tr>\n      <th>4</th>\n      <td>None</td>\n      <td>None</td>\n      <td>None</td>\n      <td>None</td>\n      <td>None</td>\n      <td>None</td>\n      <td>None</td>\n      <td>None</td>\n      <td>None</td>\n      <td>None</td>\n      <td>...</td>\n      <td>None</td>\n      <td>None</td>\n      <td>None</td>\n      <td>None</td>\n      <td>None</td>\n      <td>None</td>\n      <td>None</td>\n      <td>None</td>\n      <td>None</td>\n      <td>None</td>\n    </tr>\n  </tbody>\n</table>\n<p>5 rows × 201 columns</p>\n</div>"
     },
     "execution_count": 14,
     "metadata": {},
     "output_type": "execute_result"
    }
   ],
   "source": [
    "import csv\n",
    "# file_template = '/data2/fanbingbing/data/segregation/philadelphia/temp_image2text/GPT4v/text_result_{}.csv' #GPT4v的\n",
    "file_template = '/data2/fanbingbing/LLaVA/llavatextdata/text_result_{}.csv' #LLaVA的\n",
    "all_text_results = []\n",
    "for i in range(11):  # 从0到10，共11个文件\n",
    "    print(i)\n",
    "    file_path = file_template.format(i)  # 格式化文件路径\n",
    "    with open(file_path, mode='r', newline='', encoding='utf-8') as file:\n",
    "        reader = csv.reader(file)  # 使用csv.reader来读取文件\n",
    "        text_result = list(reader)  # 读取CSV文件的每一行，并将这些行存储到一个列表中\n",
    "        # 对列表中的每个字符串进行处理，移除前后的特定字符\n",
    "    all_text_results.extend(text_result)  # 将当前文件的列表追加到总列表中\n",
    "\n",
    "df_temp = pd.DataFrame(all_text_results)\n",
    "\n",
    "# 显示结果\n",
    "print(df_temp.shape) #5363*201\n",
    "df_temp.head()"
   ],
   "metadata": {
    "collapsed": false,
    "ExecuteTime": {
     "end_time": "2024-04-28T08:50:49.617874900Z",
     "start_time": "2024-04-28T08:50:49.425652900Z"
    }
   }
  },
  {
   "cell_type": "code",
   "execution_count": 15,
   "outputs": [
    {
     "data": {
      "text/plain": "                                                 0    \\\n0                                               None   \n1   The image shows a breakfast sandwich with a g...   \n2                                               None   \n3                                               None   \n4                                               None   \n\n                                                 1    \\\n0                                               None   \n1   The image shows a Dunkin' branded coffee cup ...   \n2                                               None   \n3                                               None   \n4                                               None   \n\n                                                 2    \\\n0                                               None   \n1   The image shows a classic Dunkin' experience ...   \n2                                               None   \n3                                               None   \n4                                               None   \n\n                                                 3    \\\n0                                               None   \n1   The image shows a Dunkin' branded setting wit...   \n2                                               None   \n3                                               None   \n4                                               None   \n\n                                                 4     5     6     7     8    \\\n0                                               None  None  None  None  None   \n1   The image shows a close-up of a bagel with cr...  None  None  None  None   \n2                                               None  None  None  None  None   \n3                                               None  None  None  None  None   \n4                                               None  None  None  None  None   \n\n    9    ...   191   192   193   194   195   196   197   198   199   200  \n0  None  ...  None  None  None  None  None  None  None  None  None  None  \n1  None  ...  None  None  None  None  None  None  None  None  None  None  \n2  None  ...  None  None  None  None  None  None  None  None  None  None  \n3  None  ...  None  None  None  None  None  None  None  None  None  None  \n4  None  ...  None  None  None  None  None  None  None  None  None  None  \n\n[5 rows x 201 columns]",
      "text/html": "<div>\n<style scoped>\n    .dataframe tbody tr th:only-of-type {\n        vertical-align: middle;\n    }\n\n    .dataframe tbody tr th {\n        vertical-align: top;\n    }\n\n    .dataframe thead th {\n        text-align: right;\n    }\n</style>\n<table border=\"1\" class=\"dataframe\">\n  <thead>\n    <tr style=\"text-align: right;\">\n      <th></th>\n      <th>0</th>\n      <th>1</th>\n      <th>2</th>\n      <th>3</th>\n      <th>4</th>\n      <th>5</th>\n      <th>6</th>\n      <th>7</th>\n      <th>8</th>\n      <th>9</th>\n      <th>...</th>\n      <th>191</th>\n      <th>192</th>\n      <th>193</th>\n      <th>194</th>\n      <th>195</th>\n      <th>196</th>\n      <th>197</th>\n      <th>198</th>\n      <th>199</th>\n      <th>200</th>\n    </tr>\n  </thead>\n  <tbody>\n    <tr>\n      <th>0</th>\n      <td>None</td>\n      <td>None</td>\n      <td>None</td>\n      <td>None</td>\n      <td>None</td>\n      <td>None</td>\n      <td>None</td>\n      <td>None</td>\n      <td>None</td>\n      <td>None</td>\n      <td>...</td>\n      <td>None</td>\n      <td>None</td>\n      <td>None</td>\n      <td>None</td>\n      <td>None</td>\n      <td>None</td>\n      <td>None</td>\n      <td>None</td>\n      <td>None</td>\n      <td>None</td>\n    </tr>\n    <tr>\n      <th>1</th>\n      <td>The image shows a breakfast sandwich with a g...</td>\n      <td>The image shows a Dunkin' branded coffee cup ...</td>\n      <td>The image shows a classic Dunkin' experience ...</td>\n      <td>The image shows a Dunkin' branded setting wit...</td>\n      <td>The image shows a close-up of a bagel with cr...</td>\n      <td>None</td>\n      <td>None</td>\n      <td>None</td>\n      <td>None</td>\n      <td>None</td>\n      <td>...</td>\n      <td>None</td>\n      <td>None</td>\n      <td>None</td>\n      <td>None</td>\n      <td>None</td>\n      <td>None</td>\n      <td>None</td>\n      <td>None</td>\n      <td>None</td>\n      <td>None</td>\n    </tr>\n    <tr>\n      <th>2</th>\n      <td>None</td>\n      <td>None</td>\n      <td>None</td>\n      <td>None</td>\n      <td>None</td>\n      <td>None</td>\n      <td>None</td>\n      <td>None</td>\n      <td>None</td>\n      <td>None</td>\n      <td>...</td>\n      <td>None</td>\n      <td>None</td>\n      <td>None</td>\n      <td>None</td>\n      <td>None</td>\n      <td>None</td>\n      <td>None</td>\n      <td>None</td>\n      <td>None</td>\n      <td>None</td>\n    </tr>\n    <tr>\n      <th>3</th>\n      <td>None</td>\n      <td>None</td>\n      <td>None</td>\n      <td>None</td>\n      <td>None</td>\n      <td>None</td>\n      <td>None</td>\n      <td>None</td>\n      <td>None</td>\n      <td>None</td>\n      <td>...</td>\n      <td>None</td>\n      <td>None</td>\n      <td>None</td>\n      <td>None</td>\n      <td>None</td>\n      <td>None</td>\n      <td>None</td>\n      <td>None</td>\n      <td>None</td>\n      <td>None</td>\n    </tr>\n    <tr>\n      <th>4</th>\n      <td>None</td>\n      <td>None</td>\n      <td>None</td>\n      <td>None</td>\n      <td>None</td>\n      <td>None</td>\n      <td>None</td>\n      <td>None</td>\n      <td>None</td>\n      <td>None</td>\n      <td>...</td>\n      <td>None</td>\n      <td>None</td>\n      <td>None</td>\n      <td>None</td>\n      <td>None</td>\n      <td>None</td>\n      <td>None</td>\n      <td>None</td>\n      <td>None</td>\n      <td>None</td>\n    </tr>\n  </tbody>\n</table>\n<p>5 rows × 201 columns</p>\n</div>"
     },
     "execution_count": 15,
     "metadata": {},
     "output_type": "execute_result"
    }
   ],
   "source": [
    "# llava的不干净，进行处理\n",
    "# 移除 'artoftext|>' 和 '<|im_e' 的函数\n",
    "def clean_text(text):\n",
    "    if isinstance(text, str):  # 检查是否为字符串类型\n",
    "        return text.replace('artoftext|>', '').replace('<|im_e', '')\n",
    "    return text\n",
    "\n",
    "# 使用 applymap 方法将 clean_text 函数应用到 df_temp 的每个单元格\n",
    "df_temp = df_temp.applymap(clean_text)\n",
    "\n",
    "df_temp.head()"
   ],
   "metadata": {
    "collapsed": false,
    "ExecuteTime": {
     "end_time": "2024-04-28T08:50:56.119189700Z",
     "start_time": "2024-04-28T08:50:55.830733300Z"
    }
   }
  },
  {
   "cell_type": "markdown",
   "source": [
    "### 拼成result_df中的一列"
   ],
   "metadata": {
    "collapsed": false
   }
  },
  {
   "cell_type": "code",
   "execution_count": 16,
   "outputs": [
    {
     "data": {
      "text/plain": "              placekey  sum_visitors       poi_cbg  distance_from_home  \\\n0  222-222@628-p6z-b8v  11994.650695  421010351001         7150.500000   \n1  222-222@628-p74-wtv  62957.124151  421010331012         1506.583333   \n2  222-222@628-p77-2hq   6168.608214  421019891001        12798.583333   \n3  222-222@628-p7b-hnq   8987.587392  421010348023         3540.166667   \n4  222-222@628-p7b-rc5   4624.204464  421010346001        13408.250000   \n\n    latitude  longitude                          poi_category     poi_tract  \\\n0  40.045721 -74.994275                           Restaurants  4.210104e+10   \n1  40.038745 -75.036203              Bars and Drinking Places  4.210103e+10   \n2  40.036244 -75.004551  Arts, Cultural and Amussement Places  4.210199e+10   \n3  40.056903 -75.013343                     Personal Services  4.210103e+10   \n4  40.069881 -75.017379                                Stores  4.210103e+10   \n\n   same_category_number_in_tract  \\\n0                            5.0   \n1                            5.0   \n2                            4.0   \n3                            2.0   \n4                           28.0   \n\n                                   visitor_home_cbgs  ... review_count  \\\n0  {'421010362023': 128.80225400678628, '42101033...  ...           17   \n1  {'421010331011': 3727.1850262015905, '42101033...  ...           17   \n2  {'421010330006': 304.59537822175304, '42101033...  ...           10   \n3  {'421010348013': 582.0269057934444, '421010381...  ...           13   \n4  {'421010383002': 166.61251787160418, '42101026...  ...           11   \n\n  is_open                                         attributes  \\\n0       1  {'RestaurantsTakeOut': 'True', 'RestaurantsTab...   \n1       1  {'WiFi': \"'free'\", 'RestaurantsTakeOut': 'True...   \n2       1  {'GoodForKids': 'True', 'BikeParking': 'True',...   \n3       1                                                NaN   \n4       1  {'GoodForKids': 'True', 'BusinessAcceptsCredit...   \n\n                                          categories  \\\n0  Bars, Restaurants, Sports Bars, Pubs, Sandwich...   \n1            Food, Restaurants, Donuts, Coffee & Tea   \n2                      Gun/Rifle Ranges, Active Life   \n3  Automotive, Wheel & Rim Repair, Tires, Auto Re...   \n4  Martial Arts, Sporting Goods, Fashion, Sports ...   \n\n                                               hours different_cbg_num  \\\n0  {'Monday': '0:0-0:0', 'Tuesday': '11:0-0:0', '...                59   \n1  {'Monday': '4:30-0:0', 'Tuesday': '4:30-0:0', ...               206   \n2  {'Monday': '7:0-22:0', 'Tuesday': '15:0-22:0',...                36   \n3  {'Monday': '9:0-17:30', 'Tuesday': '9:0-17:30'...                70   \n4  {'Monday': '9:30-17:30', 'Tuesday': '9:30-17:3...                31   \n\n                                              review  review_num  \\\n0  [{'stars': 5.0, 'useful': 0, 'funny': 0, 'cool...          17   \n1  [{'stars': 4.0, 'useful': 1, 'funny': 1, 'cool...          18   \n2  [{'stars': 4.0, 'useful': 7, 'funny': 2, 'cool...          10   \n3  [{'stars': 5.0, 'useful': 1, 'funny': 0, 'cool...          14   \n4  [{'stars': 1.0, 'useful': 0, 'funny': 0, 'cool...          13   \n\n                                              images  images_num  \n0                                                NaN           0  \n1  [{'photo_id': 'ITmgGugNqCv7qv8cexFLsQ', 'capti...           5  \n2                                                NaN           0  \n3                                                NaN           0  \n4                                                NaN           0  \n\n[5 rows x 28 columns]",
      "text/html": "<div>\n<style scoped>\n    .dataframe tbody tr th:only-of-type {\n        vertical-align: middle;\n    }\n\n    .dataframe tbody tr th {\n        vertical-align: top;\n    }\n\n    .dataframe thead th {\n        text-align: right;\n    }\n</style>\n<table border=\"1\" class=\"dataframe\">\n  <thead>\n    <tr style=\"text-align: right;\">\n      <th></th>\n      <th>placekey</th>\n      <th>sum_visitors</th>\n      <th>poi_cbg</th>\n      <th>distance_from_home</th>\n      <th>latitude</th>\n      <th>longitude</th>\n      <th>poi_category</th>\n      <th>poi_tract</th>\n      <th>same_category_number_in_tract</th>\n      <th>visitor_home_cbgs</th>\n      <th>...</th>\n      <th>review_count</th>\n      <th>is_open</th>\n      <th>attributes</th>\n      <th>categories</th>\n      <th>hours</th>\n      <th>different_cbg_num</th>\n      <th>review</th>\n      <th>review_num</th>\n      <th>images</th>\n      <th>images_num</th>\n    </tr>\n  </thead>\n  <tbody>\n    <tr>\n      <th>0</th>\n      <td>222-222@628-p6z-b8v</td>\n      <td>11994.650695</td>\n      <td>421010351001</td>\n      <td>7150.500000</td>\n      <td>40.045721</td>\n      <td>-74.994275</td>\n      <td>Restaurants</td>\n      <td>4.210104e+10</td>\n      <td>5.0</td>\n      <td>{'421010362023': 128.80225400678628, '42101033...</td>\n      <td>...</td>\n      <td>17</td>\n      <td>1</td>\n      <td>{'RestaurantsTakeOut': 'True', 'RestaurantsTab...</td>\n      <td>Bars, Restaurants, Sports Bars, Pubs, Sandwich...</td>\n      <td>{'Monday': '0:0-0:0', 'Tuesday': '11:0-0:0', '...</td>\n      <td>59</td>\n      <td>[{'stars': 5.0, 'useful': 0, 'funny': 0, 'cool...</td>\n      <td>17</td>\n      <td>NaN</td>\n      <td>0</td>\n    </tr>\n    <tr>\n      <th>1</th>\n      <td>222-222@628-p74-wtv</td>\n      <td>62957.124151</td>\n      <td>421010331012</td>\n      <td>1506.583333</td>\n      <td>40.038745</td>\n      <td>-75.036203</td>\n      <td>Bars and Drinking Places</td>\n      <td>4.210103e+10</td>\n      <td>5.0</td>\n      <td>{'421010331011': 3727.1850262015905, '42101033...</td>\n      <td>...</td>\n      <td>17</td>\n      <td>1</td>\n      <td>{'WiFi': \"'free'\", 'RestaurantsTakeOut': 'True...</td>\n      <td>Food, Restaurants, Donuts, Coffee &amp; Tea</td>\n      <td>{'Monday': '4:30-0:0', 'Tuesday': '4:30-0:0', ...</td>\n      <td>206</td>\n      <td>[{'stars': 4.0, 'useful': 1, 'funny': 1, 'cool...</td>\n      <td>18</td>\n      <td>[{'photo_id': 'ITmgGugNqCv7qv8cexFLsQ', 'capti...</td>\n      <td>5</td>\n    </tr>\n    <tr>\n      <th>2</th>\n      <td>222-222@628-p77-2hq</td>\n      <td>6168.608214</td>\n      <td>421019891001</td>\n      <td>12798.583333</td>\n      <td>40.036244</td>\n      <td>-75.004551</td>\n      <td>Arts, Cultural and Amussement Places</td>\n      <td>4.210199e+10</td>\n      <td>4.0</td>\n      <td>{'421010330006': 304.59537822175304, '42101033...</td>\n      <td>...</td>\n      <td>10</td>\n      <td>1</td>\n      <td>{'GoodForKids': 'True', 'BikeParking': 'True',...</td>\n      <td>Gun/Rifle Ranges, Active Life</td>\n      <td>{'Monday': '7:0-22:0', 'Tuesday': '15:0-22:0',...</td>\n      <td>36</td>\n      <td>[{'stars': 4.0, 'useful': 7, 'funny': 2, 'cool...</td>\n      <td>10</td>\n      <td>NaN</td>\n      <td>0</td>\n    </tr>\n    <tr>\n      <th>3</th>\n      <td>222-222@628-p7b-hnq</td>\n      <td>8987.587392</td>\n      <td>421010348023</td>\n      <td>3540.166667</td>\n      <td>40.056903</td>\n      <td>-75.013343</td>\n      <td>Personal Services</td>\n      <td>4.210103e+10</td>\n      <td>2.0</td>\n      <td>{'421010348013': 582.0269057934444, '421010381...</td>\n      <td>...</td>\n      <td>13</td>\n      <td>1</td>\n      <td>NaN</td>\n      <td>Automotive, Wheel &amp; Rim Repair, Tires, Auto Re...</td>\n      <td>{'Monday': '9:0-17:30', 'Tuesday': '9:0-17:30'...</td>\n      <td>70</td>\n      <td>[{'stars': 5.0, 'useful': 1, 'funny': 0, 'cool...</td>\n      <td>14</td>\n      <td>NaN</td>\n      <td>0</td>\n    </tr>\n    <tr>\n      <th>4</th>\n      <td>222-222@628-p7b-rc5</td>\n      <td>4624.204464</td>\n      <td>421010346001</td>\n      <td>13408.250000</td>\n      <td>40.069881</td>\n      <td>-75.017379</td>\n      <td>Stores</td>\n      <td>4.210103e+10</td>\n      <td>28.0</td>\n      <td>{'421010383002': 166.61251787160418, '42101026...</td>\n      <td>...</td>\n      <td>11</td>\n      <td>1</td>\n      <td>{'GoodForKids': 'True', 'BusinessAcceptsCredit...</td>\n      <td>Martial Arts, Sporting Goods, Fashion, Sports ...</td>\n      <td>{'Monday': '9:30-17:30', 'Tuesday': '9:30-17:3...</td>\n      <td>31</td>\n      <td>[{'stars': 1.0, 'useful': 0, 'funny': 0, 'cool...</td>\n      <td>13</td>\n      <td>NaN</td>\n      <td>0</td>\n    </tr>\n  </tbody>\n</table>\n<p>5 rows × 28 columns</p>\n</div>"
     },
     "execution_count": 16,
     "metadata": {},
     "output_type": "execute_result"
    }
   ],
   "source": [
    "import pandas as pd\n",
    "result_df=pd.read_csv('/data2/fanbingbing/data/segregation/philadelphia/philadelphia_poi_with_yelp_review_images.csv')\n",
    "result_df.head()"
   ],
   "metadata": {
    "collapsed": false,
    "ExecuteTime": {
     "end_time": "2024-04-28T08:51:01.569718800Z",
     "start_time": "2024-04-28T08:50:59.815850300Z"
    }
   }
  },
  {
   "cell_type": "code",
   "execution_count": 17,
   "outputs": [
    {
     "data": {
      "text/plain": "              placekey  sum_visitors       poi_cbg  distance_from_home  \\\n0  222-222@628-p6z-b8v  11994.650695  421010351001         7150.500000   \n1  222-222@628-p74-wtv  62957.124151  421010331012         1506.583333   \n2  222-222@628-p77-2hq   6168.608214  421019891001        12798.583333   \n3  222-222@628-p7b-hnq   8987.587392  421010348023         3540.166667   \n4  222-222@628-p7b-rc5   4624.204464  421010346001        13408.250000   \n\n    latitude  longitude                          poi_category     poi_tract  \\\n0  40.045721 -74.994275                           Restaurants  4.210104e+10   \n1  40.038745 -75.036203              Bars and Drinking Places  4.210103e+10   \n2  40.036244 -75.004551  Arts, Cultural and Amussement Places  4.210199e+10   \n3  40.056903 -75.013343                     Personal Services  4.210103e+10   \n4  40.069881 -75.017379                                Stores  4.210103e+10   \n\n   same_category_number_in_tract  \\\n0                            5.0   \n1                            5.0   \n2                            4.0   \n3                            2.0   \n4                           28.0   \n\n                                   visitor_home_cbgs  ... is_open  \\\n0  {'421010362023': 128.80225400678628, '42101033...  ...       1   \n1  {'421010331011': 3727.1850262015905, '42101033...  ...       1   \n2  {'421010330006': 304.59537822175304, '42101033...  ...       1   \n3  {'421010348013': 582.0269057934444, '421010381...  ...       1   \n4  {'421010383002': 166.61251787160418, '42101026...  ...       1   \n\n                                          attributes  \\\n0  {'RestaurantsTakeOut': 'True', 'RestaurantsTab...   \n1  {'WiFi': \"'free'\", 'RestaurantsTakeOut': 'True...   \n2  {'GoodForKids': 'True', 'BikeParking': 'True',...   \n3                                                NaN   \n4  {'GoodForKids': 'True', 'BusinessAcceptsCredit...   \n\n                                          categories  \\\n0  Bars, Restaurants, Sports Bars, Pubs, Sandwich...   \n1            Food, Restaurants, Donuts, Coffee & Tea   \n2                      Gun/Rifle Ranges, Active Life   \n3  Automotive, Wheel & Rim Repair, Tires, Auto Re...   \n4  Martial Arts, Sporting Goods, Fashion, Sports ...   \n\n                                               hours different_cbg_num  \\\n0  {'Monday': '0:0-0:0', 'Tuesday': '11:0-0:0', '...                59   \n1  {'Monday': '4:30-0:0', 'Tuesday': '4:30-0:0', ...               206   \n2  {'Monday': '7:0-22:0', 'Tuesday': '15:0-22:0',...                36   \n3  {'Monday': '9:0-17:30', 'Tuesday': '9:0-17:30'...                70   \n4  {'Monday': '9:30-17:30', 'Tuesday': '9:30-17:3...                31   \n\n                                              review review_num  \\\n0  [{'stars': 5.0, 'useful': 0, 'funny': 0, 'cool...         17   \n1  [{'stars': 4.0, 'useful': 1, 'funny': 1, 'cool...         18   \n2  [{'stars': 4.0, 'useful': 7, 'funny': 2, 'cool...         10   \n3  [{'stars': 5.0, 'useful': 1, 'funny': 0, 'cool...         14   \n4  [{'stars': 1.0, 'useful': 0, 'funny': 0, 'cool...         13   \n\n                                              images  images_num  \\\n0                                                NaN           0   \n1  [{'photo_id': 'ITmgGugNqCv7qv8cexFLsQ', 'capti...           5   \n2                                                NaN           0   \n3                                                NaN           0   \n4                                                NaN           0   \n\n                                         images_text  \n0                                                NaN  \n1  [{'caption': '', 'label': 'food', 'image_text'...  \n2                                                NaN  \n3                                                NaN  \n4                                                NaN  \n\n[5 rows x 29 columns]",
      "text/html": "<div>\n<style scoped>\n    .dataframe tbody tr th:only-of-type {\n        vertical-align: middle;\n    }\n\n    .dataframe tbody tr th {\n        vertical-align: top;\n    }\n\n    .dataframe thead th {\n        text-align: right;\n    }\n</style>\n<table border=\"1\" class=\"dataframe\">\n  <thead>\n    <tr style=\"text-align: right;\">\n      <th></th>\n      <th>placekey</th>\n      <th>sum_visitors</th>\n      <th>poi_cbg</th>\n      <th>distance_from_home</th>\n      <th>latitude</th>\n      <th>longitude</th>\n      <th>poi_category</th>\n      <th>poi_tract</th>\n      <th>same_category_number_in_tract</th>\n      <th>visitor_home_cbgs</th>\n      <th>...</th>\n      <th>is_open</th>\n      <th>attributes</th>\n      <th>categories</th>\n      <th>hours</th>\n      <th>different_cbg_num</th>\n      <th>review</th>\n      <th>review_num</th>\n      <th>images</th>\n      <th>images_num</th>\n      <th>images_text</th>\n    </tr>\n  </thead>\n  <tbody>\n    <tr>\n      <th>0</th>\n      <td>222-222@628-p6z-b8v</td>\n      <td>11994.650695</td>\n      <td>421010351001</td>\n      <td>7150.500000</td>\n      <td>40.045721</td>\n      <td>-74.994275</td>\n      <td>Restaurants</td>\n      <td>4.210104e+10</td>\n      <td>5.0</td>\n      <td>{'421010362023': 128.80225400678628, '42101033...</td>\n      <td>...</td>\n      <td>1</td>\n      <td>{'RestaurantsTakeOut': 'True', 'RestaurantsTab...</td>\n      <td>Bars, Restaurants, Sports Bars, Pubs, Sandwich...</td>\n      <td>{'Monday': '0:0-0:0', 'Tuesday': '11:0-0:0', '...</td>\n      <td>59</td>\n      <td>[{'stars': 5.0, 'useful': 0, 'funny': 0, 'cool...</td>\n      <td>17</td>\n      <td>NaN</td>\n      <td>0</td>\n      <td>NaN</td>\n    </tr>\n    <tr>\n      <th>1</th>\n      <td>222-222@628-p74-wtv</td>\n      <td>62957.124151</td>\n      <td>421010331012</td>\n      <td>1506.583333</td>\n      <td>40.038745</td>\n      <td>-75.036203</td>\n      <td>Bars and Drinking Places</td>\n      <td>4.210103e+10</td>\n      <td>5.0</td>\n      <td>{'421010331011': 3727.1850262015905, '42101033...</td>\n      <td>...</td>\n      <td>1</td>\n      <td>{'WiFi': \"'free'\", 'RestaurantsTakeOut': 'True...</td>\n      <td>Food, Restaurants, Donuts, Coffee &amp; Tea</td>\n      <td>{'Monday': '4:30-0:0', 'Tuesday': '4:30-0:0', ...</td>\n      <td>206</td>\n      <td>[{'stars': 4.0, 'useful': 1, 'funny': 1, 'cool...</td>\n      <td>18</td>\n      <td>[{'photo_id': 'ITmgGugNqCv7qv8cexFLsQ', 'capti...</td>\n      <td>5</td>\n      <td>[{'caption': '', 'label': 'food', 'image_text'...</td>\n    </tr>\n    <tr>\n      <th>2</th>\n      <td>222-222@628-p77-2hq</td>\n      <td>6168.608214</td>\n      <td>421019891001</td>\n      <td>12798.583333</td>\n      <td>40.036244</td>\n      <td>-75.004551</td>\n      <td>Arts, Cultural and Amussement Places</td>\n      <td>4.210199e+10</td>\n      <td>4.0</td>\n      <td>{'421010330006': 304.59537822175304, '42101033...</td>\n      <td>...</td>\n      <td>1</td>\n      <td>{'GoodForKids': 'True', 'BikeParking': 'True',...</td>\n      <td>Gun/Rifle Ranges, Active Life</td>\n      <td>{'Monday': '7:0-22:0', 'Tuesday': '15:0-22:0',...</td>\n      <td>36</td>\n      <td>[{'stars': 4.0, 'useful': 7, 'funny': 2, 'cool...</td>\n      <td>10</td>\n      <td>NaN</td>\n      <td>0</td>\n      <td>NaN</td>\n    </tr>\n    <tr>\n      <th>3</th>\n      <td>222-222@628-p7b-hnq</td>\n      <td>8987.587392</td>\n      <td>421010348023</td>\n      <td>3540.166667</td>\n      <td>40.056903</td>\n      <td>-75.013343</td>\n      <td>Personal Services</td>\n      <td>4.210103e+10</td>\n      <td>2.0</td>\n      <td>{'421010348013': 582.0269057934444, '421010381...</td>\n      <td>...</td>\n      <td>1</td>\n      <td>NaN</td>\n      <td>Automotive, Wheel &amp; Rim Repair, Tires, Auto Re...</td>\n      <td>{'Monday': '9:0-17:30', 'Tuesday': '9:0-17:30'...</td>\n      <td>70</td>\n      <td>[{'stars': 5.0, 'useful': 1, 'funny': 0, 'cool...</td>\n      <td>14</td>\n      <td>NaN</td>\n      <td>0</td>\n      <td>NaN</td>\n    </tr>\n    <tr>\n      <th>4</th>\n      <td>222-222@628-p7b-rc5</td>\n      <td>4624.204464</td>\n      <td>421010346001</td>\n      <td>13408.250000</td>\n      <td>40.069881</td>\n      <td>-75.017379</td>\n      <td>Stores</td>\n      <td>4.210103e+10</td>\n      <td>28.0</td>\n      <td>{'421010383002': 166.61251787160418, '42101026...</td>\n      <td>...</td>\n      <td>1</td>\n      <td>{'GoodForKids': 'True', 'BusinessAcceptsCredit...</td>\n      <td>Martial Arts, Sporting Goods, Fashion, Sports ...</td>\n      <td>{'Monday': '9:30-17:30', 'Tuesday': '9:30-17:3...</td>\n      <td>31</td>\n      <td>[{'stars': 1.0, 'useful': 0, 'funny': 0, 'cool...</td>\n      <td>13</td>\n      <td>NaN</td>\n      <td>0</td>\n      <td>NaN</td>\n    </tr>\n  </tbody>\n</table>\n<p>5 rows × 29 columns</p>\n</div>"
     },
     "execution_count": 17,
     "metadata": {},
     "output_type": "execute_result"
    }
   ],
   "source": [
    "import numpy as np\n",
    "import ast\n",
    "# 遍历 result_df 中的每一行\n",
    "def updataimagetext(row):\n",
    "    # 取出 df_temp 的对应行\n",
    "    df_temp_row = df_temp.iloc[row.name]\n",
    "    \n",
    "    # 判断 images_num 与 df_temp 对应行非 None 列的个数是否一致 都对\n",
    "    if row['images_num'] != df_temp_row.notnull().sum():\n",
    "        print(f\"第 {row.name} 行出错\")  # 输出错误信息\n",
    "        return 'wrong'  # 继续下一次循环\n",
    "        \n",
    "    if row['images_num']>0:  \n",
    "        # print('yes in if')\n",
    "        images_list = ast.literal_eval(row['images'])#字符串转化为列表\n",
    "        \n",
    "        # 将字典元素 photo_id 替换为 image_text\n",
    "        updated_images_list = []\n",
    "        for j, image_info in enumerate(images_list):\n",
    "            del image_info['photo_id']\n",
    "            # 确保 df_temp 当前列不是 None\n",
    "            if pd.notnull(df_temp_row.iloc[j]):\n",
    "                image_info['image_text'] = str(df_temp_row.iloc[j])  # 将图片描述转换为字符串并赋值\n",
    "                updated_images_list.append(image_info) \n",
    "        return updated_images_list\n",
    "        # result_df.at[i,'images_text'] = json.dumps(updated_images_list)\n",
    "    else:\n",
    "        # print('yes in else')\n",
    "        return np.NaN \n",
    "\n",
    "\n",
    "result_df['images_text'] = result_df.apply(updataimagetext,axis=1)\n",
    "\n",
    "result_df.head()"
   ],
   "metadata": {
    "collapsed": false,
    "ExecuteTime": {
     "end_time": "2024-04-28T08:51:03.374598300Z",
     "start_time": "2024-04-28T08:51:01.569718800Z"
    }
   }
  },
  {
   "cell_type": "code",
   "execution_count": 18,
   "outputs": [],
   "source": [
    "# result_df.to_csv('/data2/fanbingbing/data/segregation/philadelphia/philadelphia_poi_with_yelp_review_image_imagestext_GPT4v.csv',index=False)\n",
    "result_df.to_csv('/data2/fanbingbing/data/segregation/philadelphia/philadelphia_poi_with_yelp_review_image_imagestext_LLaVA.csv',index=False)"
   ],
   "metadata": {
    "collapsed": false,
    "ExecuteTime": {
     "end_time": "2024-04-28T08:51:09.232866700Z",
     "start_time": "2024-04-28T08:51:03.373596400Z"
    }
   }
  },
  {
   "cell_type": "code",
   "execution_count": 19,
   "outputs": [
    {
     "name": "stdout",
     "output_type": "stream",
     "text": [
      "Pietro's Coal Oven Pizzeria\n",
      "[{'caption': 'I sat in the third table on the right', 'label': 'inside', 'image_text': \" The image shows the interior of Pietro's Coal Oven Pizzeria, a restaurant specializing in Italian cuisine, particularly pizza. The space is characterized by a rustic ambiance with exposed brick walls and wooden floors. The seating arrangement includes tables with white tablecloths and chairs, some of which are occupied by patrons. The lighting is warm and subdued, contributing to the cozy atmosphere. In the background, there are visible elements of the kitchen, including what appears to be a pizza oven, suggesting the restaurant's focus on traditional cooking methods. The overall impression is of a comfortable and inviting dining environment.\"}, {'caption': '', 'label': 'inside', 'image_text': \" The image depicts an interior view of a dining area at Pietro's Coal Oven Pizzeria. The room is adorned with colorful balloons, suggesting a festive occasion or celebration. A long dining table is set with plates, napkins, and what appears to be a centerpiece, possibly for a special event. The table is surrounded by chairs, and the ambiance is warm with the lighting and the cozy atmosphere. The decor and the presence of balloons indicate that the establishment is prepared for a party or a gathering.\"}, {'caption': 'Party room', 'label': 'inside', 'image_text': ' In the image, there are three individuals posing for a photo in front of a backdrop that reads \"Happy Birthday.\" The person on the left is wearing a pink floral dress and a sash with the words \"Birthday Queen.\" The individual in the middle is dressed in a black shirt and pants, and the person on the right is wearing a light blue shirt and shorts. They are all standing on a wooden floor, and the setting appears to be a festive event, possibly a birthday celebration, given the context of the backdrop. The ambiance suggests a casual and cheerful gathering.'}]\n"
     ]
    }
   ],
   "source": [
    "#随机验证顺序\n",
    "print(result_df.loc[3420,'name'])\n",
    "print(result_df.loc[3420,'images_text'])"
   ],
   "metadata": {
    "collapsed": false,
    "ExecuteTime": {
     "end_time": "2024-04-28T08:51:09.258308200Z",
     "start_time": "2024-04-28T08:51:09.240368800Z"
    }
   }
  },
  {
   "cell_type": "markdown",
   "source": [
    "# 替换总结的POIresult"
   ],
   "metadata": {
    "collapsed": false
   }
  },
  {
   "cell_type": "markdown",
   "source": [
    "### 逐一读取text image文件合并到一起"
   ],
   "metadata": {
    "collapsed": false
   }
  },
  {
   "cell_type": "code",
   "execution_count": 10,
   "outputs": [
    {
     "name": "stdout",
     "output_type": "stream",
     "text": [
      "正在处理文件: summary_result_20_1714291090.0059829.csv\n",
      "正在处理文件: summary_result_17_1714287124.2055798.csv\n",
      "正在处理文件: summary_result_22_1714293707.8869877.csv\n",
      "正在处理文件: summary_result_16_1714285655.8183956.csv\n",
      "正在处理文件: summary_result_18_1714288564.354955.csv\n",
      "正在处理文件: summary_result_9_1714275237.8718815.csv\n",
      "正在处理文件: summary_result_12_1714279422.0082743.csv\n",
      "正在处理文件: summary_result_25_1714304563.2352023.csv\n",
      "正在处理文件: summary_result_19_1714289920.9167871.csv\n",
      "正在处理文件: summary_result_14_1714282305.5461097.csv\n",
      "正在处理文件: summary_result_23_1714295040.9804995.csv\n",
      "正在处理文件: summary_result_1_1714238256.610843.csv\n",
      "正在处理文件: summary_result_0_1714236872.8261294.csv\n",
      "正在处理文件: summary_result_7_1714272269.018765.csv\n",
      "正在处理文件: summary_result_8_1714273688.5301113.csv\n",
      "正在处理文件: summary_result_6_1714244950.6067278.csv\n",
      "正在处理文件: summary_result_3_1714241123.836156.csv\n",
      "正在处理文件: summary_result_15_1714283562.2086544.csv\n",
      "正在处理文件: summary_result_24_1714296723.0559204.csv\n",
      "正在处理文件: summary_result_5_1714243662.2413783.csv\n",
      "正在处理文件: summary_result_10_1714276689.0688415.csv\n",
      "正在处理文件: summary_result_13_1714280955.7366955.csv\n",
      "正在处理文件: summary_result_26_1714305744.3745623.csv\n",
      "正在处理文件: summary_result_11_1714278043.469583.csv\n",
      "正在处理文件: summary_result_4_1714242314.8612158.csv\n",
      "正在处理文件: summary_result_2_1714239618.583371.csv\n",
      "正在处理文件: summary_result_21_1714292413.4365635.csv\n",
      "(5363, 2)\n"
     ]
    },
    {
     "data": {
      "text/plain": "              placekey                                        POI summary\n0  25j-222@628-pm4-7t9  Summary: K & A Sandwiches & Grocery is a highl...\n1  25j-222@628-pm4-skf  Summary: Khmer Kitchen is a small, family-owne...\n2  25j-222@628-pmb-c3q  Summary:\\nBlendo is a unique Point of Interest...\n3  25j-223@628-pm4-skf  Summary: Maliwan is a highly regarded Point of...\n4  25j-224@628-pm4-skf  Summary: Cafe Ayla is a small, family-owned Th...",
      "text/html": "<div>\n<style scoped>\n    .dataframe tbody tr th:only-of-type {\n        vertical-align: middle;\n    }\n\n    .dataframe tbody tr th {\n        vertical-align: top;\n    }\n\n    .dataframe thead th {\n        text-align: right;\n    }\n</style>\n<table border=\"1\" class=\"dataframe\">\n  <thead>\n    <tr style=\"text-align: right;\">\n      <th></th>\n      <th>placekey</th>\n      <th>POI summary</th>\n    </tr>\n  </thead>\n  <tbody>\n    <tr>\n      <th>0</th>\n      <td>25j-222@628-pm4-7t9</td>\n      <td>Summary: K &amp; A Sandwiches &amp; Grocery is a highl...</td>\n    </tr>\n    <tr>\n      <th>1</th>\n      <td>25j-222@628-pm4-skf</td>\n      <td>Summary: Khmer Kitchen is a small, family-owne...</td>\n    </tr>\n    <tr>\n      <th>2</th>\n      <td>25j-222@628-pmb-c3q</td>\n      <td>Summary:\\nBlendo is a unique Point of Interest...</td>\n    </tr>\n    <tr>\n      <th>3</th>\n      <td>25j-223@628-pm4-skf</td>\n      <td>Summary: Maliwan is a highly regarded Point of...</td>\n    </tr>\n    <tr>\n      <th>4</th>\n      <td>25j-224@628-pm4-skf</td>\n      <td>Summary: Cafe Ayla is a small, family-owned Th...</td>\n    </tr>\n  </tbody>\n</table>\n</div>"
     },
     "execution_count": 10,
     "metadata": {},
     "output_type": "execute_result"
    }
   ],
   "source": [
    "import os\n",
    "import pandas as pd\n",
    "\n",
    "file_path = '/data2/fanbingbing/GPTdatasets/summary_result/' \n",
    "\n",
    "df_temp = pd.DataFrame()\n",
    "\n",
    "# 遍历指定路径下的所有文件\n",
    "for filename in os.listdir(file_path):\n",
    "    # 检查文件扩展名是否为.csv\n",
    "    if filename.endswith('.csv'):\n",
    "        # 构建完整的文件路径\n",
    "        file_full_path = os.path.join(file_path, filename)\n",
    "        # 打印文件名\n",
    "        print(f\"正在处理文件: {filename}\")\n",
    "        # 读取当前文件到DataFrame中\n",
    "        df_file = pd.read_csv(file_full_path)\n",
    "        # 将当前文件的DataFrame追加到df_temp中\n",
    "        df_temp = pd.concat([df_temp, df_file], ignore_index=True)\n",
    "df_temp.rename(columns={'plackey':'placekey'},inplace=True)\n",
    "print(df_temp.shape)  #5363*2\n",
    "df_temp.head()"
   ],
   "metadata": {
    "collapsed": false,
    "ExecuteTime": {
     "end_time": "2024-04-28T12:06:09.736810700Z",
     "start_time": "2024-04-28T12:06:09.626411500Z"
    }
   }
  },
  {
   "cell_type": "markdown",
   "source": [
    "### 拼成最原始result_df中的一列"
   ],
   "metadata": {
    "collapsed": false
   }
  },
  {
   "cell_type": "code",
   "execution_count": 11,
   "outputs": [
    {
     "name": "stdout",
     "output_type": "stream",
     "text": [
      "Index(['placekey', 'sum_visitors', 'poi_cbg', 'distance_from_home', 'latitude',\n",
      "       'longitude', 'poi_category', 'poi_tract',\n",
      "       'same_category_number_in_tract', 'visitor_home_cbgs',\n",
      "       'visitor_home_cbgs_income_level', 'visitor_home_cbgs_income_proportion',\n",
      "       'segregation_index', 'location_name', 'business_id', 'name', 'address',\n",
      "       'stars', 'review_count', 'is_open', 'attributes', 'categories', 'hours',\n",
      "       'different_cbg_num', 'POI summary'],\n",
      "      dtype='object')\n"
     ]
    },
    {
     "data": {
      "text/plain": "(5369, 25)"
     },
     "execution_count": 11,
     "metadata": {},
     "output_type": "execute_result"
    }
   ],
   "source": [
    "import pandas as pd\n",
    "\n",
    "result_df = pd.read_csv('/data2/fanbingbing/data/segregation/philadelphia/philadelphia_poi_with_yelp.csv')#.iloc[:5,:] #只需要读取没有review和images的\n",
    "\n",
    "result_df = result_df.merge(df_temp,on='placekey',how='left')\n",
    "print(result_df.columns)\n",
    "result_df.shape"
   ],
   "metadata": {
    "collapsed": false,
    "ExecuteTime": {
     "end_time": "2024-04-28T12:06:11.988698900Z",
     "start_time": "2024-04-28T12:06:11.703872Z"
    }
   }
  },
  {
   "cell_type": "code",
   "execution_count": 12,
   "outputs": [],
   "source": [
    "result_df.to_csv(\n",
    "    '/data2/fanbingbing/data/segregation/philadelphia/philadelphia_poi_with_yelp_summary_GPT4v.csv',\n",
    "    index=False)"
   ],
   "metadata": {
    "collapsed": false,
    "ExecuteTime": {
     "end_time": "2024-04-28T12:06:13.906100100Z",
     "start_time": "2024-04-28T12:06:13.098555300Z"
    }
   }
  },
  {
   "cell_type": "code",
   "execution_count": 15,
   "outputs": [
    {
     "name": "stdout",
     "output_type": "stream",
     "text": [
      "placekey                                                             22m-222@628-pmf-ht9\n",
      "sum_visitors                                                                     42448.7\n",
      "poi_cbg                                                                     421010004022\n",
      "distance_from_home                                                                 15157\n",
      "latitude                                                                         39.9529\n",
      "longitude                                                                       -75.1709\n",
      "poi_category                                        Arts, Cultural and Amussement Places\n",
      "poi_tract                                                                     4.2101e+10\n",
      "same_category_number_in_tract                                                         24\n",
      "visitor_home_cbgs                      {'421010245001': 226.05054217255258, '42101001...\n",
      "visitor_home_cbgs_income_level         {'421010245001': 0.0, '421010013001': 3.0, '42...\n",
      "visitor_home_cbgs_income_proportion    {'sum': 42448.7039702263, 'level_0': 7546.0148...\n",
      "segregation_index                                                               0.209987\n",
      "location_name                                                                  GlobalFit\n",
      "business_id                                                       GmLbLU9Vhc9zyB3oYrUlrA\n",
      "name                                                                           GlobalFit\n",
      "address                                                         1818 Market St, Ste 2710\n",
      "stars                                                                                  2\n",
      "review_count                                                                          11\n",
      "is_open                                                                                0\n",
      "attributes                             {'GoodForKids': 'False', 'BusinessParking': \"{...\n",
      "categories                             Active Life, Gyms, Fitness & Instruction, Heal...\n",
      "hours                                                                                NaN\n",
      "different_cbg_num                                                                    222\n",
      "POI summary                            Summary:\\nBased on the reviews, GlobalFit appe...\n",
      "Name: 2200, dtype: object\n"
     ]
    }
   ],
   "source": [
    "#随机验证顺序\n",
    "print(result_df.loc[2200, :])\n",
    "# print(result_df.loc[2200, 'POI summary'])"
   ],
   "metadata": {
    "collapsed": false,
    "ExecuteTime": {
     "end_time": "2024-04-28T12:07:53.975336300Z",
     "start_time": "2024-04-28T12:07:53.959382500Z"
    }
   }
  },
  {
   "cell_type": "markdown",
   "source": [
    "# 合并标记的POI分析，作数据集用"
   ],
   "metadata": {
    "collapsed": false
   }
  },
  {
   "cell_type": "code",
   "execution_count": 3,
   "outputs": [
    {
     "name": "stdout",
     "output_type": "stream",
     "text": [
      "正在处理文件: generate_result_10.csv\n",
      "正在处理文件: generate_result_1.csv\n",
      "正在处理文件: generate_result_9.csv\n",
      "正在处理文件: generate_result_0.csv\n",
      "正在处理文件: generate_result_14.csv\n",
      "正在处理文件: generate_result_16.csv\n",
      "正在处理文件: generate_result_13.csv\n",
      "正在处理文件: generate_result_12.csv\n",
      "正在处理文件: generate_result_19.csv\n",
      "正在处理文件: generate_result_4.csv\n",
      "正在处理文件: generate_result_5.csv\n",
      "正在处理文件: generate_result_7.csv\n",
      "正在处理文件: generate_result_2.csv\n",
      "正在处理文件: generate_result_8.csv\n",
      "正在处理文件: generate_result_18.csv\n",
      "正在处理文件: generate_result_15.csv\n",
      "正在处理文件: generate_result_17.csv\n",
      "正在处理文件: generate_result_3.csv\n",
      "正在处理文件: generate_result_11.csv\n",
      "正在处理文件: generate_result_6.csv\n",
      "(977, 2)\n"
     ]
    },
    {
     "data": {
      "text/plain": "              placekey                                 datasets_reasoning\n0  22w-222@628-pj9-6tv  ### Step 1: Summarizing Characteristics of CBG...\n1  22w-222@628-pmb-bx5  1. Integrating the data from the CBG features ...\n2  22w-222@628-pmb-c89  **Step 1: Summary of common characteristics am...\n3  22w-222@63s-dvr-9zz  **Step 1: Common Characteristics of CBGs with ...\n4  22w-223@628-pfx-kmk  Based on the provided data and analysis, we ob...",
      "text/html": "<div>\n<style scoped>\n    .dataframe tbody tr th:only-of-type {\n        vertical-align: middle;\n    }\n\n    .dataframe tbody tr th {\n        vertical-align: top;\n    }\n\n    .dataframe thead th {\n        text-align: right;\n    }\n</style>\n<table border=\"1\" class=\"dataframe\">\n  <thead>\n    <tr style=\"text-align: right;\">\n      <th></th>\n      <th>placekey</th>\n      <th>datasets_reasoning</th>\n    </tr>\n  </thead>\n  <tbody>\n    <tr>\n      <th>0</th>\n      <td>22w-222@628-pj9-6tv</td>\n      <td>### Step 1: Summarizing Characteristics of CBG...</td>\n    </tr>\n    <tr>\n      <th>1</th>\n      <td>22w-222@628-pmb-bx5</td>\n      <td>1. Integrating the data from the CBG features ...</td>\n    </tr>\n    <tr>\n      <th>2</th>\n      <td>22w-222@628-pmb-c89</td>\n      <td>**Step 1: Summary of common characteristics am...</td>\n    </tr>\n    <tr>\n      <th>3</th>\n      <td>22w-222@63s-dvr-9zz</td>\n      <td>**Step 1: Common Characteristics of CBGs with ...</td>\n    </tr>\n    <tr>\n      <th>4</th>\n      <td>22w-223@628-pfx-kmk</td>\n      <td>Based on the provided data and analysis, we ob...</td>\n    </tr>\n  </tbody>\n</table>\n</div>"
     },
     "execution_count": 3,
     "metadata": {},
     "output_type": "execute_result"
    }
   ],
   "source": [
    "import os\n",
    "import pandas as pd\n",
    "\n",
    "file_path = '/data2/fanbingbing/GPTdatasets/generate_datasets_gpt4-32k_final/'\n",
    "\n",
    "df_temp = pd.DataFrame()\n",
    "\n",
    "# 遍历指定路径下的所有文件\n",
    "for filename in os.listdir(file_path):\n",
    "    # 检查文件扩展名是否为.csv\n",
    "    if filename.endswith('.csv'):\n",
    "        # 构建完整的文件路径\n",
    "        file_full_path = os.path.join(file_path, filename)\n",
    "        # 打印文件名\n",
    "        print(f\"正在处理文件: {filename}\")\n",
    "        # 读取当前文件到DataFrame中\n",
    "        df_file = pd.read_csv(file_full_path)\n",
    "        # 将当前文件的DataFrame追加到df_temp中\n",
    "        df_temp = pd.concat([df_temp, df_file], ignore_index=True)\n",
    "df_temp.rename(columns={'plackey':'placekey'},inplace=True)\n",
    "print(df_temp.shape)  #977*2\n",
    "df_temp.head()"
   ],
   "metadata": {
    "collapsed": false,
    "ExecuteTime": {
     "end_time": "2024-04-30T12:02:33.344025800Z",
     "start_time": "2024-04-30T12:02:33.272511Z"
    }
   }
  },
  {
   "cell_type": "code",
   "execution_count": 4,
   "outputs": [
    {
     "name": "stdout",
     "output_type": "stream",
     "text": [
      "Index(['placekey', 'sum_visitors', 'poi_cbg', 'distance_from_home', 'latitude',\n",
      "       'longitude', 'poi_category', 'poi_tract',\n",
      "       'same_category_number_in_tract', 'visitor_home_cbgs',\n",
      "       'visitor_home_cbgs_income_level', 'visitor_home_cbgs_income_proportion',\n",
      "       'segregation_index', 'location_name', 'business_id', 'name', 'address',\n",
      "       'stars', 'review_count', 'is_open', 'attributes', 'categories', 'hours',\n",
      "       'different_cbg_num', 'POI summary', 'datasets_reasoning'],\n",
      "      dtype='object')\n"
     ]
    },
    {
     "data": {
      "text/plain": "(977, 26)"
     },
     "execution_count": 4,
     "metadata": {},
     "output_type": "execute_result"
    }
   ],
   "source": [
    "result_df =pd.read_csv(\n",
    "    '/data2/fanbingbing/data/segregation/philadelphia/philadelphia_poi_with_yelp_summary_GPT4v.csv')\n",
    "result_df = result_df.merge(df_temp,on='placekey',how='right')\n",
    "print(result_df.columns)\n",
    "result_df.shape"
   ],
   "metadata": {
    "collapsed": false,
    "ExecuteTime": {
     "end_time": "2024-04-30T12:02:35.678891800Z",
     "start_time": "2024-04-30T12:02:35.360781700Z"
    }
   }
  },
  {
   "cell_type": "code",
   "execution_count": 5,
   "outputs": [],
   "source": [
    "result_df.to_csv(\n",
    "    '/data2/fanbingbing/data/segregation/philadelphia/philadelphia_poi_with_yelp_GPT4v_marked_datasets.csv',\n",
    "    index=False)"
   ],
   "metadata": {
    "collapsed": false,
    "ExecuteTime": {
     "end_time": "2024-04-30T12:04:07.946873Z",
     "start_time": "2024-04-30T12:04:07.741849400Z"
    }
   }
  },
  {
   "cell_type": "markdown",
   "source": [
    "# 如果质量不好再加'/data2/fanbingbing/GPTdatasets/generate_datasets_gpt4-32k/'"
   ],
   "metadata": {
    "collapsed": false
   }
  },
  {
   "cell_type": "markdown",
   "source": [
    "# 一些草稿"
   ],
   "metadata": {
    "collapsed": false
   }
  },
  {
   "cell_type": "code",
   "execution_count": 7,
   "outputs": [
    {
     "name": "stdout",
     "output_type": "stream",
     "text": [
      "123\n"
     ]
    }
   ],
   "source": [
    "import pandas as pd\n",
    "\n",
    "result_df=pd.read_csv('/data2/fanbingbing/data/segregation/philadelphia/philadelphia_poi_with_yelp_review_images.csv',usecols=['images_num']).iloc[2951:3000,:]\n",
    "# selected_row=result_df[result_df['placekey']=='22b-222@628-pmf-jy9']\n",
    "print(result_df['images_num'].sum())"
   ],
   "metadata": {
    "collapsed": false,
    "ExecuteTime": {
     "end_time": "2024-04-24T10:34:30.026783600Z",
     "start_time": "2024-04-24T10:34:29.237176700Z"
    }
   }
  },
  {
   "cell_type": "code",
   "execution_count": null,
   "outputs": [],
   "source": [],
   "metadata": {
    "collapsed": false
   }
  }
 ],
 "metadata": {
  "kernelspec": {
   "display_name": "Python 3",
   "language": "python",
   "name": "python3"
  },
  "language_info": {
   "codemirror_mode": {
    "name": "ipython",
    "version": 3
   },
   "file_extension": ".py",
   "mimetype": "text/x-python",
   "name": "python",
   "nbconvert_exporter": "python",
   "pygments_lexer": "ipython3",
   "version": "3.7.4"
  }
 },
 "nbformat": 4,
 "nbformat_minor": 2
}
