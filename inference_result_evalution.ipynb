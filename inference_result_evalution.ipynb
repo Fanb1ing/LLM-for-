{
 "cells": [
  {
   "cell_type": "markdown",
   "source": [
    "# 该notebook完成从推理结果文件夹中的原始数据到segregation结果的全部任务"
   ],
   "metadata": {
    "collapsed": false
   },
   "id": "cf8f5b65e5ffaab7"
  },
  {
   "cell_type": "code",
   "execution_count": 1,
   "outputs": [],
   "source": [
    "# 这是未训练的\n",
    "whole_file_path = '/data2/fanbingbing/Segregation/LLaMA-inference/'\n",
    "# 在指定数据文件夹下指定原始数据集和整理后数据位置\n",
    "origin_data_path = whole_file_path+'0511-8B-Instruction/'\n",
    "save_name = whole_file_path+'demo_0511_predict_flow_01.csv' #多个csv合并为一个 两列\n",
    "save_compare_name = whole_file_path+'demo_0511_predict_flow_compare.csv' # ['placekey', 'census_block_group', 'predict_flow_01', 'predict_flow','flow', 'flow_01']\n",
    "save_predict_segregation_df_name = whole_file_path+'demo_0511_predict_segregation.csv'\n",
    "# result_real_path = '/data2/fanbingbing/Segregation/data/Segregation/philadelphia/philadelphia_poi_with_yelp.csv' #这是所有cbg来源的\n",
    "result_real_path = '/data2/fanbingbing/Segregation/data/Segregation/philadelphia/philadelphia2019_segregationindex_includingoneflow_5km.csv' #这是只看5km的"
   ],
   "metadata": {
    "collapsed": false,
    "ExecuteTime": {
     "end_time": "2024-05-18T08:26:53.535450900Z",
     "start_time": "2024-05-18T08:26:53.442702800Z"
    }
   },
   "id": "6699f3d2f8513a28"
  },
  {
   "cell_type": "code",
   "execution_count": 1,
   "outputs": [],
   "source": [
    "#这是训练之后的\n",
    "whole_file_path = '/data2/fanbingbing/Segregation/LLaMA-finetuning/inference/'\n",
    "origin_data_path = whole_file_path+'0511-8B-Instruction/'\n",
    "save_name = whole_file_path+'0511_predict_flow_01.csv' #多个csv合并为一个 两列\n",
    "save_compare_name = whole_file_path+'0511_predict_flow_compare.csv' # ['placekey', 'census_block_group', 'predict_flow_01', 'predict_flow','flow', 'flow_01']\n",
    "save_predict_segregation_df_name = whole_file_path+'0511_predict_segregation.csv' #['placekey', 'predict_flow_01', 'predict_visitor_home','predict_visitor_home_income_level','predict_visitor_home_income_proportion', 'predict_segregation_index']\n",
    "# result_real_path = '/data2/fanbingbing/Segregation/data/Segregation/philadelphia/philadelphia_poi_with_yelp.csv' #这是所有cbg来源的\n",
    "result_real_path = '/data2/fanbingbing/Segregation/data/Segregation/philadelphia/philadelphia2019_segregationindex_includingoneflow_5km.csv' #这是只看5km的\n"
   ],
   "metadata": {
    "collapsed": false,
    "ExecuteTime": {
     "end_time": "2024-05-20T06:22:14.550212200Z",
     "start_time": "2024-05-20T06:22:14.518956900Z"
    }
   },
   "id": "f58f5e4c3572c40e"
  },
  {
   "cell_type": "markdown",
   "source": [
    "# 改为遍历后缀数字"
   ],
   "metadata": {
    "collapsed": false
   },
   "id": "34662c791714d01c"
  },
  {
   "cell_type": "markdown",
   "source": [
    "### 整理文件夹中所有数据\n",
    "\n",
    "数据格式：placekey+predict_flow_01(字典形式）\n",
    "下面是demo\n",
    "上面是所有"
   ],
   "metadata": {
    "collapsed": false
   },
   "id": "8aef4d1504f84dc8"
  },
  {
   "cell_type": "code",
   "execution_count": 2,
   "outputs": [
    {
     "name": "stdout",
     "output_type": "stream",
     "text": [
      "(5369, 2)\n"
     ]
    },
    {
     "data": {
      "text/plain": "              placekey                                    predict_flow_01\n0  222-222@628-p6z-b8v  {'421010315011': 1, '421010315012': 0, '421010...\n1  222-222@628-p74-wtv  {'421010184001': 1, '421010292003': 1, '421010...\n2  222-222@628-p77-2hq  {'421010314021': 1, '421010314022': 1, '421010...\n3  222-222@628-p7b-hnq  {'421010310001': 1, '421010313002': 1, '421010...\n4  222-222@628-p7b-rc5  {'421010310001': 0, '421010314011': 0, '421010...",
      "text/html": "<div>\n<style scoped>\n    .dataframe tbody tr th:only-of-type {\n        vertical-align: middle;\n    }\n\n    .dataframe tbody tr th {\n        vertical-align: top;\n    }\n\n    .dataframe thead th {\n        text-align: right;\n    }\n</style>\n<table border=\"1\" class=\"dataframe\">\n  <thead>\n    <tr style=\"text-align: right;\">\n      <th></th>\n      <th>placekey</th>\n      <th>predict_flow_01</th>\n    </tr>\n  </thead>\n  <tbody>\n    <tr>\n      <th>0</th>\n      <td>222-222@628-p6z-b8v</td>\n      <td>{'421010315011': 1, '421010315012': 0, '421010...</td>\n    </tr>\n    <tr>\n      <th>1</th>\n      <td>222-222@628-p74-wtv</td>\n      <td>{'421010184001': 1, '421010292003': 1, '421010...</td>\n    </tr>\n    <tr>\n      <th>2</th>\n      <td>222-222@628-p77-2hq</td>\n      <td>{'421010314021': 1, '421010314022': 1, '421010...</td>\n    </tr>\n    <tr>\n      <th>3</th>\n      <td>222-222@628-p7b-hnq</td>\n      <td>{'421010310001': 1, '421010313002': 1, '421010...</td>\n    </tr>\n    <tr>\n      <th>4</th>\n      <td>222-222@628-p7b-rc5</td>\n      <td>{'421010310001': 0, '421010314011': 0, '421010...</td>\n    </tr>\n  </tbody>\n</table>\n</div>"
     },
     "execution_count": 2,
     "metadata": {},
     "output_type": "execute_result"
    }
   ],
   "source": [
    "import os\n",
    "import pandas as pd\n",
    "\n",
    "df_temp = pd.DataFrame()\n",
    "\n",
    "# 遍历指定路径下的所有文件\n",
    "for i in range(269):\n",
    "    # print(i)\n",
    "    filename = f'judge_result_{i}.csv'\n",
    "    file_full_path = os.path.join(origin_data_path, filename)\n",
    "    if os.path.exists(file_full_path):\n",
    "        # print(f\"正在处理文件: {filename}\")\n",
    "        # 读取当前文件到DataFrame中\n",
    "        df_file = pd.read_csv(file_full_path)\n",
    "        # 将当前文件的DataFrame追加到df_temp中\n",
    "        df_temp = pd.concat([df_temp, df_file], ignore_index=True)\n",
    "    else:\n",
    "        print(f'file {filename} not found')\n",
    "\n",
    "print(df_temp.shape)  \n",
    "df_temp.head()"
   ],
   "metadata": {
    "collapsed": false,
    "ExecuteTime": {
     "end_time": "2024-05-20T06:22:19.222154300Z",
     "start_time": "2024-05-20T06:22:17.180854200Z"
    }
   },
   "id": "fb02a8f6c5477a02"
  },
  {
   "cell_type": "code",
   "execution_count": 2,
   "id": "d9d095eac949ef3f",
   "metadata": {
    "collapsed": true,
    "ExecuteTime": {
     "end_time": "2024-05-17T05:21:01.168623500Z",
     "start_time": "2024-05-17T05:20:58.697736Z"
    }
   },
   "outputs": [
    {
     "name": "stdout",
     "output_type": "stream",
     "text": [
      "正在处理文件: judge_result_232.csv\n",
      "正在处理文件: judge_result_172.csv\n",
      "正在处理文件: judge_result_31.csv\n",
      "正在处理文件: judge_result_56.csv\n",
      "正在处理文件: judge_result_7.csv\n",
      "正在处理文件: judge_result_106.csv\n",
      "正在处理文件: judge_result_4.csv\n",
      "正在处理文件: judge_result_78.csv\n",
      "正在处理文件: judge_result_173.csv\n",
      "正在处理文件: judge_result_156.csv\n",
      "正在处理文件: judge_result_118.csv\n",
      "正在处理文件: judge_result_51.csv\n",
      "正在处理文件: judge_result_52.csv\n",
      "正在处理文件: judge_result_91.csv\n",
      "正在处理文件: judge_result_229.csv\n",
      "正在处理文件: judge_result_244.csv\n",
      "正在处理文件: judge_result_175.csv\n",
      "正在处理文件: judge_result_167.csv\n",
      "正在处理文件: judge_result_253.csv\n",
      "正在处理文件: judge_result_165.csv\n",
      "正在处理文件: judge_result_179.csv\n",
      "正在处理文件: judge_result_237.csv\n",
      "正在处理文件: judge_result_89.csv\n",
      "正在处理文件: judge_result_254.csv\n",
      "正在处理文件: judge_result_59.csv\n",
      "正在处理文件: judge_result_79.csv\n",
      "正在处理文件: judge_result_182.csv\n",
      "正在处理文件: judge_result_25.csv\n",
      "正在处理文件: judge_result_230.csv\n",
      "正在处理文件: judge_result_268.csv\n",
      "正在处理文件: judge_result_233.csv\n",
      "正在处理文件: judge_result_218.csv\n",
      "正在处理文件: judge_result_130.csv\n",
      "正在处理文件: judge_result_44.csv\n",
      "正在处理文件: judge_result_68.csv\n",
      "正在处理文件: judge_result_252.csv\n",
      "正在处理文件: judge_result_250.csv\n",
      "正在处理文件: judge_result_32.csv\n",
      "正在处理文件: judge_result_158.csv\n",
      "正在处理文件: judge_result_177.csv\n",
      "正在处理文件: judge_result_239.csv\n",
      "正在处理文件: judge_result_256.csv\n",
      "正在处理文件: judge_result_255.csv\n",
      "正在处理文件: judge_result_107.csv\n",
      "正在处理文件: judge_result_58.csv\n",
      "正在处理文件: judge_result_262.csv\n",
      "正在处理文件: judge_result_92.csv\n",
      "正在处理文件: judge_result_50.csv\n",
      "正在处理文件: judge_result_43.csv\n",
      "正在处理文件: judge_result_261.csv\n",
      "正在处理文件: judge_result_217.csv\n",
      "正在处理文件: judge_result_166.csv\n",
      "正在处理文件: judge_result_188.csv\n",
      "正在处理文件: judge_result_131.csv\n",
      "正在处理文件: judge_result_137.csv\n",
      "正在处理文件: judge_result_35.csv\n",
      "正在处理文件: judge_result_201.csv\n",
      "正在处理文件: judge_result_209.csv\n",
      "正在处理文件: judge_result_21.csv\n",
      "正在处理文件: judge_result_72.csv\n",
      "正在处理文件: judge_result_160.csv\n",
      "正在处理文件: judge_result_86.csv\n",
      "正在处理文件: judge_result_251.csv\n",
      "正在处理文件: judge_result_40.csv\n",
      "正在处理文件: judge_result_157.csv\n",
      "正在处理文件: judge_result_24.csv\n",
      "正在处理文件: judge_result_26.csv\n",
      "正在处理文件: judge_result_121.csv\n",
      "正在处理文件: judge_result_133.csv\n",
      "正在处理文件: judge_result_161.csv\n",
      "正在处理文件: judge_result_39.csv\n",
      "正在处理文件: judge_result_221.csv\n",
      "正在处理文件: judge_result_141.csv\n",
      "正在处理文件: judge_result_69.csv\n",
      "正在处理文件: judge_result_142.csv\n",
      "正在处理文件: judge_result_1.csv\n",
      "正在处理文件: judge_result_226.csv\n",
      "正在处理文件: judge_result_258.csv\n",
      "正在处理文件: judge_result_126.csv\n",
      "正在处理文件: judge_result_13.csv\n",
      "正在处理文件: judge_result_101.csv\n",
      "正在处理文件: judge_result_155.csv\n",
      "正在处理文件: judge_result_215.csv\n",
      "正在处理文件: judge_result_235.csv\n",
      "正在处理文件: judge_result_6.csv\n",
      "正在处理文件: judge_result_243.csv\n",
      "正在处理文件: judge_result_22.csv\n",
      "正在处理文件: judge_result_57.csv\n",
      "正在处理文件: judge_result_267.csv\n",
      "正在处理文件: judge_result_222.csv\n",
      "正在处理文件: judge_result_159.csv\n",
      "正在处理文件: judge_result_211.csv\n",
      "正在处理文件: judge_result_114.csv\n",
      "正在处理文件: judge_result_9.csv\n",
      "正在处理文件: judge_result_10.csv\n",
      "正在处理文件: judge_result_65.csv\n",
      "正在处理文件: judge_result_110.csv\n",
      "正在处理文件: judge_result_112.csv\n",
      "正在处理文件: judge_result_27.csv\n",
      "正在处理文件: judge_result_90.csv\n",
      "正在处理文件: judge_result_75.csv\n",
      "正在处理文件: judge_result_119.csv\n",
      "正在处理文件: judge_result_140.csv\n",
      "正在处理文件: judge_result_14.csv\n",
      "正在处理文件: judge_result_236.csv\n",
      "正在处理文件: judge_result_37.csv\n",
      "正在处理文件: judge_result_264.csv\n",
      "正在处理文件: judge_result_11.csv\n",
      "正在处理文件: judge_result_83.csv\n",
      "正在处理文件: judge_result_223.csv\n",
      "正在处理文件: judge_result_82.csv\n",
      "正在处理文件: judge_result_125.csv\n",
      "正在处理文件: judge_result_246.csv\n",
      "正在处理文件: judge_result_12.csv\n",
      "正在处理文件: judge_result_181.csv\n",
      "正在处理文件: judge_result_34.csv\n",
      "正在处理文件: judge_result_113.csv\n",
      "正在处理文件: judge_result_185.csv\n",
      "正在处理文件: judge_result_170.csv\n",
      "正在处理文件: judge_result_154.csv\n",
      "正在处理文件: judge_result_174.csv\n",
      "正在处理文件: judge_result_62.csv\n",
      "正在处理文件: judge_result_136.csv\n",
      "正在处理文件: judge_result_42.csv\n",
      "正在处理文件: judge_result_55.csv\n",
      "正在处理文件: judge_result_225.csv\n",
      "正在处理文件: judge_result_240.csv\n",
      "正在处理文件: judge_result_28.csv\n",
      "正在处理文件: judge_result_203.csv\n",
      "正在处理文件: judge_result_67.csv\n",
      "正在处理文件: judge_result_183.csv\n",
      "正在处理文件: judge_result_80.csv\n",
      "正在处理文件: judge_result_123.csv\n",
      "正在处理文件: judge_result_33.csv\n",
      "正在处理文件: judge_result_153.csv\n",
      "正在处理文件: judge_result_66.csv\n",
      "正在处理文件: judge_result_219.csv\n",
      "正在处理文件: judge_result_260.csv\n",
      "正在处理文件: judge_result_122.csv\n",
      "正在处理文件: judge_result_60.csv\n",
      "正在处理文件: judge_result_162.csv\n",
      "正在处理文件: judge_result_266.csv\n",
      "正在处理文件: judge_result_93.csv\n",
      "正在处理文件: judge_result_116.csv\n",
      "正在处理文件: judge_result_104.csv\n",
      "正在处理文件: judge_result_204.csv\n",
      "正在处理文件: judge_result_228.csv\n",
      "正在处理文件: judge_result_245.csv\n",
      "正在处理文件: judge_result_263.csv\n",
      "正在处理文件: judge_result_176.csv\n",
      "正在处理文件: judge_result_150.csv\n",
      "正在处理文件: judge_result_134.csv\n",
      "正在处理文件: judge_result_8.csv\n",
      "正在处理文件: judge_result_100.csv\n",
      "正在处理文件: judge_result_127.csv\n",
      "正在处理文件: judge_result_151.csv\n",
      "正在处理文件: judge_result_190.csv\n",
      "正在处理文件: judge_result_128.csv\n",
      "正在处理文件: judge_result_19.csv\n",
      "正在处理文件: judge_result_152.csv\n",
      "正在处理文件: judge_result_214.csv\n",
      "正在处理文件: judge_result_184.csv\n",
      "正在处理文件: judge_result_169.csv\n",
      "正在处理文件: judge_result_17.csv\n",
      "正在处理文件: judge_result_139.csv\n",
      "正在处理文件: judge_result_115.csv\n",
      "正在处理文件: judge_result_212.csv\n",
      "正在处理文件: judge_result_257.csv\n",
      "正在处理文件: judge_result_2.csv\n",
      "正在处理文件: judge_result_210.csv\n",
      "正在处理文件: judge_result_163.csv\n",
      "正在处理文件: judge_result_5.csv\n",
      "正在处理文件: judge_result_3.csv\n",
      "正在处理文件: judge_result_84.csv\n",
      "正在处理文件: judge_result_23.csv\n",
      "正在处理文件: judge_result_38.csv\n",
      "正在处理文件: judge_result_171.csv\n",
      "正在处理文件: judge_result_135.csv\n",
      "正在处理文件: judge_result_105.csv\n",
      "正在处理文件: judge_result_132.csv\n",
      "正在处理文件: judge_result_129.csv\n",
      "正在处理文件: judge_result_77.csv\n",
      "正在处理文件: judge_result_234.csv\n",
      "正在处理文件: judge_result_202.csv\n",
      "正在处理文件: judge_result_20.csv\n",
      "正在处理文件: judge_result_220.csv\n",
      "正在处理文件: judge_result_124.csv\n",
      "正在处理文件: judge_result_187.csv\n",
      "正在处理文件: judge_result_29.csv\n",
      "正在处理文件: judge_result_191.csv\n",
      "正在处理文件: judge_result_216.csv\n",
      "正在处理文件: judge_result_73.csv\n",
      "正在处理文件: judge_result_109.csv\n",
      "正在处理文件: judge_result_178.csv\n",
      "正在处理文件: judge_result_164.csv\n",
      "正在处理文件: judge_result_85.csv\n",
      "正在处理文件: judge_result_81.csv\n",
      "正在处理文件: judge_result_138.csv\n",
      "正在处理文件: judge_result_231.csv\n",
      "正在处理文件: judge_result_76.csv\n",
      "正在处理文件: judge_result_103.csv\n",
      "正在处理文件: judge_result_200.csv\n",
      "正在处理文件: judge_result_102.csv\n",
      "正在处理文件: judge_result_180.csv\n",
      "正在处理文件: judge_result_16.csv\n",
      "正在处理文件: judge_result_265.csv\n",
      "正在处理文件: judge_result_208.csv\n",
      "正在处理文件: judge_result_108.csv\n",
      "正在处理文件: judge_result_54.csv\n",
      "正在处理文件: judge_result_88.csv\n",
      "正在处理文件: judge_result_45.csv\n",
      "正在处理文件: judge_result_117.csv\n",
      "正在处理文件: judge_result_87.csv\n",
      "正在处理文件: judge_result_63.csv\n",
      "正在处理文件: judge_result_206.csv\n",
      "正在处理文件: judge_result_227.csv\n",
      "正在处理文件: judge_result_36.csv\n",
      "正在处理文件: judge_result_30.csv\n",
      "正在处理文件: judge_result_61.csv\n",
      "正在处理文件: judge_result_224.csv\n",
      "正在处理文件: judge_result_74.csv\n",
      "正在处理文件: judge_result_53.csv\n",
      "正在处理文件: judge_result_238.csv\n",
      "正在处理文件: judge_result_207.csv\n",
      "正在处理文件: judge_result_15.csv\n",
      "正在处理文件: judge_result_189.csv\n",
      "正在处理文件: judge_result_0.csv\n",
      "正在处理文件: judge_result_18.csv\n",
      "正在处理文件: judge_result_111.csv\n",
      "正在处理文件: judge_result_71.csv\n",
      "正在处理文件: judge_result_70.csv\n",
      "正在处理文件: judge_result_41.csv\n",
      "正在处理文件: judge_result_168.csv\n",
      "正在处理文件: judge_result_186.csv\n",
      "正在处理文件: judge_result_64.csv\n",
      "正在处理文件: judge_result_241.csv\n",
      "正在处理文件: judge_result_213.csv\n",
      "正在处理文件: judge_result_259.csv\n",
      "正在处理文件: judge_result_205.csv\n",
      "正在处理文件: judge_result_242.csv\n",
      "正在处理文件: judge_result_120.csv\n",
      "(4809, 2)\n"
     ]
    },
    {
     "data": {
      "text/plain": "              placekey                                    predict_flow_01\n0  zzw-223@628-pm9-yjv  {'421010001001': 0, '421010001002': 1, '421010...\n1  zzw-223@628-pmb-2x5  {'421010001001': 0, '421010001002': 0, '421010...\n2  zzw-223@628-pmb-5s5  {'421010001001': 0, '421010001002': 1, '421010...\n3  zzw-223@628-pmb-68v  {'421010001001': 1, '421010001002': 1, '421010...\n4  zzw-223@628-pmb-6c5  {'421010001001': 0, '421010001002': 0, '421010...",
      "text/html": "<div>\n<style scoped>\n    .dataframe tbody tr th:only-of-type {\n        vertical-align: middle;\n    }\n\n    .dataframe tbody tr th {\n        vertical-align: top;\n    }\n\n    .dataframe thead th {\n        text-align: right;\n    }\n</style>\n<table border=\"1\" class=\"dataframe\">\n  <thead>\n    <tr style=\"text-align: right;\">\n      <th></th>\n      <th>placekey</th>\n      <th>predict_flow_01</th>\n    </tr>\n  </thead>\n  <tbody>\n    <tr>\n      <th>0</th>\n      <td>zzw-223@628-pm9-yjv</td>\n      <td>{'421010001001': 0, '421010001002': 1, '421010...</td>\n    </tr>\n    <tr>\n      <th>1</th>\n      <td>zzw-223@628-pmb-2x5</td>\n      <td>{'421010001001': 0, '421010001002': 0, '421010...</td>\n    </tr>\n    <tr>\n      <th>2</th>\n      <td>zzw-223@628-pmb-5s5</td>\n      <td>{'421010001001': 0, '421010001002': 1, '421010...</td>\n    </tr>\n    <tr>\n      <th>3</th>\n      <td>zzw-223@628-pmb-68v</td>\n      <td>{'421010001001': 1, '421010001002': 1, '421010...</td>\n    </tr>\n    <tr>\n      <th>4</th>\n      <td>zzw-223@628-pmb-6c5</td>\n      <td>{'421010001001': 0, '421010001002': 0, '421010...</td>\n    </tr>\n  </tbody>\n</table>\n</div>"
     },
     "execution_count": 2,
     "metadata": {},
     "output_type": "execute_result"
    }
   ],
   "source": [
    "import os\n",
    "import pandas as pd\n",
    "\n",
    "df_temp = pd.DataFrame()\n",
    "\n",
    "# 遍历指定路径下的所有文件\n",
    "for filename in os.listdir(origin_data_path):\n",
    "# 检查文件扩展名是否为.csv\n",
    "    if filename.endswith('.csv'):\n",
    "        # 构建完整的文件路径\n",
    "        file_full_path = os.path.join(origin_data_path, filename)\n",
    "        print(f\"正在处理文件: {filename}\")\n",
    "        # 读取当前文件到DataFrame中\n",
    "        df_file = pd.read_csv(file_full_path)\n",
    "        # 将当前文件的DataFrame追加到df_temp中\n",
    "        df_temp = pd.concat([df_temp, df_file], ignore_index=True)\n",
    "\n",
    "print(df_temp.shape)  \n",
    "df_temp.head()"
   ]
  },
  {
   "cell_type": "code",
   "execution_count": 3,
   "outputs": [],
   "source": [
    "df_temp.to_csv(save_name,index=False)\n",
    "del df_temp"
   ],
   "metadata": {
    "collapsed": false,
    "ExecuteTime": {
     "end_time": "2024-05-20T06:22:25.585256900Z",
     "start_time": "2024-05-20T06:22:25.017241900Z"
    }
   },
   "id": "51f2538be70bdec9"
  },
  {
   "cell_type": "markdown",
   "source": [
    "### 得到flow_01对比结果"
   ],
   "metadata": {
    "collapsed": false
   },
   "id": "b6d859e42a724460"
  },
  {
   "cell_type": "code",
   "execution_count": 4,
   "outputs": [
    {
     "data": {
      "text/plain": "              placekey census_block_group  predict_flow        flow  flow_01\n0  222-222@628-p6z-b8v       421010315011     23.849152    0.000000        0\n1  222-222@628-p6z-b8v       421010315012     22.786348    0.000000        0\n2  222-222@628-p6z-b8v       421010315014     23.187072  105.741724        1\n3  222-222@628-p6z-b8v       421010315015     24.573077    0.000000        0\n4  222-222@628-p6z-b8v       421010315022     21.524259    0.000000        0",
      "text/html": "<div>\n<style scoped>\n    .dataframe tbody tr th:only-of-type {\n        vertical-align: middle;\n    }\n\n    .dataframe tbody tr th {\n        vertical-align: top;\n    }\n\n    .dataframe thead th {\n        text-align: right;\n    }\n</style>\n<table border=\"1\" class=\"dataframe\">\n  <thead>\n    <tr style=\"text-align: right;\">\n      <th></th>\n      <th>placekey</th>\n      <th>census_block_group</th>\n      <th>predict_flow</th>\n      <th>flow</th>\n      <th>flow_01</th>\n    </tr>\n  </thead>\n  <tbody>\n    <tr>\n      <th>0</th>\n      <td>222-222@628-p6z-b8v</td>\n      <td>421010315011</td>\n      <td>23.849152</td>\n      <td>0.000000</td>\n      <td>0</td>\n    </tr>\n    <tr>\n      <th>1</th>\n      <td>222-222@628-p6z-b8v</td>\n      <td>421010315012</td>\n      <td>22.786348</td>\n      <td>0.000000</td>\n      <td>0</td>\n    </tr>\n    <tr>\n      <th>2</th>\n      <td>222-222@628-p6z-b8v</td>\n      <td>421010315014</td>\n      <td>23.187072</td>\n      <td>105.741724</td>\n      <td>1</td>\n    </tr>\n    <tr>\n      <th>3</th>\n      <td>222-222@628-p6z-b8v</td>\n      <td>421010315015</td>\n      <td>24.573077</td>\n      <td>0.000000</td>\n      <td>0</td>\n    </tr>\n    <tr>\n      <th>4</th>\n      <td>222-222@628-p6z-b8v</td>\n      <td>421010315022</td>\n      <td>21.524259</td>\n      <td>0.000000</td>\n      <td>0</td>\n    </tr>\n  </tbody>\n</table>\n</div>"
     },
     "execution_count": 4,
     "metadata": {},
     "output_type": "execute_result"
    }
   ],
   "source": [
    "# 读取真实flow，整理预测flow，并将二者合并\n",
    "POI_flow_path = '/data2/fanbingbing/Segregation/data/baseline/philadelphia_all_ODpair_predictvsreal.csv'\n",
    "real_flow_df = pd.read_csv(POI_flow_path,usecols=['placekey', 'census_block_group', 'predict_flow','flow']) #这里的OD没有重复的，验证过了\n",
    "real_flow_df['flow_01'] = real_flow_df['flow'].apply(lambda x: 1 if x>0 else 0)  #二值化\n",
    "real_flow_df['census_block_group'] = real_flow_df['census_block_group'].astype(str)  #int64转str\n",
    "real_flow_df.head()"
   ],
   "metadata": {
    "collapsed": false,
    "ExecuteTime": {
     "end_time": "2024-05-20T06:22:27.545895100Z",
     "start_time": "2024-05-20T06:22:25.859639100Z"
    }
   },
   "id": "dbe6fb042d0ff776"
  },
  {
   "cell_type": "code",
   "execution_count": 5,
   "outputs": [],
   "source": [
    "# 读取预测的flow_01\n",
    "result_evaluate_file = save_name\n",
    "result_evaluate_df = pd.read_csv(result_evaluate_file)"
   ],
   "metadata": {
    "collapsed": false,
    "ExecuteTime": {
     "end_time": "2024-05-20T06:22:27.799425100Z",
     "start_time": "2024-05-20T06:22:27.514107200Z"
    }
   },
   "id": "177a3f786fe73abb"
  },
  {
   "cell_type": "code",
   "execution_count": 6,
   "outputs": [
    {
     "name": "stdout",
     "output_type": "stream",
     "text": [
      "(1627320, 3)\n"
     ]
    },
    {
     "data": {
      "text/plain": "              placekey census_block_group  predict_flow_01\n0  222-222@628-p6z-b8v       421010315011                1\n1  222-222@628-p6z-b8v       421010315012                0\n2  222-222@628-p6z-b8v       421010315014                1\n3  222-222@628-p6z-b8v       421010315015                1\n4  222-222@628-p6z-b8v       421010315022                1",
      "text/html": "<div>\n<style scoped>\n    .dataframe tbody tr th:only-of-type {\n        vertical-align: middle;\n    }\n\n    .dataframe tbody tr th {\n        vertical-align: top;\n    }\n\n    .dataframe thead th {\n        text-align: right;\n    }\n</style>\n<table border=\"1\" class=\"dataframe\">\n  <thead>\n    <tr style=\"text-align: right;\">\n      <th></th>\n      <th>placekey</th>\n      <th>census_block_group</th>\n      <th>predict_flow_01</th>\n    </tr>\n  </thead>\n  <tbody>\n    <tr>\n      <th>0</th>\n      <td>222-222@628-p6z-b8v</td>\n      <td>421010315011</td>\n      <td>1</td>\n    </tr>\n    <tr>\n      <th>1</th>\n      <td>222-222@628-p6z-b8v</td>\n      <td>421010315012</td>\n      <td>0</td>\n    </tr>\n    <tr>\n      <th>2</th>\n      <td>222-222@628-p6z-b8v</td>\n      <td>421010315014</td>\n      <td>1</td>\n    </tr>\n    <tr>\n      <th>3</th>\n      <td>222-222@628-p6z-b8v</td>\n      <td>421010315015</td>\n      <td>1</td>\n    </tr>\n    <tr>\n      <th>4</th>\n      <td>222-222@628-p6z-b8v</td>\n      <td>421010315022</td>\n      <td>1</td>\n    </tr>\n  </tbody>\n</table>\n</div>"
     },
     "execution_count": 6,
     "metadata": {},
     "output_type": "execute_result"
    }
   ],
   "source": [
    "# 得到预测的flow_01展开df\n",
    "result_evaluate_df['predict_flow_01'] = result_evaluate_df['predict_flow_01'].apply(lambda x:eval(x)) #str转化为dict\n",
    "temp_list = []\n",
    "for index,row in result_evaluate_df.iterrows():\n",
    "    placekey = row['placekey']\n",
    "    dict = row['predict_flow_01']\n",
    "    for item,value in dict.items():\n",
    "        temp_list.append([placekey,item,value])\n",
    "\n",
    "predict_flow_df = pd.DataFrame(temp_list,columns=['placekey','census_block_group','predict_flow_01'])\n",
    "print(predict_flow_df.shape) # *3\n",
    "predict_flow_df.head()"
   ],
   "metadata": {
    "collapsed": false,
    "ExecuteTime": {
     "end_time": "2024-05-20T06:22:32.677533100Z",
     "start_time": "2024-05-20T06:22:27.844079300Z"
    }
   },
   "id": "bbd463f3dd3e7061"
  },
  {
   "cell_type": "code",
   "execution_count": 7,
   "outputs": [
    {
     "data": {
      "text/plain": "              placekey census_block_group  predict_flow_01  predict_flow  \\\n0  222-222@628-p6z-b8v       421010315011                1     23.849152   \n1  222-222@628-p6z-b8v       421010315012                0     22.786348   \n2  222-222@628-p6z-b8v       421010315014                1     23.187072   \n3  222-222@628-p6z-b8v       421010315015                1     24.573077   \n4  222-222@628-p6z-b8v       421010315022                1     21.524259   \n\n         flow  flow_01  \n0    0.000000        0  \n1    0.000000        0  \n2  105.741724        1  \n3    0.000000        0  \n4    0.000000        0  ",
      "text/html": "<div>\n<style scoped>\n    .dataframe tbody tr th:only-of-type {\n        vertical-align: middle;\n    }\n\n    .dataframe tbody tr th {\n        vertical-align: top;\n    }\n\n    .dataframe thead th {\n        text-align: right;\n    }\n</style>\n<table border=\"1\" class=\"dataframe\">\n  <thead>\n    <tr style=\"text-align: right;\">\n      <th></th>\n      <th>placekey</th>\n      <th>census_block_group</th>\n      <th>predict_flow_01</th>\n      <th>predict_flow</th>\n      <th>flow</th>\n      <th>flow_01</th>\n    </tr>\n  </thead>\n  <tbody>\n    <tr>\n      <th>0</th>\n      <td>222-222@628-p6z-b8v</td>\n      <td>421010315011</td>\n      <td>1</td>\n      <td>23.849152</td>\n      <td>0.000000</td>\n      <td>0</td>\n    </tr>\n    <tr>\n      <th>1</th>\n      <td>222-222@628-p6z-b8v</td>\n      <td>421010315012</td>\n      <td>0</td>\n      <td>22.786348</td>\n      <td>0.000000</td>\n      <td>0</td>\n    </tr>\n    <tr>\n      <th>2</th>\n      <td>222-222@628-p6z-b8v</td>\n      <td>421010315014</td>\n      <td>1</td>\n      <td>23.187072</td>\n      <td>105.741724</td>\n      <td>1</td>\n    </tr>\n    <tr>\n      <th>3</th>\n      <td>222-222@628-p6z-b8v</td>\n      <td>421010315015</td>\n      <td>1</td>\n      <td>24.573077</td>\n      <td>0.000000</td>\n      <td>0</td>\n    </tr>\n    <tr>\n      <th>4</th>\n      <td>222-222@628-p6z-b8v</td>\n      <td>421010315022</td>\n      <td>1</td>\n      <td>21.524259</td>\n      <td>0.000000</td>\n      <td>0</td>\n    </tr>\n  </tbody>\n</table>\n</div>"
     },
     "execution_count": 7,
     "metadata": {},
     "output_type": "execute_result"
    }
   ],
   "source": [
    "#合并real和predict的flow_01\n",
    "compare_df = pd.merge(predict_flow_df,real_flow_df,on=['placekey','census_block_group'],how='left')\n",
    "compare_df.to_csv(save_compare_name,index=False)\n",
    "compare_df.head()"
   ],
   "metadata": {
    "collapsed": false,
    "ExecuteTime": {
     "end_time": "2024-05-20T06:22:37.047933Z",
     "start_time": "2024-05-20T06:22:32.646280700Z"
    }
   },
   "id": "59bb406cdb66f193"
  },
  {
   "cell_type": "code",
   "execution_count": 8,
   "outputs": [
    {
     "name": "stdout",
     "output_type": "stream",
     "text": [
      "Precision: 0.21\n",
      "Recall: 0.45\n",
      "F1 Score: 0.29\n"
     ]
    }
   ],
   "source": [
    "# 计算分类结指标，绘制混淆矩阵暂时没画\n",
    "\n",
    "# 计算混淆矩阵\n",
    "TP = ((compare_df['predict_flow_01'] == 1) & (compare_df['flow_01'] == 1)).sum()\n",
    "TN = ((compare_df['predict_flow_01'] == 0) & (compare_df['flow_01'] == 0)).sum()\n",
    "FP = ((compare_df['predict_flow_01'] == 1) & (compare_df['flow_01'] == 0)).sum()\n",
    "FN = ((compare_df['predict_flow_01'] == 0) & (compare_df['flow_01'] == 1)).sum()\n",
    "\n",
    "# 计算精确率、召回率和F1分数\n",
    "precision = TP / (TP + FP) if (TP + FP) > 0 else 0\n",
    "recall = TP / (TP + FN) if (TP + FN) > 0 else 0\n",
    "F1 = 2 * (precision * recall) / (precision + recall) if (precision + recall) > 0 else 0\n",
    "\n",
    "# 打印结果\n",
    "print(f\"Precision: {precision:.2f}\")\n",
    "print(f\"Recall: {recall:.2f}\")\n",
    "print(f\"F1 Score: {F1:.2f}\")"
   ],
   "metadata": {
    "collapsed": false,
    "ExecuteTime": {
     "end_time": "2024-05-20T06:22:37.336199100Z",
     "start_time": "2024-05-20T06:22:37.047933Z"
    }
   },
   "id": "7db2aec2bb2e4f78"
  },
  {
   "cell_type": "markdown",
   "source": [
    "### 得到segregation对比结果"
   ],
   "metadata": {
    "collapsed": false
   },
   "id": "6c31385ab02fb506"
  },
  {
   "cell_type": "code",
   "execution_count": 9,
   "outputs": [
    {
     "name": "stderr",
     "output_type": "stream",
     "text": [
      "5369it [06:30, 13.74it/s]\n"
     ]
    },
    {
     "data": {
      "text/plain": "              placekey                                    predict_flow_01  \\\n0  222-222@628-p6z-b8v  {'421010315011': 1, '421010315012': 0, '421010...   \n1  222-222@628-p74-wtv  {'421010184001': 1, '421010292003': 1, '421010...   \n2  222-222@628-p77-2hq  {'421010314021': 1, '421010314022': 1, '421010...   \n3  222-222@628-p7b-hnq  {'421010310001': 1, '421010313002': 1, '421010...   \n4  222-222@628-p7b-rc5  {'421010310001': 0, '421010314011': 0, '421010...   \n\n                                predict_visitor_home  \n0  {'421010315011': 23.849151656658268, '42101031...  \n1  {'421010184001': 32.80524735981318, '421010292...  \n2  {'421010314021': 19.48355728058388, '421010314...  \n3  {'421010310001': 22.0217422532058, '4210103130...  \n4  {'421010332002': 20.1754025386224, '4210103330...  ",
      "text/html": "<div>\n<style scoped>\n    .dataframe tbody tr th:only-of-type {\n        vertical-align: middle;\n    }\n\n    .dataframe tbody tr th {\n        vertical-align: top;\n    }\n\n    .dataframe thead th {\n        text-align: right;\n    }\n</style>\n<table border=\"1\" class=\"dataframe\">\n  <thead>\n    <tr style=\"text-align: right;\">\n      <th></th>\n      <th>placekey</th>\n      <th>predict_flow_01</th>\n      <th>predict_visitor_home</th>\n    </tr>\n  </thead>\n  <tbody>\n    <tr>\n      <th>0</th>\n      <td>222-222@628-p6z-b8v</td>\n      <td>{'421010315011': 1, '421010315012': 0, '421010...</td>\n      <td>{'421010315011': 23.849151656658268, '42101031...</td>\n    </tr>\n    <tr>\n      <th>1</th>\n      <td>222-222@628-p74-wtv</td>\n      <td>{'421010184001': 1, '421010292003': 1, '421010...</td>\n      <td>{'421010184001': 32.80524735981318, '421010292...</td>\n    </tr>\n    <tr>\n      <th>2</th>\n      <td>222-222@628-p77-2hq</td>\n      <td>{'421010314021': 1, '421010314022': 1, '421010...</td>\n      <td>{'421010314021': 19.48355728058388, '421010314...</td>\n    </tr>\n    <tr>\n      <th>3</th>\n      <td>222-222@628-p7b-hnq</td>\n      <td>{'421010310001': 1, '421010313002': 1, '421010...</td>\n      <td>{'421010310001': 22.0217422532058, '4210103130...</td>\n    </tr>\n    <tr>\n      <th>4</th>\n      <td>222-222@628-p7b-rc5</td>\n      <td>{'421010310001': 0, '421010314011': 0, '421010...</td>\n      <td>{'421010332002': 20.1754025386224, '4210103330...</td>\n    </tr>\n  </tbody>\n</table>\n</div>"
     },
     "execution_count": 9,
     "metadata": {},
     "output_type": "execute_result"
    }
   ],
   "source": [
    "#汇总predict_flow，保存到result_evaluate_df的predict_visitor_home列\n",
    "import tqdm\n",
    "\n",
    "result_evaluate_df['predict_visitor_home'] = None\n",
    "for index, row in tqdm.tqdm(result_evaluate_df.iterrows()):\n",
    "    placekey = row['placekey']\n",
    "    filtered_rows = compare_df[compare_df['placekey'] == placekey]\n",
    "    \n",
    "    # 初始化一个空字典来保存键值对\n",
    "    predict_visitor_home_dict = {}\n",
    "    for _, compare_row in filtered_rows.iterrows():\n",
    "        # 如果predict_flow_01是1\n",
    "        if compare_row['predict_flow_01'] == 1:\n",
    "            # 形成键值对，键是census_block_group，值是predict_flow\n",
    "            predict_visitor_home_dict[compare_row['census_block_group']] = compare_row['predict_flow']\n",
    "    \n",
    "    # 将得到的字典保存到result_evaluate_df的predict_visitor_home列\n",
    "    result_evaluate_df.at[index, 'predict_visitor_home'] = predict_visitor_home_dict\n",
    "\n",
    "result_evaluate_df.head()"
   ],
   "metadata": {
    "collapsed": false,
    "ExecuteTime": {
     "end_time": "2024-05-20T06:29:07.954425200Z",
     "start_time": "2024-05-20T06:22:37.165871300Z"
    }
   },
   "id": "25f95167bee1cff6"
  },
  {
   "cell_type": "code",
   "execution_count": 10,
   "outputs": [
    {
     "data": {
      "text/plain": "              placekey                                    predict_flow_01  \\\n0  222-222@628-p6z-b8v  {'421010315011': 1, '421010315012': 0, '421010...   \n1  222-222@628-p74-wtv  {'421010184001': 1, '421010292003': 1, '421010...   \n2  222-222@628-p77-2hq  {'421010314021': 1, '421010314022': 1, '421010...   \n3  222-222@628-p7b-hnq  {'421010310001': 1, '421010313002': 1, '421010...   \n4  222-222@628-p7b-rc5  {'421010310001': 0, '421010314011': 0, '421010...   \n\n                                predict_visitor_home  \\\n0  {'421010315011': 23.849151656658268, '42101031...   \n1  {'421010184001': 32.80524735981318, '421010292...   \n2  {'421010314021': 19.48355728058388, '421010314...   \n3  {'421010310001': 22.0217422532058, '4210103130...   \n4  {'421010332002': 20.1754025386224, '4210103330...   \n\n                   predict_visitor_home_income_level  \n0  {'421010315011': 1.0, '421010315014': 3.0, '42...  \n1  {'421010184001': 3.0, '421010292003': 3.0, '42...  \n2  {'421010314021': 1.0, '421010314022': 0.0, '42...  \n3  {'421010310001': 2.0, '421010313002': 2.0, '42...  \n4  {'421010332002': 3.0, '421010333001': 1.0, '42...  ",
      "text/html": "<div>\n<style scoped>\n    .dataframe tbody tr th:only-of-type {\n        vertical-align: middle;\n    }\n\n    .dataframe tbody tr th {\n        vertical-align: top;\n    }\n\n    .dataframe thead th {\n        text-align: right;\n    }\n</style>\n<table border=\"1\" class=\"dataframe\">\n  <thead>\n    <tr style=\"text-align: right;\">\n      <th></th>\n      <th>placekey</th>\n      <th>predict_flow_01</th>\n      <th>predict_visitor_home</th>\n      <th>predict_visitor_home_income_level</th>\n    </tr>\n  </thead>\n  <tbody>\n    <tr>\n      <th>0</th>\n      <td>222-222@628-p6z-b8v</td>\n      <td>{'421010315011': 1, '421010315012': 0, '421010...</td>\n      <td>{'421010315011': 23.849151656658268, '42101031...</td>\n      <td>{'421010315011': 1.0, '421010315014': 3.0, '42...</td>\n    </tr>\n    <tr>\n      <th>1</th>\n      <td>222-222@628-p74-wtv</td>\n      <td>{'421010184001': 1, '421010292003': 1, '421010...</td>\n      <td>{'421010184001': 32.80524735981318, '421010292...</td>\n      <td>{'421010184001': 3.0, '421010292003': 3.0, '42...</td>\n    </tr>\n    <tr>\n      <th>2</th>\n      <td>222-222@628-p77-2hq</td>\n      <td>{'421010314021': 1, '421010314022': 1, '421010...</td>\n      <td>{'421010314021': 19.48355728058388, '421010314...</td>\n      <td>{'421010314021': 1.0, '421010314022': 0.0, '42...</td>\n    </tr>\n    <tr>\n      <th>3</th>\n      <td>222-222@628-p7b-hnq</td>\n      <td>{'421010310001': 1, '421010313002': 1, '421010...</td>\n      <td>{'421010310001': 22.0217422532058, '4210103130...</td>\n      <td>{'421010310001': 2.0, '421010313002': 2.0, '42...</td>\n    </tr>\n    <tr>\n      <th>4</th>\n      <td>222-222@628-p7b-rc5</td>\n      <td>{'421010310001': 0, '421010314011': 0, '421010...</td>\n      <td>{'421010332002': 20.1754025386224, '4210103330...</td>\n      <td>{'421010332002': 3.0, '421010333001': 1.0, '42...</td>\n    </tr>\n  </tbody>\n</table>\n</div>"
     },
     "execution_count": 10,
     "metadata": {},
     "output_type": "execute_result"
    }
   ],
   "source": [
    "import numpy as np\n",
    "specific_features=pd.read_csv('/data2/fanbingbing/Segregation/data/Segregation/philadelphia/philadelphia_cbg_features.csv',usecols=['census_block_group','average_income_group'])\n",
    "\n",
    "def update_dict(row):\n",
    "    new_dict = row['predict_visitor_home'].copy() # 要加copy否则会同时修改\n",
    "    for key, value in new_dict.items():\n",
    "        if int(key) in specific_features['census_block_group'].values:\n",
    "            new_dict[key] = specific_features.loc[specific_features['census_block_group'] == int(key), 'average_income_group'].values[0]\n",
    "        else:\n",
    "            new_dict[key] = np.nan\n",
    "    return new_dict\n",
    "\n",
    "result_evaluate_df['predict_visitor_home_income_level'] = result_evaluate_df.apply(lambda row:update_dict(row), axis=1)\n",
    "result_evaluate_df.head()"
   ],
   "metadata": {
    "collapsed": false,
    "ExecuteTime": {
     "end_time": "2024-05-20T06:30:39.690064900Z",
     "start_time": "2024-05-20T06:29:07.954201200Z"
    }
   },
   "id": "eadf9237b2b2fa74"
  },
  {
   "cell_type": "code",
   "execution_count": 11,
   "outputs": [
    {
     "data": {
      "text/plain": "              placekey                                    predict_flow_01  \\\n0  222-222@628-p6z-b8v  {'421010315011': 1, '421010315012': 0, '421010...   \n1  222-222@628-p74-wtv  {'421010184001': 1, '421010292003': 1, '421010...   \n2  222-222@628-p77-2hq  {'421010314021': 1, '421010314022': 1, '421010...   \n3  222-222@628-p7b-hnq  {'421010310001': 1, '421010313002': 1, '421010...   \n4  222-222@628-p7b-rc5  {'421010310001': 0, '421010314011': 0, '421010...   \n\n                                predict_visitor_home  \\\n0  {'421010315011': 23.849151656658268, '42101031...   \n1  {'421010184001': 32.80524735981318, '421010292...   \n2  {'421010314021': 19.48355728058388, '421010314...   \n3  {'421010310001': 22.0217422532058, '4210103130...   \n4  {'421010332002': 20.1754025386224, '4210103330...   \n\n                   predict_visitor_home_income_level  \\\n0  {'421010315011': 1.0, '421010315014': 3.0, '42...   \n1  {'421010184001': 3.0, '421010292003': 3.0, '42...   \n2  {'421010314021': 1.0, '421010314022': 0.0, '42...   \n3  {'421010310001': 2.0, '421010313002': 2.0, '42...   \n4  {'421010332002': 3.0, '421010333001': 1.0, '42...   \n\n              predict_visitor_home_income_proportion  \n0  {'sum': 1275.7080249327357, 'level_0': 50.3266...  \n1  {'sum': 7542.770148865367, 'level_0': 1032.261...  \n2  {'sum': 1637.9441452976662, 'level_0': 72.7732...  \n3  {'sum': 2879.0579546157483, 'level_0': 131.504...  \n4  {'sum': 1202.433542641224, 'level_0': 28.12690...  ",
      "text/html": "<div>\n<style scoped>\n    .dataframe tbody tr th:only-of-type {\n        vertical-align: middle;\n    }\n\n    .dataframe tbody tr th {\n        vertical-align: top;\n    }\n\n    .dataframe thead th {\n        text-align: right;\n    }\n</style>\n<table border=\"1\" class=\"dataframe\">\n  <thead>\n    <tr style=\"text-align: right;\">\n      <th></th>\n      <th>placekey</th>\n      <th>predict_flow_01</th>\n      <th>predict_visitor_home</th>\n      <th>predict_visitor_home_income_level</th>\n      <th>predict_visitor_home_income_proportion</th>\n    </tr>\n  </thead>\n  <tbody>\n    <tr>\n      <th>0</th>\n      <td>222-222@628-p6z-b8v</td>\n      <td>{'421010315011': 1, '421010315012': 0, '421010...</td>\n      <td>{'421010315011': 23.849151656658268, '42101031...</td>\n      <td>{'421010315011': 1.0, '421010315014': 3.0, '42...</td>\n      <td>{'sum': 1275.7080249327357, 'level_0': 50.3266...</td>\n    </tr>\n    <tr>\n      <th>1</th>\n      <td>222-222@628-p74-wtv</td>\n      <td>{'421010184001': 1, '421010292003': 1, '421010...</td>\n      <td>{'421010184001': 32.80524735981318, '421010292...</td>\n      <td>{'421010184001': 3.0, '421010292003': 3.0, '42...</td>\n      <td>{'sum': 7542.770148865367, 'level_0': 1032.261...</td>\n    </tr>\n    <tr>\n      <th>2</th>\n      <td>222-222@628-p77-2hq</td>\n      <td>{'421010314021': 1, '421010314022': 1, '421010...</td>\n      <td>{'421010314021': 19.48355728058388, '421010314...</td>\n      <td>{'421010314021': 1.0, '421010314022': 0.0, '42...</td>\n      <td>{'sum': 1637.9441452976662, 'level_0': 72.7732...</td>\n    </tr>\n    <tr>\n      <th>3</th>\n      <td>222-222@628-p7b-hnq</td>\n      <td>{'421010310001': 1, '421010313002': 1, '421010...</td>\n      <td>{'421010310001': 22.0217422532058, '4210103130...</td>\n      <td>{'421010310001': 2.0, '421010313002': 2.0, '42...</td>\n      <td>{'sum': 2879.0579546157483, 'level_0': 131.504...</td>\n    </tr>\n    <tr>\n      <th>4</th>\n      <td>222-222@628-p7b-rc5</td>\n      <td>{'421010310001': 0, '421010314011': 0, '421010...</td>\n      <td>{'421010332002': 20.1754025386224, '4210103330...</td>\n      <td>{'421010332002': 3.0, '421010333001': 1.0, '42...</td>\n      <td>{'sum': 1202.433542641224, 'level_0': 28.12690...</td>\n    </tr>\n  </tbody>\n</table>\n</div>"
     },
     "execution_count": 11,
     "metadata": {},
     "output_type": "execute_result"
    }
   ],
   "source": [
    "# 将visitor_home_cbg_income_level中相同level的visitor人数求和\n",
    "# 保存在visitor_home_cbg_income_proportion中\n",
    "import math\n",
    "\n",
    "def calculate_total_people(row):\n",
    "    # print(row.name)\n",
    "    income_level = row['predict_visitor_home_income_level']\n",
    "    visitor_number = row['predict_visitor_home']\n",
    "    people_sum = {'sum': 0,'level_0':0,'level_1':0,'level_2':0,'level_3':0}\n",
    "    people_sum_keys_list = list(people_sum.keys())\n",
    "    \n",
    "    for keyl, valuel in income_level.items():\n",
    "        if not math.isnan(valuel):  #如果，先计算总数，然后对应类别加人数\n",
    "            for keyn, valuen in visitor_number.items():\n",
    "                if keyn == keyl:  # 这里假设将满足特定条件的键为'sum'的值相加\n",
    "                    people_sum['sum'] += valuen\n",
    "                    people_sum[people_sum_keys_list[int(valuel)+1]] += valuen\n",
    "    return people_sum\n",
    "\n",
    "result_evaluate_df['predict_visitor_home_income_proportion'] = result_evaluate_df.apply(calculate_total_people, axis=1)\n",
    "result_evaluate_df.head()"
   ],
   "metadata": {
    "collapsed": false,
    "ExecuteTime": {
     "end_time": "2024-05-20T06:30:43.008478100Z",
     "start_time": "2024-05-20T06:30:39.690064900Z"
    }
   },
   "id": "1d9ce93048b85f5d"
  },
  {
   "cell_type": "code",
   "execution_count": 12,
   "outputs": [
    {
     "data": {
      "text/plain": "              placekey                                    predict_flow_01  \\\n0  222-222@628-p6z-b8v  {'421010315011': 1, '421010315012': 0, '421010...   \n1  222-222@628-p74-wtv  {'421010184001': 1, '421010292003': 1, '421010...   \n2  222-222@628-p77-2hq  {'421010314021': 1, '421010314022': 1, '421010...   \n3  222-222@628-p7b-hnq  {'421010310001': 1, '421010313002': 1, '421010...   \n4  222-222@628-p7b-rc5  {'421010310001': 0, '421010314011': 0, '421010...   \n\n                                predict_visitor_home  \\\n0  {'421010315011': 23.849151656658268, '42101031...   \n1  {'421010184001': 32.80524735981318, '421010292...   \n2  {'421010314021': 19.48355728058388, '421010314...   \n3  {'421010310001': 22.0217422532058, '4210103130...   \n4  {'421010332002': 20.1754025386224, '4210103330...   \n\n                   predict_visitor_home_income_level  \\\n0  {'421010315011': 1.0, '421010315014': 3.0, '42...   \n1  {'421010184001': 3.0, '421010292003': 3.0, '42...   \n2  {'421010314021': 1.0, '421010314022': 0.0, '42...   \n3  {'421010310001': 2.0, '421010313002': 2.0, '42...   \n4  {'421010332002': 3.0, '421010333001': 1.0, '42...   \n\n              predict_visitor_home_income_proportion  \\\n0  {'sum': 1275.7080249327357, 'level_0': 50.3266...   \n1  {'sum': 7542.770148865367, 'level_0': 1032.261...   \n2  {'sum': 1637.9441452976662, 'level_0': 72.7732...   \n3  {'sum': 2879.0579546157483, 'level_0': 131.504...   \n4  {'sum': 1202.433542641224, 'level_0': 28.12690...   \n\n   predict_segregation_index  \n0                   0.282276  \n1                   0.274685  \n2                   0.286343  \n3                   0.395577  \n4                   0.522178  ",
      "text/html": "<div>\n<style scoped>\n    .dataframe tbody tr th:only-of-type {\n        vertical-align: middle;\n    }\n\n    .dataframe tbody tr th {\n        vertical-align: top;\n    }\n\n    .dataframe thead th {\n        text-align: right;\n    }\n</style>\n<table border=\"1\" class=\"dataframe\">\n  <thead>\n    <tr style=\"text-align: right;\">\n      <th></th>\n      <th>placekey</th>\n      <th>predict_flow_01</th>\n      <th>predict_visitor_home</th>\n      <th>predict_visitor_home_income_level</th>\n      <th>predict_visitor_home_income_proportion</th>\n      <th>predict_segregation_index</th>\n    </tr>\n  </thead>\n  <tbody>\n    <tr>\n      <th>0</th>\n      <td>222-222@628-p6z-b8v</td>\n      <td>{'421010315011': 1, '421010315012': 0, '421010...</td>\n      <td>{'421010315011': 23.849151656658268, '42101031...</td>\n      <td>{'421010315011': 1.0, '421010315014': 3.0, '42...</td>\n      <td>{'sum': 1275.7080249327357, 'level_0': 50.3266...</td>\n      <td>0.282276</td>\n    </tr>\n    <tr>\n      <th>1</th>\n      <td>222-222@628-p74-wtv</td>\n      <td>{'421010184001': 1, '421010292003': 1, '421010...</td>\n      <td>{'421010184001': 32.80524735981318, '421010292...</td>\n      <td>{'421010184001': 3.0, '421010292003': 3.0, '42...</td>\n      <td>{'sum': 7542.770148865367, 'level_0': 1032.261...</td>\n      <td>0.274685</td>\n    </tr>\n    <tr>\n      <th>2</th>\n      <td>222-222@628-p77-2hq</td>\n      <td>{'421010314021': 1, '421010314022': 1, '421010...</td>\n      <td>{'421010314021': 19.48355728058388, '421010314...</td>\n      <td>{'421010314021': 1.0, '421010314022': 0.0, '42...</td>\n      <td>{'sum': 1637.9441452976662, 'level_0': 72.7732...</td>\n      <td>0.286343</td>\n    </tr>\n    <tr>\n      <th>3</th>\n      <td>222-222@628-p7b-hnq</td>\n      <td>{'421010310001': 1, '421010313002': 1, '421010...</td>\n      <td>{'421010310001': 22.0217422532058, '4210103130...</td>\n      <td>{'421010310001': 2.0, '421010313002': 2.0, '42...</td>\n      <td>{'sum': 2879.0579546157483, 'level_0': 131.504...</td>\n      <td>0.395577</td>\n    </tr>\n    <tr>\n      <th>4</th>\n      <td>222-222@628-p7b-rc5</td>\n      <td>{'421010310001': 0, '421010314011': 0, '421010...</td>\n      <td>{'421010332002': 20.1754025386224, '4210103330...</td>\n      <td>{'421010332002': 3.0, '421010333001': 1.0, '42...</td>\n      <td>{'sum': 1202.433542641224, 'level_0': 28.12690...</td>\n      <td>0.522178</td>\n    </tr>\n  </tbody>\n</table>\n</div>"
     },
     "execution_count": 12,
     "metadata": {},
     "output_type": "execute_result"
    }
   ],
   "source": [
    " # 计算segregation_index : 2/3* (sum of |por_1234 - 0.25|)\n",
    "def calculate_segregation_index(row):\n",
    "    people_sum = row['predict_visitor_home_income_proportion']\n",
    "    people_sum_keys_list = list(people_sum.keys())\n",
    "    segregation_index = float(0)\n",
    "    sumnumber = people_sum[people_sum_keys_list[0]]\n",
    "    if sumnumber != 0: #因为有缺失的\n",
    "        for key_index in range(1, len(people_sum_keys_list)):  # 从第二个键值开始遍历\n",
    "            key = people_sum_keys_list[key_index]\n",
    "            value = people_sum[key]\n",
    "            segregation_index += abs(value/sumnumber-0.25)\n",
    "        segregation_index *= 2/3\n",
    "    else:\n",
    "        segregation_index = np.nan\n",
    "    return segregation_index\n",
    "\n",
    "\n",
    "result_evaluate_df['predict_segregation_index'] = result_evaluate_df.apply(calculate_segregation_index,axis=1)\n",
    "result_evaluate_df.head()"
   ],
   "metadata": {
    "collapsed": false,
    "ExecuteTime": {
     "end_time": "2024-05-20T06:30:43.008478100Z",
     "start_time": "2024-05-20T06:30:42.999099500Z"
    }
   },
   "id": "cf812c76993ff713"
  },
  {
   "cell_type": "code",
   "execution_count": 13,
   "outputs": [
    {
     "name": "stdout",
     "output_type": "stream",
     "text": [
      "Index(['placekey', 'predict_flow_01', 'predict_visitor_home',\n",
      "       'predict_visitor_home_income_level',\n",
      "       'predict_visitor_home_income_proportion', 'predict_segregation_index'],\n",
      "      dtype='object')\n"
     ]
    }
   ],
   "source": [
    "print(result_evaluate_df.columns)\n",
    "result_evaluate_df.to_csv(save_predict_segregation_df_name,index = False)"
   ],
   "metadata": {
    "collapsed": false,
    "ExecuteTime": {
     "end_time": "2024-05-20T06:30:44.498354500Z",
     "start_time": "2024-05-20T06:30:43.008478100Z"
    }
   },
   "id": "b8d17b0da13777e9"
  },
  {
   "cell_type": "markdown",
   "source": [
    "# 分析segregation结果"
   ],
   "metadata": {
    "collapsed": false
   },
   "id": "7fca813b1055e8a1"
  },
  {
   "cell_type": "code",
   "execution_count": 14,
   "outputs": [
    {
     "name": "stdout",
     "output_type": "stream",
     "text": [
      "real POI number：  5359\n",
      "predict POI number：  5369\n",
      "merge POI number:  5368\n"
     ]
    },
    {
     "data": {
      "text/plain": "              placekey  segregation_index  predict_segregation_index\n0  222-222@628-p9p-649           0.522749                   0.477396\n1  222-222@628-pmf-8vz           0.302084                   0.155135\n2  222-223@628-pmf-hkf           0.391451                   0.327259\n3  223-222@628-pgf-2zf           0.231533                   0.139607\n4  224-223@628-pmf-s89           0.592439                   0.399415",
      "text/html": "<div>\n<style scoped>\n    .dataframe tbody tr th:only-of-type {\n        vertical-align: middle;\n    }\n\n    .dataframe tbody tr th {\n        vertical-align: top;\n    }\n\n    .dataframe thead th {\n        text-align: right;\n    }\n</style>\n<table border=\"1\" class=\"dataframe\">\n  <thead>\n    <tr style=\"text-align: right;\">\n      <th></th>\n      <th>placekey</th>\n      <th>segregation_index</th>\n      <th>predict_segregation_index</th>\n    </tr>\n  </thead>\n  <tbody>\n    <tr>\n      <th>0</th>\n      <td>222-222@628-p9p-649</td>\n      <td>0.522749</td>\n      <td>0.477396</td>\n    </tr>\n    <tr>\n      <th>1</th>\n      <td>222-222@628-pmf-8vz</td>\n      <td>0.302084</td>\n      <td>0.155135</td>\n    </tr>\n    <tr>\n      <th>2</th>\n      <td>222-223@628-pmf-hkf</td>\n      <td>0.391451</td>\n      <td>0.327259</td>\n    </tr>\n    <tr>\n      <th>3</th>\n      <td>223-222@628-pgf-2zf</td>\n      <td>0.231533</td>\n      <td>0.139607</td>\n    </tr>\n    <tr>\n      <th>4</th>\n      <td>224-223@628-pmf-s89</td>\n      <td>0.592439</td>\n      <td>0.399415</td>\n    </tr>\n  </tbody>\n</table>\n</div>"
     },
     "execution_count": 14,
     "metadata": {},
     "output_type": "execute_result"
    }
   ],
   "source": [
    "# 绘制预测结果对比\n",
    "result_real_df = pd.read_csv(result_real_path,usecols=['placekey','segregation_index'])\n",
    "print('real POI number： ',result_real_df.shape[0])\n",
    "result_evaluate_df = pd.read_csv(save_predict_segregation_df_name,usecols=['placekey','predict_segregation_index'])\n",
    "print('predict POI number： ',result_evaluate_df.shape[0])\n",
    "\n",
    "result_df = pd.merge(result_real_df,result_evaluate_df,on='placekey',how='inner')\n",
    "result_df = result_df.dropna(subset=['segregation_index', 'predict_segregation_index'])\n",
    "print('merge POI number: ',result_df.shape[0])\n",
    "\n",
    "result_df.head()"
   ],
   "metadata": {
    "collapsed": false,
    "ExecuteTime": {
     "end_time": "2024-05-20T06:30:44.823853Z",
     "start_time": "2024-05-20T06:30:44.498354500Z"
    }
   },
   "id": "41035cc34e867b4f"
  },
  {
   "cell_type": "code",
   "execution_count": 15,
   "outputs": [],
   "source": [
    "# 设置直方图的边界\n",
    "act_range = 1\n",
    "predict_range = 1\n",
    "act_bins = np.linspace(0,act_range, 51)  # 从0到10，分成100段\n",
    "predict_bins = np.linspace(0, predict_range, 51)   # 从0到1，分成100段\n",
    "\n",
    "# 计算二维直方图\n",
    "histogram, xedges, yedges = np.histogram2d(\n",
    "    result_df['segregation_index'], result_df['predict_segregation_index'], bins=[act_bins, predict_bins],range=[[0,act_range],[0,predict_range]])\n",
    "\n",
    "# 归一化直方图，得到每个小格的概率密度\n",
    "histogram_normalized = histogram / histogram.sum()\n",
    "assert np.isclose(histogram_normalized.sum(), 1.)"
   ],
   "metadata": {
    "collapsed": false,
    "ExecuteTime": {
     "end_time": "2024-05-20T06:30:44.951048300Z",
     "start_time": "2024-05-20T06:30:44.807736800Z"
    }
   },
   "id": "a84914cd94035a4a"
  },
  {
   "cell_type": "code",
   "execution_count": 16,
   "outputs": [],
   "source": [
    "# 计算每个segregation区间内merged_df['predict_segregation_index']的平均值\n",
    "mean_diffs = []\n",
    "for i in range(len(act_bins) - 1):\n",
    "    # 找到落入当前箱子的merged_df['segregation_index']的元素\n",
    "    mask = (result_df['segregation_index'] >= act_bins[i]) & (result_df['segregation_index'] < act_bins[i + 1])\n",
    "    # 计算当前箱子内merged_df['predict_segregation_index']的平均值\n",
    "    if np.any(mask):  # 确保当前箱子内有数据点\n",
    "        mean_diffs.append(np.mean(result_df['predict_segregation_index'][mask]))\n",
    "    else:\n",
    "        mean_diffs.append(np.nan)  # 如果当前箱子内没有数据点，则使用NaN\n",
    "\n",
    "# 将计算得到的平均值列表转换为NumPy数组\n",
    "mean_diffs = np.array(mean_diffs)\n",
    "\n",
    "# 创建一个用于插值的细致x轴数组\n",
    "interp_x = np.linspace(act_bins[0], act_bins[-1], 500)\n",
    "# 插值计算平均值对应的y坐标\n",
    "interp_y = np.interp(interp_x, act_bins[:-1], mean_diffs)"
   ],
   "metadata": {
    "collapsed": false,
    "ExecuteTime": {
     "end_time": "2024-05-20T06:30:45.014990600Z",
     "start_time": "2024-05-20T06:30:44.855201900Z"
    }
   },
   "id": "786bb4261aa0c13d"
  },
  {
   "cell_type": "code",
   "execution_count": 17,
   "outputs": [
    {
     "data": {
      "text/plain": "<Figure size 432x288 with 2 Axes>",
      "image/png": "[encoded data removed]"
     },
     "metadata": {
      "needs_background": "light"
     },
     "output_type": "display_data"
    }
   ],
   "source": [
    "import matplotlib.pyplot as plt\n",
    "\n",
    "# 绘制热力图\n",
    "plt.imshow(histogram_normalized.T, origin='lower', extent=(0, act_range,  0, predict_range),\n",
    "           cmap='Blues', aspect='auto', interpolation='nearest')\n",
    "# 绘制平均值线\n",
    "plt.plot(interp_x, interp_y, color='black', linewidth=1)\n",
    "\n",
    "# 添加颜色条\n",
    "cbar = plt.colorbar()\n",
    "# 添加标题和轴标签\n",
    "plt.title('Actual vs Predict Segregation Index')\n",
    "plt.xlabel('Actual Segregation Index')\n",
    "plt.ylabel('Predict Segregation Index')\n",
    "\n",
    "# 显示图形\n",
    "plt.show()"
   ],
   "metadata": {
    "collapsed": false,
    "ExecuteTime": {
     "end_time": "2024-05-20T06:30:45.823365300Z",
     "start_time": "2024-05-20T06:30:44.902867800Z"
    }
   },
   "id": "48e9d9d5d3fc1102"
  },
  {
   "cell_type": "code",
   "execution_count": 18,
   "outputs": [
    {
     "name": "stdout",
     "output_type": "stream",
     "text": [
      "R-square: 0.15454794504210778\n",
      "RMSE: 0.2265539194824656\n"
     ]
    }
   ],
   "source": [
    "import pandas as pd\n",
    "from scipy.stats import linregress\n",
    "\n",
    "# 假设merged_df是一个已经存在的DataFrame，并且它包含'segregation_index'和'predict_segregation_index'两列。\n",
    "\n",
    "# 提取两列数据作为一维数组\n",
    "y_true = result_df['segregation_index'].values\n",
    "y_pred = result_df['predict_segregation_index'].values\n",
    "\n",
    "# 使用scipy的linregress函数来计算R-square\n",
    "slope, intercept, r_value, p_value, std_err = linregress(y_true, y_pred)\n",
    "\n",
    "# R-square的值就是r_value的平方\n",
    "r_square = r_value**2\n",
    "\n",
    "print(f'R-square: {r_square}')\n",
    "\n",
    "\n",
    "\n",
    "# 计算每个预测值与真实值之间的差的平方\n",
    "squared_differences = (y_true - y_pred) ** 2\n",
    "# 计算所有差的平方的平均值\n",
    "mean_squared_error = np.mean(squared_differences)\n",
    "# 计算RMSE\n",
    "rmse = np.sqrt(mean_squared_error)\n",
    "print(f'RMSE: {rmse}')"
   ],
   "metadata": {
    "collapsed": false,
    "ExecuteTime": {
     "end_time": "2024-05-20T06:30:45.855203900Z",
     "start_time": "2024-05-20T06:30:45.823365300Z"
    }
   },
   "id": "25f8ef9826b9289a"
  },
  {
   "cell_type": "code",
   "execution_count": 19,
   "outputs": [
    {
     "name": "stdout",
     "output_type": "stream",
     "text": [
      " - computing KDE in spherical coordinates\n"
     ]
    },
    {
     "data": {
      "text/plain": "<Figure size 504x504 with 1 Axes>",
      "image/png": "[encoded data removed]"
     },
     "metadata": {},
     "output_type": "display_data"
    }
   ],
   "source": [
    "# 绘制等高线图\n",
    "from sklearn.neighbors import KernelDensity\n",
    "from matplotlib.colors import ListedColormap, LinearSegmentedColormap\n",
    "\n",
    "newred = np.array([[0.0, 0.4470588235294118, 0.6980392156862745, ind/10] for ind in range(10)])\n",
    "newcmp = ListedColormap(newred) #自定义颜色映射（改为蓝色）\n",
    "\n",
    "test_data = np.array(result_df[['predict_segregation_index', 'segregation_index']].values)\n",
    "\n",
    "# # Set up the data grid for the contour plot\n",
    "X, Y = np.meshgrid(np.arange(0,1.05,0.05), np.arange(0,1.05,0.05))\n",
    "xy = np.vstack([Y.ravel(), X.ravel()]).T\n",
    "\n",
    "# Plot map of South America with distributions of each species\n",
    "fig = plt.figure(figsize=(7, 7),facecolor='white')\n",
    "ax = fig.add_subplot(111)\n",
    "\n",
    "# construct a kernel density estimate of the distribution\n",
    "print(\" - computing KDE in spherical coordinates\")\n",
    "kde = KernelDensity(bandwidth=0.06, metric=\"haversine\", kernel=\"gaussian\", algorithm=\"ball_tree\")\n",
    "kde.fit(test_data)\n",
    "\n",
    "# # evaluate only on the land: -9999 indicates ocean\n",
    "Z = np.exp(kde.score_samples(xy))\n",
    "Z = Z.reshape(X.shape)\n",
    "\n",
    "# plot contours of the density\n",
    "levels = np.linspace(0, Z.max(), 10)\n",
    "\n",
    "handle = plt.contour(X, Y, Z, levels=levels, cmap=newcmp)\n",
    "ax.clabel(handle, inline=True, fontsize=10)\n",
    "plt.xlim([0,1])\n",
    "plt.ylim([0,1])\n",
    "\n",
    "plt.xlabel('Segregation Predicted',fontsize=16)\n",
    "plt.ylabel('Segregation ',fontsize=16)\n",
    "\n",
    "plt.show()\n"
   ],
   "metadata": {
    "collapsed": false,
    "ExecuteTime": {
     "end_time": "2024-05-20T06:30:46.841518200Z",
     "start_time": "2024-05-20T06:30:45.823365300Z"
    }
   },
   "id": "c2cc8d8e58357c17"
  },
  {
   "cell_type": "code",
   "execution_count": 19,
   "outputs": [],
   "source": [],
   "metadata": {
    "collapsed": false,
    "ExecuteTime": {
     "end_time": "2024-05-20T06:30:46.841518200Z",
     "start_time": "2024-05-20T06:30:46.841518200Z"
    }
   },
   "id": "9ec4adbec7d81ffc"
  },
  {
   "cell_type": "code",
   "execution_count": 19,
   "outputs": [],
   "source": [],
   "metadata": {
    "collapsed": false,
    "ExecuteTime": {
     "end_time": "2024-05-20T06:30:46.841518200Z",
     "start_time": "2024-05-20T06:30:46.841518200Z"
    }
   },
   "id": "6da8accfd709056a"
  },
  {
   "cell_type": "markdown",
   "source": [
    "# 使用5km 内计算real index (运行一次就行)"
   ],
   "metadata": {
    "collapsed": false
   },
   "id": "c02aa3820a1e19fc"
  },
  {
   "cell_type": "code",
   "execution_count": 98,
   "outputs": [
    {
     "name": "stdout",
     "output_type": "stream",
     "text": [
      "(5359, 2)\n"
     ]
    },
    {
     "data": {
      "text/plain": "              placekey                                  visitor_home_cbgs\n0  222-222@628-p9p-649  {'421010349004': 59.30834518831, '421010363031...\n1  222-222@628-pmf-8vz  {'421010369003': 2061.1555297143886, '42101008...\n2  222-223@628-pmf-hkf  {'421010137001': 233.87777701232244, '42101014...\n3  223-222@628-pgf-2zf  {'421010369001': 2701.01593703775, '4210101100...\n4  224-223@628-pmf-s89  {'421010201021': 67.08450729520119, '421010028...",
      "text/html": "<div>\n<style scoped>\n    .dataframe tbody tr th:only-of-type {\n        vertical-align: middle;\n    }\n\n    .dataframe tbody tr th {\n        vertical-align: top;\n    }\n\n    .dataframe thead th {\n        text-align: right;\n    }\n</style>\n<table border=\"1\" class=\"dataframe\">\n  <thead>\n    <tr style=\"text-align: right;\">\n      <th></th>\n      <th>placekey</th>\n      <th>visitor_home_cbgs</th>\n    </tr>\n  </thead>\n  <tbody>\n    <tr>\n      <th>0</th>\n      <td>222-222@628-p9p-649</td>\n      <td>{'421010349004': 59.30834518831, '421010363031...</td>\n    </tr>\n    <tr>\n      <th>1</th>\n      <td>222-222@628-pmf-8vz</td>\n      <td>{'421010369003': 2061.1555297143886, '42101008...</td>\n    </tr>\n    <tr>\n      <th>2</th>\n      <td>222-223@628-pmf-hkf</td>\n      <td>{'421010137001': 233.87777701232244, '42101014...</td>\n    </tr>\n    <tr>\n      <th>3</th>\n      <td>223-222@628-pgf-2zf</td>\n      <td>{'421010369001': 2701.01593703775, '4210101100...</td>\n    </tr>\n    <tr>\n      <th>4</th>\n      <td>224-223@628-pmf-s89</td>\n      <td>{'421010201021': 67.08450729520119, '421010028...</td>\n    </tr>\n  </tbody>\n</table>\n</div>"
     },
     "execution_count": 98,
     "metadata": {},
     "output_type": "execute_result"
    }
   ],
   "source": [
    "specific_poi_dfs = pd.read_csv('/data2/fanbingbing/Segregation/data/Segregation/philadelphia/philadelphia2019_segregationindex_includingoneflow.csv',usecols=['placekey','visitor_home_cbgs'])\n",
    "result_real_df = pd.read_csv('/data2/fanbingbing/Segregation/data/Segregation/philadelphia/philadelphia_poi_with_yelp.csv',usecols=['placekey'])\n",
    "specific_poi_dfs = specific_poi_dfs[specific_poi_dfs['placekey'].isin (real_flow_df['placekey'])].reset_index(drop=True)\n",
    "print(specific_poi_dfs.shape)\n",
    "specific_poi_dfs.head()"
   ],
   "metadata": {
    "collapsed": false,
    "ExecuteTime": {
     "end_time": "2024-05-13T03:39:56.088113400Z",
     "start_time": "2024-05-13T03:39:55.125352400Z"
    }
   },
   "id": "f39c4dc01abfc704"
  },
  {
   "cell_type": "code",
   "execution_count": 53,
   "outputs": [
    {
     "data": {
      "text/plain": "              placekey  census_block_group\n0  222-222@628-p6z-b8v        421010315011\n1  222-222@628-p6z-b8v        421010315012\n2  222-222@628-p6z-b8v        421010315014\n3  222-222@628-p6z-b8v        421010315015\n4  222-222@628-p6z-b8v        421010315022",
      "text/html": "<div>\n<style scoped>\n    .dataframe tbody tr th:only-of-type {\n        vertical-align: middle;\n    }\n\n    .dataframe tbody tr th {\n        vertical-align: top;\n    }\n\n    .dataframe thead th {\n        text-align: right;\n    }\n</style>\n<table border=\"1\" class=\"dataframe\">\n  <thead>\n    <tr style=\"text-align: right;\">\n      <th></th>\n      <th>placekey</th>\n      <th>census_block_group</th>\n    </tr>\n  </thead>\n  <tbody>\n    <tr>\n      <th>0</th>\n      <td>222-222@628-p6z-b8v</td>\n      <td>421010315011</td>\n    </tr>\n    <tr>\n      <th>1</th>\n      <td>222-222@628-p6z-b8v</td>\n      <td>421010315012</td>\n    </tr>\n    <tr>\n      <th>2</th>\n      <td>222-222@628-p6z-b8v</td>\n      <td>421010315014</td>\n    </tr>\n    <tr>\n      <th>3</th>\n      <td>222-222@628-p6z-b8v</td>\n      <td>421010315015</td>\n    </tr>\n    <tr>\n      <th>4</th>\n      <td>222-222@628-p6z-b8v</td>\n      <td>421010315022</td>\n    </tr>\n  </tbody>\n</table>\n</div>"
     },
     "execution_count": 53,
     "metadata": {},
     "output_type": "execute_result"
    }
   ],
   "source": [
    "POI_flow_path = '/data2/fanbingbing/Segregation/data/baseline/philadelphia_all_ODpair_predictvsreal.csv'\n",
    "real_flow_df = pd.read_csv(POI_flow_path,usecols=['placekey', 'census_block_group'])\n",
    "real_flow_df.head()"
   ],
   "metadata": {
    "collapsed": false,
    "ExecuteTime": {
     "end_time": "2024-05-13T03:08:13.633924900Z",
     "start_time": "2024-05-13T03:08:12.637422700Z"
    }
   },
   "id": "93429cef534b2217"
  },
  {
   "cell_type": "code",
   "execution_count": 54,
   "outputs": [
    {
     "data": {
      "text/plain": "              placekey                                  visitor_home_cbgs  \\\n0  222-222@628-p9p-649  {'421010349004': 59.30834518831, '421010363031...   \n1  222-222@628-pmf-8vz  {'421010369003': 2061.1555297143886, '42101008...   \n2  222-223@628-pmf-hkf  {'421010137001': 233.87777701232244, '42101014...   \n3  223-222@628-pgf-2zf  {'421010369001': 2701.01593703775, '4210101100...   \n4  224-223@628-pmf-s89  {'421010201021': 67.08450729520119, '421010028...   \n\n                      visitor_home_cbgs_income_level  \n0  {'421010349004': nan, '421010363031': nan, '42...  \n1  {'421010369003': 3.0, '421010088023': 0.0, '42...  \n2  {'421010137001': 2.0, '421010146001': 1.0, '42...  \n3  {'421010369001': 1.5, '421010110001': 2.0, '42...  \n4  {'421010201021': nan, '421010028013': 3.0, '42...  ",
      "text/html": "<div>\n<style scoped>\n    .dataframe tbody tr th:only-of-type {\n        vertical-align: middle;\n    }\n\n    .dataframe tbody tr th {\n        vertical-align: top;\n    }\n\n    .dataframe thead th {\n        text-align: right;\n    }\n</style>\n<table border=\"1\" class=\"dataframe\">\n  <thead>\n    <tr style=\"text-align: right;\">\n      <th></th>\n      <th>placekey</th>\n      <th>visitor_home_cbgs</th>\n      <th>visitor_home_cbgs_income_level</th>\n    </tr>\n  </thead>\n  <tbody>\n    <tr>\n      <th>0</th>\n      <td>222-222@628-p9p-649</td>\n      <td>{'421010349004': 59.30834518831, '421010363031...</td>\n      <td>{'421010349004': nan, '421010363031': nan, '42...</td>\n    </tr>\n    <tr>\n      <th>1</th>\n      <td>222-222@628-pmf-8vz</td>\n      <td>{'421010369003': 2061.1555297143886, '42101008...</td>\n      <td>{'421010369003': 3.0, '421010088023': 0.0, '42...</td>\n    </tr>\n    <tr>\n      <th>2</th>\n      <td>222-223@628-pmf-hkf</td>\n      <td>{'421010137001': 233.87777701232244, '42101014...</td>\n      <td>{'421010137001': 2.0, '421010146001': 1.0, '42...</td>\n    </tr>\n    <tr>\n      <th>3</th>\n      <td>223-222@628-pgf-2zf</td>\n      <td>{'421010369001': 2701.01593703775, '4210101100...</td>\n      <td>{'421010369001': 1.5, '421010110001': 2.0, '42...</td>\n    </tr>\n    <tr>\n      <th>4</th>\n      <td>224-223@628-pmf-s89</td>\n      <td>{'421010201021': 67.08450729520119, '421010028...</td>\n      <td>{'421010201021': nan, '421010028013': 3.0, '42...</td>\n    </tr>\n  </tbody>\n</table>\n</div>"
     },
     "execution_count": 54,
     "metadata": {},
     "output_type": "execute_result"
    }
   ],
   "source": [
    "import json\n",
    "specific_features=pd.read_csv('/data2/fanbingbing/Segregation/data/Segregation/philadelphia/philadelphia_cbg_features.csv',usecols=['census_block_group','average_income_group'])\n",
    "\n",
    "def update_dict(row):\n",
    "    new_dict = row['visitor_home_cbgs'].copy() # 要加copy否则会同时修改\n",
    "    cbg_list = real_flow_df[real_flow_df['placekey']==row['placekey']].census_block_group\n",
    "    # print(cbg_list)\n",
    "    for key, value in new_dict.items():\n",
    "        if int(key) in cbg_list.values:\n",
    "            new_dict[key] = specific_features.loc[specific_features['census_block_group'] == int(key), 'average_income_group'].values[0]\n",
    "        else:\n",
    "            new_dict[key] = np.nan\n",
    "    return new_dict\n",
    "\n",
    "specific_poi_dfs['visitor_home_cbgs'] = specific_poi_dfs.visitor_home_cbgs.map(lambda x:eval(x))\n",
    "specific_poi_dfs['visitor_home_cbgs_income_level'] = specific_poi_dfs.apply(lambda row:update_dict(row), axis=1)\n",
    "\n",
    "specific_poi_dfs.head()"
   ],
   "metadata": {
    "collapsed": false,
    "ExecuteTime": {
     "end_time": "2024-05-13T03:16:09.071222Z",
     "start_time": "2024-05-13T03:08:37.180725800Z"
    }
   },
   "id": "ada9d38a8f02e0d8"
  },
  {
   "cell_type": "code",
   "execution_count": 55,
   "outputs": [
    {
     "data": {
      "text/plain": "              placekey                                  visitor_home_cbgs  \\\n0  222-222@628-p9p-649  {'421010349004': 59.30834518831, '421010363031...   \n1  222-222@628-pmf-8vz  {'421010369003': 2061.1555297143886, '42101008...   \n2  222-223@628-pmf-hkf  {'421010137001': 233.87777701232244, '42101014...   \n3  223-222@628-pgf-2zf  {'421010369001': 2701.01593703775, '4210101100...   \n4  224-223@628-pmf-s89  {'421010201021': 67.08450729520119, '421010028...   \n\n                      visitor_home_cbgs_income_level  \\\n0  {'421010349004': nan, '421010363031': nan, '42...   \n1  {'421010369003': 3.0, '421010088023': 0.0, '42...   \n2  {'421010137001': 2.0, '421010146001': 1.0, '42...   \n3  {'421010369001': 1.5, '421010110001': 2.0, '42...   \n4  {'421010201021': nan, '421010028013': 3.0, '42...   \n\n                 visitor_home_cbgs_income_proportion  \n0  {'sum': 5355.577721177871, 'level_0': 0, 'leve...  \n1  {'sum': 12332.588238077415, 'level_0': 4623.09...  \n2  {'sum': 14829.051938950599, 'level_0': 2699.30...  \n3  {'sum': 31697.22835927147, 'level_0': 10354.26...  \n4  {'sum': 11481.623601818981, 'level_0': 984.478...  ",
      "text/html": "<div>\n<style scoped>\n    .dataframe tbody tr th:only-of-type {\n        vertical-align: middle;\n    }\n\n    .dataframe tbody tr th {\n        vertical-align: top;\n    }\n\n    .dataframe thead th {\n        text-align: right;\n    }\n</style>\n<table border=\"1\" class=\"dataframe\">\n  <thead>\n    <tr style=\"text-align: right;\">\n      <th></th>\n      <th>placekey</th>\n      <th>visitor_home_cbgs</th>\n      <th>visitor_home_cbgs_income_level</th>\n      <th>visitor_home_cbgs_income_proportion</th>\n    </tr>\n  </thead>\n  <tbody>\n    <tr>\n      <th>0</th>\n      <td>222-222@628-p9p-649</td>\n      <td>{'421010349004': 59.30834518831, '421010363031...</td>\n      <td>{'421010349004': nan, '421010363031': nan, '42...</td>\n      <td>{'sum': 5355.577721177871, 'level_0': 0, 'leve...</td>\n    </tr>\n    <tr>\n      <th>1</th>\n      <td>222-222@628-pmf-8vz</td>\n      <td>{'421010369003': 2061.1555297143886, '42101008...</td>\n      <td>{'421010369003': 3.0, '421010088023': 0.0, '42...</td>\n      <td>{'sum': 12332.588238077415, 'level_0': 4623.09...</td>\n    </tr>\n    <tr>\n      <th>2</th>\n      <td>222-223@628-pmf-hkf</td>\n      <td>{'421010137001': 233.87777701232244, '42101014...</td>\n      <td>{'421010137001': 2.0, '421010146001': 1.0, '42...</td>\n      <td>{'sum': 14829.051938950599, 'level_0': 2699.30...</td>\n    </tr>\n    <tr>\n      <th>3</th>\n      <td>223-222@628-pgf-2zf</td>\n      <td>{'421010369001': 2701.01593703775, '4210101100...</td>\n      <td>{'421010369001': 1.5, '421010110001': 2.0, '42...</td>\n      <td>{'sum': 31697.22835927147, 'level_0': 10354.26...</td>\n    </tr>\n    <tr>\n      <th>4</th>\n      <td>224-223@628-pmf-s89</td>\n      <td>{'421010201021': 67.08450729520119, '421010028...</td>\n      <td>{'421010201021': nan, '421010028013': 3.0, '42...</td>\n      <td>{'sum': 11481.623601818981, 'level_0': 984.478...</td>\n    </tr>\n  </tbody>\n</table>\n</div>"
     },
     "execution_count": 55,
     "metadata": {},
     "output_type": "execute_result"
    }
   ],
   "source": [
    "# 将visitor_home_cbg_income_level中相同level的visitor人数求和\n",
    "# 保存在visitor_home_cbg_income_proportion中\n",
    "def calculate_total_people(row):\n",
    "    # print(row.name)\n",
    "    income_level = row['visitor_home_cbgs_income_level']\n",
    "    visitor_number = row['visitor_home_cbgs']\n",
    "    people_sum = {'sum': 0,'level_0':0,'level_1':0,'level_2':0,'level_3':0}\n",
    "    people_sum_keys_list = list(people_sum.keys())\n",
    "    \n",
    "    for keyl, valuel in income_level.items():\n",
    "        if not math.isnan(valuel):  #如果，先计算总数，然后对应类别加人数\n",
    "            for keyn, valuen in visitor_number.items():\n",
    "                if keyn == keyl:  # 这里假设将满足特定条件的键为'sum'的值相加\n",
    "                    people_sum['sum'] += valuen\n",
    "                    people_sum[people_sum_keys_list[int(valuel)+1]] += valuen\n",
    "    return people_sum\n",
    "\n",
    "specific_poi_dfs['visitor_home_cbgs_income_proportion'] = specific_poi_dfs.apply(calculate_total_people, axis=1)\n",
    "specific_poi_dfs.head()"
   ],
   "metadata": {
    "collapsed": false,
    "ExecuteTime": {
     "end_time": "2024-05-13T03:16:16.645455Z",
     "start_time": "2024-05-13T03:16:13.581037700Z"
    }
   },
   "id": "eda2db301b0def96"
  },
  {
   "cell_type": "code",
   "execution_count": 56,
   "outputs": [
    {
     "data": {
      "text/plain": "                 placekey                                  visitor_home_cbgs  \\\n0     222-222@628-p9p-649  {'421010349004': 59.30834518831, '421010363031...   \n1     222-222@628-pmf-8vz  {'421010369003': 2061.1555297143886, '42101008...   \n2     222-223@628-pmf-hkf  {'421010137001': 233.87777701232244, '42101014...   \n3     223-222@628-pgf-2zf  {'421010369001': 2701.01593703775, '4210101100...   \n4     224-223@628-pmf-s89  {'421010201021': 67.08450729520119, '421010028...   \n...                   ...                                                ...   \n5354  222-222@628-p8f-435  {'421010191002': 232.63333359156871, '42101018...   \n5355  222-222@628-pm4-xh5  {'421010024005': 150.63657645642252, '42101003...   \n5356  222-222@628-pmb-x5z  {'421010102003': 135.30889173230764, '42101003...   \n5357  222-224@628-pmc-n89  {'421010070002': 68.17160261486313, '421010144...   \n5358  223-222@628-pmf-ty9  {'421010008041': 266.87434433908277, '42101035...   \n\n                         visitor_home_cbgs_income_level  \\\n0     {'421010349004': nan, '421010363031': nan, '42...   \n1     {'421010369003': 3.0, '421010088023': 0.0, '42...   \n2     {'421010137001': 2.0, '421010146001': 1.0, '42...   \n3     {'421010369001': 1.5, '421010110001': 2.0, '42...   \n4     {'421010201021': nan, '421010028013': 3.0, '42...   \n...                                                 ...   \n5354  {'421010191002': 2.0, '421010188005': 1.0, '42...   \n5355  {'421010024005': 3.0, '421010031005': 1.0, '42...   \n5356  {'421010102003': nan, '421010033004': 0.0, '42...   \n5357  {'421010070002': nan, '421010144003': 2.0, '42...   \n5358  {'421010008041': 3.0, '421010353012': nan, '42...   \n\n                    visitor_home_cbgs_income_proportion  segregation_index  \n0     {'sum': 5355.577721177871, 'level_0': 0, 'leve...           0.522749  \n1     {'sum': 12332.588238077415, 'level_0': 4623.09...           0.302084  \n2     {'sum': 14829.051938950599, 'level_0': 2699.30...           0.391451  \n3     {'sum': 31697.22835927147, 'level_0': 10354.26...           0.231533  \n4     {'sum': 11481.623601818981, 'level_0': 984.478...           0.592439  \n...                                                 ...                ...  \n5354  {'sum': 852.988889835752, 'level_0': 0, 'level...           0.515152  \n5355  {'sum': 1743.080384710031, 'level_0': 279.7536...           0.242798  \n5356  {'sum': 947.1622421261535, 'level_0': 270.6177...           0.476190  \n5357  {'sum': 204.5148078445894, 'level_0': 0, 'leve...           0.666667  \n5358  {'sum': 1547.8711971666796, 'level_0': 213.499...           0.632184  \n\n[5359 rows x 5 columns]",
      "text/html": "<div>\n<style scoped>\n    .dataframe tbody tr th:only-of-type {\n        vertical-align: middle;\n    }\n\n    .dataframe tbody tr th {\n        vertical-align: top;\n    }\n\n    .dataframe thead th {\n        text-align: right;\n    }\n</style>\n<table border=\"1\" class=\"dataframe\">\n  <thead>\n    <tr style=\"text-align: right;\">\n      <th></th>\n      <th>placekey</th>\n      <th>visitor_home_cbgs</th>\n      <th>visitor_home_cbgs_income_level</th>\n      <th>visitor_home_cbgs_income_proportion</th>\n      <th>segregation_index</th>\n    </tr>\n  </thead>\n  <tbody>\n    <tr>\n      <th>0</th>\n      <td>222-222@628-p9p-649</td>\n      <td>{'421010349004': 59.30834518831, '421010363031...</td>\n      <td>{'421010349004': nan, '421010363031': nan, '42...</td>\n      <td>{'sum': 5355.577721177871, 'level_0': 0, 'leve...</td>\n      <td>0.522749</td>\n    </tr>\n    <tr>\n      <th>1</th>\n      <td>222-222@628-pmf-8vz</td>\n      <td>{'421010369003': 2061.1555297143886, '42101008...</td>\n      <td>{'421010369003': 3.0, '421010088023': 0.0, '42...</td>\n      <td>{'sum': 12332.588238077415, 'level_0': 4623.09...</td>\n      <td>0.302084</td>\n    </tr>\n    <tr>\n      <th>2</th>\n      <td>222-223@628-pmf-hkf</td>\n      <td>{'421010137001': 233.87777701232244, '42101014...</td>\n      <td>{'421010137001': 2.0, '421010146001': 1.0, '42...</td>\n      <td>{'sum': 14829.051938950599, 'level_0': 2699.30...</td>\n      <td>0.391451</td>\n    </tr>\n    <tr>\n      <th>3</th>\n      <td>223-222@628-pgf-2zf</td>\n      <td>{'421010369001': 2701.01593703775, '4210101100...</td>\n      <td>{'421010369001': 1.5, '421010110001': 2.0, '42...</td>\n      <td>{'sum': 31697.22835927147, 'level_0': 10354.26...</td>\n      <td>0.231533</td>\n    </tr>\n    <tr>\n      <th>4</th>\n      <td>224-223@628-pmf-s89</td>\n      <td>{'421010201021': 67.08450729520119, '421010028...</td>\n      <td>{'421010201021': nan, '421010028013': 3.0, '42...</td>\n      <td>{'sum': 11481.623601818981, 'level_0': 984.478...</td>\n      <td>0.592439</td>\n    </tr>\n    <tr>\n      <th>...</th>\n      <td>...</td>\n      <td>...</td>\n      <td>...</td>\n      <td>...</td>\n      <td>...</td>\n    </tr>\n    <tr>\n      <th>5354</th>\n      <td>222-222@628-p8f-435</td>\n      <td>{'421010191002': 232.63333359156871, '42101018...</td>\n      <td>{'421010191002': 2.0, '421010188005': 1.0, '42...</td>\n      <td>{'sum': 852.988889835752, 'level_0': 0, 'level...</td>\n      <td>0.515152</td>\n    </tr>\n    <tr>\n      <th>5355</th>\n      <td>222-222@628-pm4-xh5</td>\n      <td>{'421010024005': 150.63657645642252, '42101003...</td>\n      <td>{'421010024005': 3.0, '421010031005': 1.0, '42...</td>\n      <td>{'sum': 1743.080384710031, 'level_0': 279.7536...</td>\n      <td>0.242798</td>\n    </tr>\n    <tr>\n      <th>5356</th>\n      <td>222-222@628-pmb-x5z</td>\n      <td>{'421010102003': 135.30889173230764, '42101003...</td>\n      <td>{'421010102003': nan, '421010033004': 0.0, '42...</td>\n      <td>{'sum': 947.1622421261535, 'level_0': 270.6177...</td>\n      <td>0.476190</td>\n    </tr>\n    <tr>\n      <th>5357</th>\n      <td>222-224@628-pmc-n89</td>\n      <td>{'421010070002': 68.17160261486313, '421010144...</td>\n      <td>{'421010070002': nan, '421010144003': 2.0, '42...</td>\n      <td>{'sum': 204.5148078445894, 'level_0': 0, 'leve...</td>\n      <td>0.666667</td>\n    </tr>\n    <tr>\n      <th>5358</th>\n      <td>223-222@628-pmf-ty9</td>\n      <td>{'421010008041': 266.87434433908277, '42101035...</td>\n      <td>{'421010008041': 3.0, '421010353012': nan, '42...</td>\n      <td>{'sum': 1547.8711971666796, 'level_0': 213.499...</td>\n      <td>0.632184</td>\n    </tr>\n  </tbody>\n</table>\n<p>5359 rows × 5 columns</p>\n</div>"
     },
     "execution_count": 56,
     "metadata": {},
     "output_type": "execute_result"
    }
   ],
   "source": [
    "# 计算segregation_index : 2/3* (sum of |por_1234 - 0.25|)\n",
    "def calculate_segregation_index(row):\n",
    "    people_sum = row['visitor_home_cbgs_income_proportion']\n",
    "    people_sum_keys_list = list(people_sum.keys())\n",
    "    segregation_index = float(0)\n",
    "    sumnumber = people_sum[people_sum_keys_list[0]]\n",
    "    if sumnumber != 0: #因为有缺失的\n",
    "        for key_index in range(1, len(people_sum_keys_list)):  # 从第二个键值开始遍历\n",
    "            key = people_sum_keys_list[key_index]\n",
    "            value = people_sum[key]\n",
    "            segregation_index += abs(value/sumnumber-0.25)\n",
    "        segregation_index *= 2/3\n",
    "    else:\n",
    "        segregation_index = np.nan\n",
    "    return segregation_index\n",
    "\n",
    "\n",
    "specific_poi_dfs['segregation_index'] = specific_poi_dfs.apply(calculate_segregation_index,axis=1)\n",
    "specific_poi_dfs.head()"
   ],
   "metadata": {
    "collapsed": false,
    "ExecuteTime": {
     "end_time": "2024-05-13T03:16:16.792357900Z",
     "start_time": "2024-05-13T03:16:16.631962900Z"
    }
   },
   "id": "b54bedf5eca02ad9"
  },
  {
   "cell_type": "code",
   "execution_count": 57,
   "outputs": [],
   "source": [
    "specific_poi_dfs.to_csv('/data2/fanbingbing/Segregation/data/Segregation/philadelphia/philadelphia2019_segregationindex_includingoneflow_5km.csv',index=False)"
   ],
   "metadata": {
    "collapsed": false,
    "ExecuteTime": {
     "end_time": "2024-05-13T03:16:36.953712300Z",
     "start_time": "2024-05-13T03:16:35.875068800Z"
    }
   },
   "id": "bd6ba902d8ad6d69"
  },
  {
   "cell_type": "code",
   "execution_count": null,
   "outputs": [],
   "source": [],
   "metadata": {
    "collapsed": false
   },
   "id": "d2cc96169dc7790a"
  }
 ],
 "metadata": {
  "kernelspec": {
   "display_name": "Python 3",
   "language": "python",
   "name": "python3"
  },
  "language_info": {
   "codemirror_mode": {
    "name": "ipython",
    "version": 2
   },
   "file_extension": ".py",
   "mimetype": "text/x-python",
   "name": "python",
   "nbconvert_exporter": "python",
   "pygments_lexer": "ipython2",
   "version": "2.7.6"
  }
 },
 "nbformat": 4,
 "nbformat_minor": 5
}
